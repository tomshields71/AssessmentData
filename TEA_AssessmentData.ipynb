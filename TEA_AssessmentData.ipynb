{
 "cells": [
  {
   "cell_type": "code",
   "execution_count": null,
   "id": "6b0e8662",
   "metadata": {},
   "outputs": [],
   "source": []
  },
  {
   "cell_type": "markdown",
   "id": "22d318e8",
   "metadata": {},
   "source": [
    "# SCENARIO \n",
    "\n",
    "In SY 20-21, TEA required all Texas LEAs (Local Education Agencies such as a school district) to administer either the TX-KEA or mCLASS assessment to Kindergarten students in order to measure Kindergarten readiness. The Tx-KEA and mCLASS diagnostics employ different scales for scoring and evaluate different sets of skills. Initial analysis of Fall 2020 data indicates a 38 percentage point gap in Kindergarten readiness between the two tests; 76% of students who took Tx-KEA were found to be Kindergarten ready compared to just 38% of students who took mCLASS. \n",
    "\n",
    "Your task is to extract, analyze, and present data that will help the Early Childhood Education team understand to what extent the difference in readiness as measured by the tests is due to differences in the underlying populations of students taking each (as opposed to differences in test design and scoring). As mentioned above, your response should include the following three components:\n",
    "\n",
    "1)A SQL query you have written to aggregate and extract necessary data from the database,\n",
    "2)A data cleaning/analysis script,\n",
    "3)A brief narrative which describes key findings and includes data visualizations\n",
    "\n",
    "Please limit the analysis to students taking the English version of each diagnostic to avoid complications that arise from differences in the English and Spanish versions of mCLASS.\n",
    "\n",
    "Component 1:\n",
    "\n",
    "Below is a description of the database and an entity relationship diagram to help you prepare a SQL query that leverages the database to both extract and aggregate relevant data to prepare for analysis. Your analysis script should take as inputs the attached three data files (currently in csv format) which mimic the tables in the described database. Database Tables:\n",
    "\n",
    "1)MCLASS – student level performance on mCLASS diagnostic assessment.\n",
    "•Field ‘assessment_edition’ indicates whether the student took the English version of thetest (DIBELS) or the Spanish version (IDEL).\n",
    "•For field ‘composite_level’ values of ‘At Benchmark’ or ‘Above Benchmark’ indicatesKindergarten readiness.\n",
    "\n",
    "2)TXKEA – student level performance on Tx-KEA diagnostic assessment.\n",
    "•Field ‘language’ indicates whether the student took the English or Spanish version\n",
    "•For field ‘lit_screening_benchmark’ value of ‘On-Track’ indicates Kindergarten readiness.\n",
    "\n",
    "3)DEMO – student level demographic data.\n",
    "•Field ‘eco’ indicates whether the student is identified as ‘economically disadvantaged’\n",
    "•Field ‘spec_ed’ indicates whether the student receives special education services\n",
    "•Field ‘el’ indicates whether the student is identified as an English learner\n",
    "\n",
    "Component 2:\n",
    "Demonstrate how you prepared and analyzed the data in response to the scenario. For the data analysis script, Python is the preferred language but not a requirement. The script can be written in the programming language of your choice. Depending on your SQL query (because the database in component 1 is hypothetical), the first part of your data cleaning/analysis script may need to replicate some portion of the initial manipulation your SQL query accomplishes. \n",
    "\n",
    "Component 3: Please combine the narrative analysis and visualization in one file. Though Power BI is the preferred visualization software, the data presentation can be done using any software you choose (e.g. Tableau, Looker, Jupyter notebook, etc.)."
   ]
  },
  {
   "cell_type": "code",
   "execution_count": 1,
   "id": "30e1a705",
   "metadata": {},
   "outputs": [
    {
     "name": "stderr",
     "output_type": "stream",
     "text": [
      "<frozen importlib._bootstrap>:219: RuntimeWarning: scipy._lib.messagestream.MessageStream size changed, may indicate binary incompatibility. Expected 56 from C header, got 64 from PyObject\n"
     ]
    }
   ],
   "source": [
    "import pandas as pd\n",
    "import numpy as np\n",
    "import seaborn as sns\n",
    "import matplotlib.pyplot as plt\n",
    "from sklearn import preprocessing\n"
   ]
  },
  {
   "cell_type": "markdown",
   "id": "a166b5b5",
   "metadata": {},
   "source": [
    "The first thing I want to do is take a look at the shape of the data files so I can better decide how I should choose which join to perform."
   ]
  },
  {
   "cell_type": "code",
   "execution_count": 2,
   "id": "c692a05f",
   "metadata": {},
   "outputs": [
    {
     "name": "stderr",
     "output_type": "stream",
     "text": [
      "/var/folders/d2/b8_107b155z0478lwpx5ssrr0000gp/T/ipykernel_63612/2043099007.py:1: DtypeWarning: Columns (0) have mixed types. Specify dtype option on import or set low_memory=False.\n",
      "  demo = pd.read_csv('Data/DEMO.csv')\n"
     ]
    },
    {
     "data": {
      "text/html": [
       "<div>\n",
       "<style scoped>\n",
       "    .dataframe tbody tr th:only-of-type {\n",
       "        vertical-align: middle;\n",
       "    }\n",
       "\n",
       "    .dataframe tbody tr th {\n",
       "        vertical-align: top;\n",
       "    }\n",
       "\n",
       "    .dataframe thead th {\n",
       "        text-align: right;\n",
       "    }\n",
       "</style>\n",
       "<table border=\"1\" class=\"dataframe\">\n",
       "  <thead>\n",
       "    <tr style=\"text-align: right;\">\n",
       "      <th></th>\n",
       "      <th>student_id</th>\n",
       "      <th>district_id</th>\n",
       "      <th>ethnicity</th>\n",
       "      <th>eco</th>\n",
       "      <th>el</th>\n",
       "      <th>spec_ed</th>\n",
       "    </tr>\n",
       "  </thead>\n",
       "  <tbody>\n",
       "    <tr>\n",
       "      <th>0</th>\n",
       "      <td>97840593</td>\n",
       "      <td>798403</td>\n",
       "      <td>Black or African American</td>\n",
       "      <td>YES</td>\n",
       "      <td>NO</td>\n",
       "      <td>NO</td>\n",
       "    </tr>\n",
       "    <tr>\n",
       "      <th>1</th>\n",
       "      <td>885938600</td>\n",
       "      <td>53405</td>\n",
       "      <td>White</td>\n",
       "      <td>YES</td>\n",
       "      <td>NO</td>\n",
       "      <td>NO</td>\n",
       "    </tr>\n",
       "    <tr>\n",
       "      <th>2</th>\n",
       "      <td>871944576</td>\n",
       "      <td>798403</td>\n",
       "      <td>Black or African American</td>\n",
       "      <td>YES</td>\n",
       "      <td>NO</td>\n",
       "      <td>NO</td>\n",
       "    </tr>\n",
       "    <tr>\n",
       "      <th>3</th>\n",
       "      <td>818725252</td>\n",
       "      <td>53405</td>\n",
       "      <td>White</td>\n",
       "      <td>NO</td>\n",
       "      <td>NO</td>\n",
       "      <td>NO</td>\n",
       "    </tr>\n",
       "    <tr>\n",
       "      <th>4</th>\n",
       "      <td>702015143</td>\n",
       "      <td>800409</td>\n",
       "      <td>White</td>\n",
       "      <td>YES</td>\n",
       "      <td>NO</td>\n",
       "      <td>YES</td>\n",
       "    </tr>\n",
       "  </tbody>\n",
       "</table>\n",
       "</div>"
      ],
      "text/plain": [
       "  student_id  district_id                  ethnicity  eco  el spec_ed\n",
       "0   97840593       798403  Black or African American  YES  NO      NO\n",
       "1  885938600        53405                      White  YES  NO      NO\n",
       "2  871944576       798403  Black or African American  YES  NO      NO\n",
       "3  818725252        53405                      White   NO  NO      NO\n",
       "4  702015143       800409                      White  YES  NO     YES"
      ]
     },
     "execution_count": 2,
     "metadata": {},
     "output_type": "execute_result"
    }
   ],
   "source": [
    "demo = pd.read_csv('Data/DEMO.csv')\n",
    "demo.head()"
   ]
  },
  {
   "cell_type": "code",
   "execution_count": 3,
   "id": "1189ef95",
   "metadata": {},
   "outputs": [
    {
     "name": "stdout",
     "output_type": "stream",
     "text": [
      "<class 'pandas.core.frame.DataFrame'>\n",
      "RangeIndex: 174348 entries, 0 to 174347\n",
      "Data columns (total 6 columns):\n",
      " #   Column       Non-Null Count   Dtype \n",
      "---  ------       --------------   ----- \n",
      " 0   student_id   174348 non-null  object\n",
      " 1   district_id  174348 non-null  int64 \n",
      " 2   ethnicity    174348 non-null  object\n",
      " 3   eco          174348 non-null  object\n",
      " 4   el           174348 non-null  object\n",
      " 5   spec_ed      174348 non-null  object\n",
      "dtypes: int64(1), object(5)\n",
      "memory usage: 8.0+ MB\n"
     ]
    }
   ],
   "source": [
    "demo.info()"
   ]
  },
  {
   "cell_type": "code",
   "execution_count": 4,
   "id": "77debce9",
   "metadata": {},
   "outputs": [
    {
     "data": {
      "text/html": [
       "<div>\n",
       "<style scoped>\n",
       "    .dataframe tbody tr th:only-of-type {\n",
       "        vertical-align: middle;\n",
       "    }\n",
       "\n",
       "    .dataframe tbody tr th {\n",
       "        vertical-align: top;\n",
       "    }\n",
       "\n",
       "    .dataframe thead th {\n",
       "        text-align: right;\n",
       "    }\n",
       "</style>\n",
       "<table border=\"1\" class=\"dataframe\">\n",
       "  <thead>\n",
       "    <tr style=\"text-align: right;\">\n",
       "      <th></th>\n",
       "      <th>student_id</th>\n",
       "      <th>district_id</th>\n",
       "      <th>school_id</th>\n",
       "      <th>assessment_edition</th>\n",
       "      <th>composite_level</th>\n",
       "      <th>composite_score</th>\n",
       "    </tr>\n",
       "  </thead>\n",
       "  <tbody>\n",
       "    <tr>\n",
       "      <th>0</th>\n",
       "      <td>8878547139</td>\n",
       "      <td>806405.0</td>\n",
       "      <td>806405802</td>\n",
       "      <td>DIBELS 8th Edition</td>\n",
       "      <td>At Benchmark</td>\n",
       "      <td>306.0</td>\n",
       "    </tr>\n",
       "    <tr>\n",
       "      <th>1</th>\n",
       "      <td>8878132753</td>\n",
       "      <td>818408.0</td>\n",
       "      <td>818408807</td>\n",
       "      <td>DIBELS 8th Edition</td>\n",
       "      <td>Below Benchmark</td>\n",
       "      <td>291.0</td>\n",
       "    </tr>\n",
       "    <tr>\n",
       "      <th>2</th>\n",
       "      <td>8877357966</td>\n",
       "      <td>NaN</td>\n",
       "      <td>NaN</td>\n",
       "      <td>DIBELS 8th Edition</td>\n",
       "      <td>At Benchmark</td>\n",
       "      <td>314.0</td>\n",
       "    </tr>\n",
       "    <tr>\n",
       "      <th>3</th>\n",
       "      <td>8877359986</td>\n",
       "      <td>820405.0</td>\n",
       "      <td>820405805</td>\n",
       "      <td>DIBELS 8th Edition</td>\n",
       "      <td>At Benchmark</td>\n",
       "      <td>326.0</td>\n",
       "    </tr>\n",
       "    <tr>\n",
       "      <th>4</th>\n",
       "      <td>8877961413</td>\n",
       "      <td>820407.0</td>\n",
       "      <td>820407871</td>\n",
       "      <td>DIBELS 8th Edition</td>\n",
       "      <td>At Benchmark</td>\n",
       "      <td>308.0</td>\n",
       "    </tr>\n",
       "  </tbody>\n",
       "</table>\n",
       "</div>"
      ],
      "text/plain": [
       "   student_id  district_id  school_id  assessment_edition  composite_level  \\\n",
       "0  8878547139     806405.0  806405802  DIBELS 8th Edition     At Benchmark   \n",
       "1  8878132753     818408.0  818408807  DIBELS 8th Edition  Below Benchmark   \n",
       "2  8877357966          NaN        NaN  DIBELS 8th Edition     At Benchmark   \n",
       "3  8877359986     820405.0  820405805  DIBELS 8th Edition     At Benchmark   \n",
       "4  8877961413     820407.0  820407871  DIBELS 8th Edition     At Benchmark   \n",
       "\n",
       "   composite_score  \n",
       "0            306.0  \n",
       "1            291.0  \n",
       "2            314.0  \n",
       "3            326.0  \n",
       "4            308.0  "
      ]
     },
     "execution_count": 4,
     "metadata": {},
     "output_type": "execute_result"
    }
   ],
   "source": [
    "mclass = pd.read_csv('Data/MCLASS.csv')\n",
    "mclass.head()"
   ]
  },
  {
   "cell_type": "code",
   "execution_count": 5,
   "id": "73fe3263",
   "metadata": {},
   "outputs": [
    {
     "name": "stdout",
     "output_type": "stream",
     "text": [
      "<class 'pandas.core.frame.DataFrame'>\n",
      "RangeIndex: 63268 entries, 0 to 63267\n",
      "Data columns (total 6 columns):\n",
      " #   Column              Non-Null Count  Dtype  \n",
      "---  ------              --------------  -----  \n",
      " 0   student_id          63268 non-null  int64  \n",
      " 1   district_id         57028 non-null  float64\n",
      " 2   school_id           56676 non-null  object \n",
      " 3   assessment_edition  63268 non-null  object \n",
      " 4   composite_level     63268 non-null  object \n",
      " 5   composite_score     56124 non-null  float64\n",
      "dtypes: float64(2), int64(1), object(3)\n",
      "memory usage: 2.9+ MB\n"
     ]
    }
   ],
   "source": [
    "mclass.info()"
   ]
  },
  {
   "cell_type": "code",
   "execution_count": 6,
   "id": "942530ea",
   "metadata": {},
   "outputs": [
    {
     "data": {
      "text/html": [
       "<div>\n",
       "<style scoped>\n",
       "    .dataframe tbody tr th:only-of-type {\n",
       "        vertical-align: middle;\n",
       "    }\n",
       "\n",
       "    .dataframe tbody tr th {\n",
       "        vertical-align: top;\n",
       "    }\n",
       "\n",
       "    .dataframe thead th {\n",
       "        text-align: right;\n",
       "    }\n",
       "</style>\n",
       "<table border=\"1\" class=\"dataframe\">\n",
       "  <thead>\n",
       "    <tr style=\"text-align: right;\">\n",
       "      <th></th>\n",
       "      <th>district_id</th>\n",
       "      <th>student_id</th>\n",
       "      <th>language</th>\n",
       "      <th>lit_screening_benchmark</th>\n",
       "      <th>lit_screening_score</th>\n",
       "      <th>date</th>\n",
       "    </tr>\n",
       "  </thead>\n",
       "  <tbody>\n",
       "    <tr>\n",
       "      <th>0</th>\n",
       "      <td>70408</td>\n",
       "      <td>8878861576</td>\n",
       "      <td>English</td>\n",
       "      <td>Monitor</td>\n",
       "      <td>15</td>\n",
       "      <td>9/15/2020</td>\n",
       "    </tr>\n",
       "    <tr>\n",
       "      <th>1</th>\n",
       "      <td>808486</td>\n",
       "      <td>8878825752</td>\n",
       "      <td>English</td>\n",
       "      <td>On-Track</td>\n",
       "      <td>29</td>\n",
       "      <td>11/30/2020</td>\n",
       "    </tr>\n",
       "    <tr>\n",
       "      <th>2</th>\n",
       "      <td>801404</td>\n",
       "      <td>8878799239</td>\n",
       "      <td>English</td>\n",
       "      <td>Support</td>\n",
       "      <td>14</td>\n",
       "      <td>10/12/2020</td>\n",
       "    </tr>\n",
       "    <tr>\n",
       "      <th>3</th>\n",
       "      <td>808488</td>\n",
       "      <td>8878794629</td>\n",
       "      <td>English</td>\n",
       "      <td>On-Track</td>\n",
       "      <td>35</td>\n",
       "      <td>11/6/2020</td>\n",
       "    </tr>\n",
       "    <tr>\n",
       "      <th>4</th>\n",
       "      <td>808486</td>\n",
       "      <td>8878745384</td>\n",
       "      <td>English</td>\n",
       "      <td>On-Track</td>\n",
       "      <td>23</td>\n",
       "      <td>10/16/2020</td>\n",
       "    </tr>\n",
       "  </tbody>\n",
       "</table>\n",
       "</div>"
      ],
      "text/plain": [
       "   district_id  student_id language lit_screening_benchmark  \\\n",
       "0        70408  8878861576  English                 Monitor   \n",
       "1       808486  8878825752  English                On-Track   \n",
       "2       801404  8878799239  English                 Support   \n",
       "3       808488  8878794629  English                On-Track   \n",
       "4       808486  8878745384  English                On-Track   \n",
       "\n",
       "   lit_screening_score        date  \n",
       "0                   15   9/15/2020  \n",
       "1                   29  11/30/2020  \n",
       "2                   14  10/12/2020  \n",
       "3                   35   11/6/2020  \n",
       "4                   23  10/16/2020  "
      ]
     },
     "execution_count": 6,
     "metadata": {},
     "output_type": "execute_result"
    }
   ],
   "source": [
    "txkea = pd.read_csv('Data/TXKEA.csv')\n",
    "txkea.head()"
   ]
  },
  {
   "cell_type": "code",
   "execution_count": 7,
   "id": "b2648715",
   "metadata": {},
   "outputs": [
    {
     "name": "stdout",
     "output_type": "stream",
     "text": [
      "<class 'pandas.core.frame.DataFrame'>\n",
      "RangeIndex: 112048 entries, 0 to 112047\n",
      "Data columns (total 6 columns):\n",
      " #   Column                   Non-Null Count   Dtype \n",
      "---  ------                   --------------   ----- \n",
      " 0   district_id              112048 non-null  int64 \n",
      " 1   student_id               112048 non-null  int64 \n",
      " 2   language                 112048 non-null  object\n",
      " 3   lit_screening_benchmark  112048 non-null  object\n",
      " 4   lit_screening_score      112048 non-null  int64 \n",
      " 5   date                     112048 non-null  object\n",
      "dtypes: int64(3), object(3)\n",
      "memory usage: 5.1+ MB\n"
     ]
    }
   ],
   "source": [
    "txkea.info()"
   ]
  },
  {
   "cell_type": "markdown",
   "id": "5ee79357",
   "metadata": {},
   "source": [
    "After a cursory look at the data, the DEMO dataframe has the most rows and no null values so I will join the other two onto it merging the student_id columns."
   ]
  },
  {
   "cell_type": "code",
   "execution_count": 8,
   "id": "b6ba8443",
   "metadata": {},
   "outputs": [],
   "source": [
    "merged =demo.merge(txkea[['language', 'lit_screening_benchmark', 'student_id']], on='student_id', how='left')"
   ]
  },
  {
   "cell_type": "code",
   "execution_count": 9,
   "id": "bcda4701",
   "metadata": {},
   "outputs": [],
   "source": [
    "df = merged.merge(mclass[['student_id', 'assessment_edition', 'composite_level']], on='student_id', how='left')"
   ]
  },
  {
   "cell_type": "code",
   "execution_count": 10,
   "id": "93c34fbf",
   "metadata": {},
   "outputs": [
    {
     "data": {
      "text/html": [
       "<div>\n",
       "<style scoped>\n",
       "    .dataframe tbody tr th:only-of-type {\n",
       "        vertical-align: middle;\n",
       "    }\n",
       "\n",
       "    .dataframe tbody tr th {\n",
       "        vertical-align: top;\n",
       "    }\n",
       "\n",
       "    .dataframe thead th {\n",
       "        text-align: right;\n",
       "    }\n",
       "</style>\n",
       "<table border=\"1\" class=\"dataframe\">\n",
       "  <thead>\n",
       "    <tr style=\"text-align: right;\">\n",
       "      <th></th>\n",
       "      <th>student_id</th>\n",
       "      <th>district_id</th>\n",
       "      <th>ethnicity</th>\n",
       "      <th>eco</th>\n",
       "      <th>el</th>\n",
       "      <th>spec_ed</th>\n",
       "      <th>language</th>\n",
       "      <th>lit_screening_benchmark</th>\n",
       "      <th>assessment_edition</th>\n",
       "      <th>composite_level</th>\n",
       "    </tr>\n",
       "  </thead>\n",
       "  <tbody>\n",
       "    <tr>\n",
       "      <th>0</th>\n",
       "      <td>97840593</td>\n",
       "      <td>798403</td>\n",
       "      <td>Black or African American</td>\n",
       "      <td>YES</td>\n",
       "      <td>NO</td>\n",
       "      <td>NO</td>\n",
       "      <td>NaN</td>\n",
       "      <td>NaN</td>\n",
       "      <td>NaN</td>\n",
       "      <td>NaN</td>\n",
       "    </tr>\n",
       "    <tr>\n",
       "      <th>1</th>\n",
       "      <td>885938600</td>\n",
       "      <td>53405</td>\n",
       "      <td>White</td>\n",
       "      <td>YES</td>\n",
       "      <td>NO</td>\n",
       "      <td>NO</td>\n",
       "      <td>English</td>\n",
       "      <td>On-Track</td>\n",
       "      <td>NaN</td>\n",
       "      <td>NaN</td>\n",
       "    </tr>\n",
       "    <tr>\n",
       "      <th>2</th>\n",
       "      <td>871944576</td>\n",
       "      <td>798403</td>\n",
       "      <td>Black or African American</td>\n",
       "      <td>YES</td>\n",
       "      <td>NO</td>\n",
       "      <td>NO</td>\n",
       "      <td>English</td>\n",
       "      <td>On-Track</td>\n",
       "      <td>NaN</td>\n",
       "      <td>NaN</td>\n",
       "    </tr>\n",
       "    <tr>\n",
       "      <th>3</th>\n",
       "      <td>818725252</td>\n",
       "      <td>53405</td>\n",
       "      <td>White</td>\n",
       "      <td>NO</td>\n",
       "      <td>NO</td>\n",
       "      <td>NO</td>\n",
       "      <td>English</td>\n",
       "      <td>On-Track</td>\n",
       "      <td>NaN</td>\n",
       "      <td>NaN</td>\n",
       "    </tr>\n",
       "    <tr>\n",
       "      <th>4</th>\n",
       "      <td>702015143</td>\n",
       "      <td>800409</td>\n",
       "      <td>White</td>\n",
       "      <td>YES</td>\n",
       "      <td>NO</td>\n",
       "      <td>YES</td>\n",
       "      <td>English</td>\n",
       "      <td>On-Track</td>\n",
       "      <td>NaN</td>\n",
       "      <td>NaN</td>\n",
       "    </tr>\n",
       "  </tbody>\n",
       "</table>\n",
       "</div>"
      ],
      "text/plain": [
       "  student_id  district_id                  ethnicity  eco  el spec_ed  \\\n",
       "0   97840593       798403  Black or African American  YES  NO      NO   \n",
       "1  885938600        53405                      White  YES  NO      NO   \n",
       "2  871944576       798403  Black or African American  YES  NO      NO   \n",
       "3  818725252        53405                      White   NO  NO      NO   \n",
       "4  702015143       800409                      White  YES  NO     YES   \n",
       "\n",
       "  language lit_screening_benchmark assessment_edition composite_level  \n",
       "0      NaN                     NaN                NaN             NaN  \n",
       "1  English                On-Track                NaN             NaN  \n",
       "2  English                On-Track                NaN             NaN  \n",
       "3  English                On-Track                NaN             NaN  \n",
       "4  English                On-Track                NaN             NaN  "
      ]
     },
     "execution_count": 10,
     "metadata": {},
     "output_type": "execute_result"
    }
   ],
   "source": [
    "df.head()"
   ]
  },
  {
   "cell_type": "code",
   "execution_count": 11,
   "id": "17ea8840",
   "metadata": {},
   "outputs": [
    {
     "name": "stdout",
     "output_type": "stream",
     "text": [
      "<class 'pandas.core.frame.DataFrame'>\n",
      "Int64Index: 175683 entries, 0 to 175682\n",
      "Data columns (total 10 columns):\n",
      " #   Column                   Non-Null Count   Dtype \n",
      "---  ------                   --------------   ----- \n",
      " 0   student_id               175683 non-null  object\n",
      " 1   district_id              175683 non-null  int64 \n",
      " 2   ethnicity                175683 non-null  object\n",
      " 3   eco                      175683 non-null  object\n",
      " 4   el                       175683 non-null  object\n",
      " 5   spec_ed                  175683 non-null  object\n",
      " 6   language                 84237 non-null   object\n",
      " 7   lit_screening_benchmark  84237 non-null   object\n",
      " 8   assessment_edition       47600 non-null   object\n",
      " 9   composite_level          47600 non-null   object\n",
      "dtypes: int64(1), object(9)\n",
      "memory usage: 14.7+ MB\n"
     ]
    }
   ],
   "source": [
    "df.info()"
   ]
  },
  {
   "cell_type": "markdown",
   "id": "31f5bcd4",
   "metadata": {},
   "source": [
    "# Number Of Missing Values By Column\n",
    "\n",
    "There are many NaN values. Let's count the number of missing values in each column and sort them."
   ]
  },
  {
   "cell_type": "code",
   "execution_count": 12,
   "id": "0c2c966c",
   "metadata": {},
   "outputs": [
    {
     "data": {
      "text/html": [
       "<div>\n",
       "<style scoped>\n",
       "    .dataframe tbody tr th:only-of-type {\n",
       "        vertical-align: middle;\n",
       "    }\n",
       "\n",
       "    .dataframe tbody tr th {\n",
       "        vertical-align: top;\n",
       "    }\n",
       "\n",
       "    .dataframe thead th {\n",
       "        text-align: right;\n",
       "    }\n",
       "</style>\n",
       "<table border=\"1\" class=\"dataframe\">\n",
       "  <thead>\n",
       "    <tr style=\"text-align: right;\">\n",
       "      <th></th>\n",
       "      <th>count</th>\n",
       "      <th>%</th>\n",
       "    </tr>\n",
       "  </thead>\n",
       "  <tbody>\n",
       "    <tr>\n",
       "      <th>student_id</th>\n",
       "      <td>0</td>\n",
       "      <td>0.000000</td>\n",
       "    </tr>\n",
       "    <tr>\n",
       "      <th>district_id</th>\n",
       "      <td>0</td>\n",
       "      <td>0.000000</td>\n",
       "    </tr>\n",
       "    <tr>\n",
       "      <th>ethnicity</th>\n",
       "      <td>0</td>\n",
       "      <td>0.000000</td>\n",
       "    </tr>\n",
       "    <tr>\n",
       "      <th>eco</th>\n",
       "      <td>0</td>\n",
       "      <td>0.000000</td>\n",
       "    </tr>\n",
       "    <tr>\n",
       "      <th>el</th>\n",
       "      <td>0</td>\n",
       "      <td>0.000000</td>\n",
       "    </tr>\n",
       "    <tr>\n",
       "      <th>spec_ed</th>\n",
       "      <td>0</td>\n",
       "      <td>0.000000</td>\n",
       "    </tr>\n",
       "    <tr>\n",
       "      <th>language</th>\n",
       "      <td>91446</td>\n",
       "      <td>52.051707</td>\n",
       "    </tr>\n",
       "    <tr>\n",
       "      <th>lit_screening_benchmark</th>\n",
       "      <td>91446</td>\n",
       "      <td>52.051707</td>\n",
       "    </tr>\n",
       "    <tr>\n",
       "      <th>assessment_edition</th>\n",
       "      <td>128083</td>\n",
       "      <td>72.905745</td>\n",
       "    </tr>\n",
       "    <tr>\n",
       "      <th>composite_level</th>\n",
       "      <td>128083</td>\n",
       "      <td>72.905745</td>\n",
       "    </tr>\n",
       "  </tbody>\n",
       "</table>\n",
       "</div>"
      ],
      "text/plain": [
       "                          count          %\n",
       "student_id                    0   0.000000\n",
       "district_id                   0   0.000000\n",
       "ethnicity                     0   0.000000\n",
       "eco                           0   0.000000\n",
       "el                            0   0.000000\n",
       "spec_ed                       0   0.000000\n",
       "language                  91446  52.051707\n",
       "lit_screening_benchmark   91446  52.051707\n",
       "assessment_edition       128083  72.905745\n",
       "composite_level          128083  72.905745"
      ]
     },
     "execution_count": 12,
     "metadata": {},
     "output_type": "execute_result"
    }
   ],
   "source": [
    "\n",
    "missing = pd.concat([df.isnull().sum(), 100 * df.isnull().mean()], axis=1)\n",
    "missing.columns=['count', '%']\n",
    "missing.sort_values(by='count')"
   ]
  },
  {
   "cell_type": "markdown",
   "id": "6809dd0c",
   "metadata": {},
   "source": [
    "As i suspected there are a lot of NaN values in lit_screening_benchmark and composite_level columns. We are trying to make sense of the data based on these scores so if there is no score in either it can be removed from the dataframe."
   ]
  },
  {
   "cell_type": "code",
   "execution_count": 13,
   "id": "8e26a2fd",
   "metadata": {},
   "outputs": [],
   "source": [
    "df = df.dropna(subset=['lit_screening_benchmark','composite_level'], how='all')"
   ]
  },
  {
   "cell_type": "markdown",
   "id": "99a9e9c9",
   "metadata": {},
   "source": [
    "# Component 1 - Drop Spanish language versions of the test\n",
    "\n",
    "We must limit the analysis to students taking the English version of each diagnostic to avoid complications that arise from differences in the English and Spanish versions of mCLASS."
   ]
  },
  {
   "cell_type": "code",
   "execution_count": 14,
   "id": "42821bb2",
   "metadata": {},
   "outputs": [
    {
     "data": {
      "text/plain": [
       "DIBELS 8th Edition        42182\n",
       "IDEL Standard 3 Period     5418\n",
       "Name: assessment_edition, dtype: int64"
      ]
     },
     "execution_count": 14,
     "metadata": {},
     "output_type": "execute_result"
    }
   ],
   "source": [
    "#checking values\n",
    "df.assessment_edition.value_counts()"
   ]
  },
  {
   "cell_type": "code",
   "execution_count": 15,
   "id": "018d53b1",
   "metadata": {},
   "outputs": [
    {
     "data": {
      "text/plain": [
       "English    71032\n",
       "Spanish    13205\n",
       "Name: language, dtype: int64"
      ]
     },
     "execution_count": 15,
     "metadata": {},
     "output_type": "execute_result"
    }
   ],
   "source": [
    "df.language.value_counts()"
   ]
  },
  {
   "cell_type": "code",
   "execution_count": 16,
   "id": "26c1ee60",
   "metadata": {},
   "outputs": [],
   "source": [
    "#droping Spanish versions\n",
    "df.drop(df.loc[df['assessment_edition']=='IDEL Standard 3 Period'].index,inplace=True)"
   ]
  },
  {
   "cell_type": "code",
   "execution_count": 17,
   "id": "90de12aa",
   "metadata": {},
   "outputs": [
    {
     "data": {
      "text/plain": [
       "DIBELS 8th Edition    42182\n",
       "Name: assessment_edition, dtype: int64"
      ]
     },
     "execution_count": 17,
     "metadata": {},
     "output_type": "execute_result"
    }
   ],
   "source": [
    "df.assessment_edition.value_counts()"
   ]
  },
  {
   "cell_type": "code",
   "execution_count": 18,
   "id": "9b0eda40",
   "metadata": {},
   "outputs": [],
   "source": [
    "df.drop(df.loc[df['language']=='Spanish'].index,inplace=True)"
   ]
  },
  {
   "cell_type": "code",
   "execution_count": 19,
   "id": "41c86082",
   "metadata": {},
   "outputs": [
    {
     "data": {
      "text/plain": [
       "English    71026\n",
       "Name: language, dtype: int64"
      ]
     },
     "execution_count": 19,
     "metadata": {},
     "output_type": "execute_result"
    }
   ],
   "source": [
    "df.language.value_counts()"
   ]
  },
  {
   "cell_type": "code",
   "execution_count": 20,
   "id": "84e943e2",
   "metadata": {},
   "outputs": [],
   "source": [
    "df.drop(['language', 'assessment_edition'],axis=1,inplace=True)\n"
   ]
  },
  {
   "cell_type": "code",
   "execution_count": 21,
   "id": "0611098c",
   "metadata": {},
   "outputs": [
    {
     "data": {
      "text/html": [
       "<div>\n",
       "<style scoped>\n",
       "    .dataframe tbody tr th:only-of-type {\n",
       "        vertical-align: middle;\n",
       "    }\n",
       "\n",
       "    .dataframe tbody tr th {\n",
       "        vertical-align: top;\n",
       "    }\n",
       "\n",
       "    .dataframe thead th {\n",
       "        text-align: right;\n",
       "    }\n",
       "</style>\n",
       "<table border=\"1\" class=\"dataframe\">\n",
       "  <thead>\n",
       "    <tr style=\"text-align: right;\">\n",
       "      <th></th>\n",
       "      <th>student_id</th>\n",
       "      <th>district_id</th>\n",
       "      <th>ethnicity</th>\n",
       "      <th>eco</th>\n",
       "      <th>el</th>\n",
       "      <th>spec_ed</th>\n",
       "      <th>lit_screening_benchmark</th>\n",
       "      <th>composite_level</th>\n",
       "    </tr>\n",
       "  </thead>\n",
       "  <tbody>\n",
       "    <tr>\n",
       "      <th>1</th>\n",
       "      <td>885938600</td>\n",
       "      <td>53405</td>\n",
       "      <td>White</td>\n",
       "      <td>YES</td>\n",
       "      <td>NO</td>\n",
       "      <td>NO</td>\n",
       "      <td>On-Track</td>\n",
       "      <td>NaN</td>\n",
       "    </tr>\n",
       "    <tr>\n",
       "      <th>2</th>\n",
       "      <td>871944576</td>\n",
       "      <td>798403</td>\n",
       "      <td>Black or African American</td>\n",
       "      <td>YES</td>\n",
       "      <td>NO</td>\n",
       "      <td>NO</td>\n",
       "      <td>On-Track</td>\n",
       "      <td>NaN</td>\n",
       "    </tr>\n",
       "    <tr>\n",
       "      <th>3</th>\n",
       "      <td>818725252</td>\n",
       "      <td>53405</td>\n",
       "      <td>White</td>\n",
       "      <td>NO</td>\n",
       "      <td>NO</td>\n",
       "      <td>NO</td>\n",
       "      <td>On-Track</td>\n",
       "      <td>NaN</td>\n",
       "    </tr>\n",
       "    <tr>\n",
       "      <th>4</th>\n",
       "      <td>702015143</td>\n",
       "      <td>800409</td>\n",
       "      <td>White</td>\n",
       "      <td>YES</td>\n",
       "      <td>NO</td>\n",
       "      <td>YES</td>\n",
       "      <td>On-Track</td>\n",
       "      <td>NaN</td>\n",
       "    </tr>\n",
       "    <tr>\n",
       "      <th>5</th>\n",
       "      <td>717968813</td>\n",
       "      <td>48403</td>\n",
       "      <td>Two or more races</td>\n",
       "      <td>YES</td>\n",
       "      <td>NO</td>\n",
       "      <td>NO</td>\n",
       "      <td>On-Track</td>\n",
       "      <td>NaN</td>\n",
       "    </tr>\n",
       "  </tbody>\n",
       "</table>\n",
       "</div>"
      ],
      "text/plain": [
       "  student_id  district_id                  ethnicity  eco  el spec_ed  \\\n",
       "1  885938600        53405                      White  YES  NO      NO   \n",
       "2  871944576       798403  Black or African American  YES  NO      NO   \n",
       "3  818725252        53405                      White   NO  NO      NO   \n",
       "4  702015143       800409                      White  YES  NO     YES   \n",
       "5  717968813        48403          Two or more races  YES  NO      NO   \n",
       "\n",
       "  lit_screening_benchmark composite_level  \n",
       "1                On-Track             NaN  \n",
       "2                On-Track             NaN  \n",
       "3                On-Track             NaN  \n",
       "4                On-Track             NaN  \n",
       "5                On-Track             NaN  "
      ]
     },
     "execution_count": 21,
     "metadata": {},
     "output_type": "execute_result"
    }
   ],
   "source": [
    "df.head()"
   ]
  },
  {
   "cell_type": "markdown",
   "id": "8cf757af",
   "metadata": {},
   "source": [
    "# Ensure that no rows have values for both MCLASS and TXKEA assessments"
   ]
  },
  {
   "cell_type": "code",
   "execution_count": 22,
   "id": "75688e2f",
   "metadata": {},
   "outputs": [
    {
     "data": {
      "text/html": [
       "<div>\n",
       "<style scoped>\n",
       "    .dataframe tbody tr th:only-of-type {\n",
       "        vertical-align: middle;\n",
       "    }\n",
       "\n",
       "    .dataframe tbody tr th {\n",
       "        vertical-align: top;\n",
       "    }\n",
       "\n",
       "    .dataframe thead th {\n",
       "        text-align: right;\n",
       "    }\n",
       "</style>\n",
       "<table border=\"1\" class=\"dataframe\">\n",
       "  <thead>\n",
       "    <tr style=\"text-align: right;\">\n",
       "      <th></th>\n",
       "      <th>count</th>\n",
       "      <th>%</th>\n",
       "    </tr>\n",
       "  </thead>\n",
       "  <tbody>\n",
       "    <tr>\n",
       "      <th>student_id</th>\n",
       "      <td>0</td>\n",
       "      <td>0.000000</td>\n",
       "    </tr>\n",
       "    <tr>\n",
       "      <th>district_id</th>\n",
       "      <td>0</td>\n",
       "      <td>0.000000</td>\n",
       "    </tr>\n",
       "    <tr>\n",
       "      <th>ethnicity</th>\n",
       "      <td>0</td>\n",
       "      <td>0.000000</td>\n",
       "    </tr>\n",
       "    <tr>\n",
       "      <th>eco</th>\n",
       "      <td>0</td>\n",
       "      <td>0.000000</td>\n",
       "    </tr>\n",
       "    <tr>\n",
       "      <th>el</th>\n",
       "      <td>0</td>\n",
       "      <td>0.000000</td>\n",
       "    </tr>\n",
       "    <tr>\n",
       "      <th>spec_ed</th>\n",
       "      <td>0</td>\n",
       "      <td>0.000000</td>\n",
       "    </tr>\n",
       "    <tr>\n",
       "      <th>lit_screening_benchmark</th>\n",
       "      <td>41852</td>\n",
       "      <td>37.077198</td>\n",
       "    </tr>\n",
       "    <tr>\n",
       "      <th>composite_level</th>\n",
       "      <td>70701</td>\n",
       "      <td>62.634880</td>\n",
       "    </tr>\n",
       "  </tbody>\n",
       "</table>\n",
       "</div>"
      ],
      "text/plain": [
       "                         count          %\n",
       "student_id                   0   0.000000\n",
       "district_id                  0   0.000000\n",
       "ethnicity                    0   0.000000\n",
       "eco                          0   0.000000\n",
       "el                           0   0.000000\n",
       "spec_ed                      0   0.000000\n",
       "lit_screening_benchmark  41852  37.077198\n",
       "composite_level          70701  62.634880"
      ]
     },
     "execution_count": 22,
     "metadata": {},
     "output_type": "execute_result"
    }
   ],
   "source": [
    "missing = pd.concat([df.isnull().sum(), 100 * df.isnull().mean()], axis=1)\n",
    "missing.columns=['count', '%']\n",
    "missing.sort_values(by='count')"
   ]
  },
  {
   "cell_type": "code",
   "execution_count": 23,
   "id": "87ca03ea",
   "metadata": {},
   "outputs": [
    {
     "data": {
      "text/plain": [
       "(112878, 8)"
      ]
     },
     "execution_count": 23,
     "metadata": {},
     "output_type": "execute_result"
    }
   ],
   "source": [
    "df.shape"
   ]
  },
  {
   "cell_type": "markdown",
   "id": "9d1921e7",
   "metadata": {},
   "source": [
    "41852 + 70701 does not equal 112878 so it looks like we have students who have taken both assessments. Let's make sure by subsetting the data frame."
   ]
  },
  {
   "cell_type": "code",
   "execution_count": 24,
   "id": "c72f133a",
   "metadata": {},
   "outputs": [
    {
     "data": {
      "text/html": [
       "<div>\n",
       "<style scoped>\n",
       "    .dataframe tbody tr th:only-of-type {\n",
       "        vertical-align: middle;\n",
       "    }\n",
       "\n",
       "    .dataframe tbody tr th {\n",
       "        vertical-align: top;\n",
       "    }\n",
       "\n",
       "    .dataframe thead th {\n",
       "        text-align: right;\n",
       "    }\n",
       "</style>\n",
       "<table border=\"1\" class=\"dataframe\">\n",
       "  <thead>\n",
       "    <tr style=\"text-align: right;\">\n",
       "      <th></th>\n",
       "      <th>student_id</th>\n",
       "      <th>district_id</th>\n",
       "      <th>ethnicity</th>\n",
       "      <th>eco</th>\n",
       "      <th>el</th>\n",
       "      <th>spec_ed</th>\n",
       "      <th>lit_screening_benchmark</th>\n",
       "      <th>composite_level</th>\n",
       "    </tr>\n",
       "  </thead>\n",
       "  <tbody>\n",
       "    <tr>\n",
       "      <th>75</th>\n",
       "      <td>8877182676</td>\n",
       "      <td>883408</td>\n",
       "      <td>Black or African American</td>\n",
       "      <td>YES</td>\n",
       "      <td>NO</td>\n",
       "      <td>NO</td>\n",
       "      <td>Support</td>\n",
       "      <td>Below Benchmark</td>\n",
       "    </tr>\n",
       "    <tr>\n",
       "      <th>663</th>\n",
       "      <td>8895345178</td>\n",
       "      <td>874406</td>\n",
       "      <td>White</td>\n",
       "      <td>YES</td>\n",
       "      <td>NO</td>\n",
       "      <td>NO</td>\n",
       "      <td>On-Track</td>\n",
       "      <td>Below Benchmark</td>\n",
       "    </tr>\n",
       "    <tr>\n",
       "      <th>856</th>\n",
       "      <td>8869266971</td>\n",
       "      <td>883408</td>\n",
       "      <td>Hispanic/Latino</td>\n",
       "      <td>YES</td>\n",
       "      <td>NO</td>\n",
       "      <td>NO</td>\n",
       "      <td>On-Track</td>\n",
       "      <td>At Benchmark</td>\n",
       "    </tr>\n",
       "    <tr>\n",
       "      <th>898</th>\n",
       "      <td>8865759575</td>\n",
       "      <td>874406</td>\n",
       "      <td>White</td>\n",
       "      <td>YES</td>\n",
       "      <td>NO</td>\n",
       "      <td>NO</td>\n",
       "      <td>On-Track</td>\n",
       "      <td>Above Benchmark</td>\n",
       "    </tr>\n",
       "    <tr>\n",
       "      <th>1025</th>\n",
       "      <td>8858113755</td>\n",
       "      <td>874406</td>\n",
       "      <td>White</td>\n",
       "      <td>YES</td>\n",
       "      <td>NO</td>\n",
       "      <td>NO</td>\n",
       "      <td>On-Track</td>\n",
       "      <td>At Benchmark</td>\n",
       "    </tr>\n",
       "  </tbody>\n",
       "</table>\n",
       "</div>"
      ],
      "text/plain": [
       "      student_id  district_id                  ethnicity  eco  el spec_ed  \\\n",
       "75    8877182676       883408  Black or African American  YES  NO      NO   \n",
       "663   8895345178       874406                      White  YES  NO      NO   \n",
       "856   8869266971       883408            Hispanic/Latino  YES  NO      NO   \n",
       "898   8865759575       874406                      White  YES  NO      NO   \n",
       "1025  8858113755       874406                      White  YES  NO      NO   \n",
       "\n",
       "     lit_screening_benchmark  composite_level  \n",
       "75                   Support  Below Benchmark  \n",
       "663                 On-Track  Below Benchmark  \n",
       "856                 On-Track     At Benchmark  \n",
       "898                 On-Track  Above Benchmark  \n",
       "1025                On-Track     At Benchmark  "
      ]
     },
     "execution_count": 24,
     "metadata": {},
     "output_type": "execute_result"
    }
   ],
   "source": [
    "both = df[df[['lit_screening_benchmark', 'composite_level']].notnull().all(1)]\n",
    "both.head()"
   ]
  },
  {
   "cell_type": "code",
   "execution_count": 25,
   "id": "19600ae1",
   "metadata": {},
   "outputs": [
    {
     "name": "stdout",
     "output_type": "stream",
     "text": [
      "Well Below Benchmark    126\n",
      "Above Benchmark          76\n",
      "At Benchmark             69\n",
      "Below Benchmark          54\n",
      "Name: composite_level, dtype: int64\n",
      "\n",
      "On-Track    233\n",
      "Support      56\n",
      "Monitor      36\n",
      "Name: lit_screening_benchmark, dtype: int64\n"
     ]
    }
   ],
   "source": [
    "both_mclass_totals = both.composite_level.value_counts()\n",
    "both_txkea_totals  = both.lit_screening_benchmark.value_counts()\n",
    "print(both_mclass_totals)\n",
    "print(\"\")\n",
    "print(both_txkea_totals)"
   ]
  },
  {
   "cell_type": "code",
   "execution_count": 26,
   "id": "c710a4cc",
   "metadata": {},
   "outputs": [
    {
     "data": {
      "text/plain": [
       "Text(0.5, 1.0, 'TXKEA Assesessment Scores for Students Who Took Both Assessments ')"
      ]
     },
     "execution_count": 26,
     "metadata": {},
     "output_type": "execute_result"
    },
    {
     "data": {
      "image/png": "[encoded data removed]",
      "text/plain": [
       "<Figure size 432x288 with 1 Axes>"
      ]
     },
     "metadata": {
      "needs_background": "light"
     },
     "output_type": "display_data"
    }
   ],
   "source": [
    "ax = sns.histplot(data = both, x = 'lit_screening_benchmark')\n",
    "ax.set_title('TXKEA Assesessment Scores for Students Who Took Both Assessments ', fontsize=20)"
   ]
  },
  {
   "cell_type": "code",
   "execution_count": 27,
   "id": "a59c2432",
   "metadata": {},
   "outputs": [
    {
     "data": {
      "text/plain": [
       "Text(0.5, 1.0, 'MCLASS Assesessment Scores for Students Who Took Both Assessments ')"
      ]
     },
     "execution_count": 27,
     "metadata": {},
     "output_type": "execute_result"
    },
    {
     "data": {
      "image/png": "[encoded data removed]",
      "text/plain": [
       "<Figure size 432x288 with 1 Axes>"
      ]
     },
     "metadata": {
      "needs_background": "light"
     },
     "output_type": "display_data"
    }
   ],
   "source": [
    "ax = sns.histplot(data = both, x = 'composite_level')\n",
    "ax.set_title('MCLASS Assesessment Scores for Students Who Took Both Assessments ', fontsize=20)"
   ]
  },
  {
   "cell_type": "markdown",
   "id": "3f8fe9e8",
   "metadata": {},
   "source": [
    "So 325 students have taken both versions of the test. We can also see conflicting results. This is a small sample but could be useful later when comparing the two assessments."
   ]
  },
  {
   "cell_type": "markdown",
   "id": "235925c3",
   "metadata": {},
   "source": [
    "# Assessment Scoring\n",
    "\n",
    "Let's take a quick look at each assessments outcome."
   ]
  },
  {
   "cell_type": "code",
   "execution_count": 28,
   "id": "07a69a4e",
   "metadata": {},
   "outputs": [
    {
     "data": {
      "text/plain": [
       "On-Track    53543\n",
       "Support     10808\n",
       "Monitor      6675\n",
       "Name: lit_screening_benchmark, dtype: int64"
      ]
     },
     "execution_count": 28,
     "metadata": {},
     "output_type": "execute_result"
    }
   ],
   "source": [
    "df.lit_screening_benchmark.value_counts()"
   ]
  },
  {
   "cell_type": "code",
   "execution_count": 32,
   "id": "85ee5274",
   "metadata": {},
   "outputs": [
    {
     "data": {
      "text/plain": [
       "Text(0.5, 1.0, 'TXKEA Assesessment Scores Overall ')"
      ]
     },
     "execution_count": 32,
     "metadata": {},
     "output_type": "execute_result"
    },
    {
     "data": {
      "image/png": "[encoded data removed]",
      "text/plain": [
       "<Figure size 432x288 with 1 Axes>"
      ]
     },
     "metadata": {
      "needs_background": "light"
     },
     "output_type": "display_data"
    }
   ],
   "source": [
    "ax = sns.histplot(data = df, x = 'lit_screening_benchmark')\n",
    "ax.set_title('TXKEA Assesessment Scores Overall ', fontsize=20)"
   ]
  },
  {
   "cell_type": "code",
   "execution_count": 33,
   "id": "0ef3740a",
   "metadata": {},
   "outputs": [
    {
     "data": {
      "text/plain": [
       "Well Below Benchmark    18910\n",
       "Above Benchmark          8620\n",
       "Below Benchmark          8098\n",
       "At Benchmark             6549\n",
       "Name: composite_level, dtype: int64"
      ]
     },
     "execution_count": 33,
     "metadata": {},
     "output_type": "execute_result"
    }
   ],
   "source": [
    "df.composite_level.value_counts()"
   ]
  },
  {
   "cell_type": "code",
   "execution_count": 34,
   "id": "50ac2914",
   "metadata": {},
   "outputs": [
    {
     "data": {
      "text/plain": [
       "Text(0.5, 1.0, 'MCLASS Assesessment Scores Overall ')"
      ]
     },
     "execution_count": 34,
     "metadata": {},
     "output_type": "execute_result"
    },
    {
     "data": {
      "image/png": "[encoded data removed]",
      "text/plain": [
       "<Figure size 432x288 with 1 Axes>"
      ]
     },
     "metadata": {
      "needs_background": "light"
     },
     "output_type": "display_data"
    }
   ],
   "source": [
    "ax=sns.histplot(data = df, x = 'composite_level')\n",
    "ax.set_title('MCLASS Assesessment Scores Overall ', fontsize=20)"
   ]
  },
  {
   "cell_type": "markdown",
   "id": "7f09e0ca",
   "metadata": {},
   "source": [
    "There is a very big difference in the outcomes of either test as is indicated in the instructions."
   ]
  },
  {
   "cell_type": "code",
   "execution_count": null,
   "id": "3118c060",
   "metadata": {},
   "outputs": [],
   "source": []
  },
  {
   "cell_type": "code",
   "execution_count": null,
   "id": "3831a1a4",
   "metadata": {},
   "outputs": [],
   "source": []
  }
 ],
 "metadata": {
  "kernelspec": {
   "display_name": "Python 3 (ipykernel)",
   "language": "python",
   "name": "python3"
  },
  "language_info": {
   "codemirror_mode": {
    "name": "ipython",
    "version": 3
   },
   "file_extension": ".py",
   "mimetype": "text/x-python",
   "name": "python",
   "nbconvert_exporter": "python",
   "pygments_lexer": "ipython3",
   "version": "3.8.13"
  }
 },
 "nbformat": 4,
 "nbformat_minor": 5
}
