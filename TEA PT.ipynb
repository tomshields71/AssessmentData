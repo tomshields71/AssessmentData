{
 "cells": [
  {
   "cell_type": "markdown",
   "id": "456c467e",
   "metadata": {},
   "source": [
    "# SCENARIO \n",
    "\n",
    "In SY 20-21, TEA required all Texas LEAs (Local Education Agencies such as a school district) to administer either the TX-KEA or mCLASS assessment to Kindergarten students in order to measure Kindergarten readiness. The Tx-KEA and mCLASS diagnostics employ different scales for scoring and evaluate different sets of skills. Initial analysis of Fall 2020 data indicates a 38 percentage point gap in Kindergarten readiness between the two tests; 76% of students who took Tx-KEA were found to be Kindergarten ready compared to just 38% of students who took mCLASS. \n",
    "\n",
    "Your task is to extract, analyze, and present data that will help the Early Childhood Education team understand to what extent the difference in readiness as measured by the tests is due to differences in the underlying populations of students taking each (as opposed to differences in test design and scoring). As mentioned above, your response should include the following three components:\n",
    "\n",
    "1)A SQL query you have written to aggregate and extract necessary data from the database,\n",
    "2)A data cleaning/analysis script,\n",
    "3)A brief narrative which describes key findings and includes data visualizations\n",
    "\n",
    "Please limit the analysis to students taking the English version of each diagnostic to avoid complications that arise from differences in the English and Spanish versions of mCLASS.\n",
    "\n",
    "Component 1:\n",
    "\n",
    "Below is a description of the database and an entity relationship diagram to help you prepare a SQL query that leverages the database to both extract and aggregate relevant data to prepare for analysis. Your analysis script should take as inputs the attached three data files (currently in csv format) which mimic the tables in the described database. Database Tables:\n",
    "\n",
    "1)MCLASS – student level performance on mCLASS diagnostic assessment.\n",
    "•Field ‘assessment_edition’ indicates whether the student took the English version of thetest (DIBELS) or the Spanish version (IDEL).\n",
    "•For field ‘composite_level’ values of ‘At Benchmark’ or ‘Above Benchmark’ indicatesKindergarten readiness.\n",
    "\n",
    "2)TXKEA – student level performance on Tx-KEA diagnostic assessment.\n",
    "•Field ‘language’ indicates whether the student took the English or Spanish version\n",
    "•For field ‘lit_screening_benchmark’ value of ‘On-Track’ indicates Kindergarten readiness.\n",
    "\n",
    "3)DEMO – student level demographic data.\n",
    "•Field ‘eco’ indicates whether the student is identified as ‘economically disadvantaged’\n",
    "•Field ‘spec_ed’ indicates whether the student receives special education services\n",
    "•Field ‘el’ indicates whether the student is identified as an English learner\n",
    "\n",
    "Component 2:\n",
    "Demonstrate how you prepared and analyzed the data in response to the scenario. For the data analysis script, Python is the preferred language but not a requirement. The script can be written in the programming language of your choice. Depending on your SQL query (because the database in component 1 is hypothetical), the first part of your data cleaning/analysis script may need to replicate some portion of the initial manipulation your SQL query accomplishes. \n",
    "\n",
    "Component 3: Please combine the narrative analysis and visualization in one file. Though Power BI is the preferred visualization software, the data presentation can be done using any software you choose (e.g. Tableau, Looker, Jupyter notebook, etc.)."
   ]
  },
  {
   "cell_type": "code",
   "execution_count": null,
   "id": "8ce2566e",
   "metadata": {},
   "outputs": [],
   "source": []
  },
  {
   "cell_type": "code",
   "execution_count": 97,
   "id": "bb89bdd5",
   "metadata": {},
   "outputs": [],
   "source": [
    "import pandas as pd\n",
    "from pandasql import sqldf\n",
    "import seaborn as sns\n",
    "import matplotlib.pyplot as plt\n",
    "\n"
   ]
  },
  {
   "cell_type": "markdown",
   "id": "176ddea8",
   "metadata": {},
   "source": [
    "The first thing I want to do is take a look at the shape of the data so I can better decide how I should choose which join to perform"
   ]
  },
  {
   "cell_type": "code",
   "execution_count": 98,
   "id": "bf57411e",
   "metadata": {},
   "outputs": [
    {
     "name": "stderr",
     "output_type": "stream",
     "text": [
      "C:\\Users\\tomsh\\anaconda3\\envs\\my_env\\lib\\site-packages\\IPython\\core\\interactiveshell.py:3444: DtypeWarning: Columns (0) have mixed types.Specify dtype option on import or set low_memory=False.\n",
      "  exec(code_obj, self.user_global_ns, self.user_ns)\n"
     ]
    },
    {
     "data": {
      "text/html": [
       "<div>\n",
       "<style scoped>\n",
       "    .dataframe tbody tr th:only-of-type {\n",
       "        vertical-align: middle;\n",
       "    }\n",
       "\n",
       "    .dataframe tbody tr th {\n",
       "        vertical-align: top;\n",
       "    }\n",
       "\n",
       "    .dataframe thead th {\n",
       "        text-align: right;\n",
       "    }\n",
       "</style>\n",
       "<table border=\"1\" class=\"dataframe\">\n",
       "  <thead>\n",
       "    <tr style=\"text-align: right;\">\n",
       "      <th></th>\n",
       "      <th>student_id</th>\n",
       "      <th>district_id</th>\n",
       "      <th>ethnicity</th>\n",
       "      <th>eco</th>\n",
       "      <th>el</th>\n",
       "      <th>spec_ed</th>\n",
       "    </tr>\n",
       "  </thead>\n",
       "  <tbody>\n",
       "    <tr>\n",
       "      <th>0</th>\n",
       "      <td>97840593</td>\n",
       "      <td>798403</td>\n",
       "      <td>Black or African American</td>\n",
       "      <td>YES</td>\n",
       "      <td>NO</td>\n",
       "      <td>NO</td>\n",
       "    </tr>\n",
       "    <tr>\n",
       "      <th>1</th>\n",
       "      <td>885938600</td>\n",
       "      <td>53405</td>\n",
       "      <td>White</td>\n",
       "      <td>YES</td>\n",
       "      <td>NO</td>\n",
       "      <td>NO</td>\n",
       "    </tr>\n",
       "    <tr>\n",
       "      <th>2</th>\n",
       "      <td>871944576</td>\n",
       "      <td>798403</td>\n",
       "      <td>Black or African American</td>\n",
       "      <td>YES</td>\n",
       "      <td>NO</td>\n",
       "      <td>NO</td>\n",
       "    </tr>\n",
       "    <tr>\n",
       "      <th>3</th>\n",
       "      <td>818725252</td>\n",
       "      <td>53405</td>\n",
       "      <td>White</td>\n",
       "      <td>NO</td>\n",
       "      <td>NO</td>\n",
       "      <td>NO</td>\n",
       "    </tr>\n",
       "    <tr>\n",
       "      <th>4</th>\n",
       "      <td>702015143</td>\n",
       "      <td>800409</td>\n",
       "      <td>White</td>\n",
       "      <td>YES</td>\n",
       "      <td>NO</td>\n",
       "      <td>YES</td>\n",
       "    </tr>\n",
       "  </tbody>\n",
       "</table>\n",
       "</div>"
      ],
      "text/plain": [
       "  student_id  district_id                  ethnicity  eco  el spec_ed\n",
       "0   97840593       798403  Black or African American  YES  NO      NO\n",
       "1  885938600        53405                      White  YES  NO      NO\n",
       "2  871944576       798403  Black or African American  YES  NO      NO\n",
       "3  818725252        53405                      White   NO  NO      NO\n",
       "4  702015143       800409                      White  YES  NO     YES"
      ]
     },
     "execution_count": 98,
     "metadata": {},
     "output_type": "execute_result"
    }
   ],
   "source": [
    "demo = pd.read_csv('Data/DEMO.csv')\n",
    "demo.head()"
   ]
  },
  {
   "cell_type": "code",
   "execution_count": 99,
   "id": "6b780bb4",
   "metadata": {},
   "outputs": [
    {
     "name": "stdout",
     "output_type": "stream",
     "text": [
      "<class 'pandas.core.frame.DataFrame'>\n",
      "RangeIndex: 174348 entries, 0 to 174347\n",
      "Data columns (total 6 columns):\n",
      " #   Column       Non-Null Count   Dtype \n",
      "---  ------       --------------   ----- \n",
      " 0   student_id   174348 non-null  object\n",
      " 1   district_id  174348 non-null  int64 \n",
      " 2   ethnicity    174348 non-null  object\n",
      " 3   eco          174348 non-null  object\n",
      " 4   el           174348 non-null  object\n",
      " 5   spec_ed      174348 non-null  object\n",
      "dtypes: int64(1), object(5)\n",
      "memory usage: 8.0+ MB\n"
     ]
    }
   ],
   "source": [
    "demo.info()"
   ]
  },
  {
   "cell_type": "code",
   "execution_count": 100,
   "id": "36f3ca06",
   "metadata": {},
   "outputs": [
    {
     "data": {
      "text/html": [
       "<div>\n",
       "<style scoped>\n",
       "    .dataframe tbody tr th:only-of-type {\n",
       "        vertical-align: middle;\n",
       "    }\n",
       "\n",
       "    .dataframe tbody tr th {\n",
       "        vertical-align: top;\n",
       "    }\n",
       "\n",
       "    .dataframe thead th {\n",
       "        text-align: right;\n",
       "    }\n",
       "</style>\n",
       "<table border=\"1\" class=\"dataframe\">\n",
       "  <thead>\n",
       "    <tr style=\"text-align: right;\">\n",
       "      <th></th>\n",
       "      <th>student_id</th>\n",
       "      <th>district_id</th>\n",
       "      <th>school_id</th>\n",
       "      <th>assessment_edition</th>\n",
       "      <th>composite_level</th>\n",
       "      <th>composite_score</th>\n",
       "    </tr>\n",
       "  </thead>\n",
       "  <tbody>\n",
       "    <tr>\n",
       "      <th>0</th>\n",
       "      <td>8878547139</td>\n",
       "      <td>806405.0</td>\n",
       "      <td>806405802</td>\n",
       "      <td>DIBELS 8th Edition</td>\n",
       "      <td>At Benchmark</td>\n",
       "      <td>306.0</td>\n",
       "    </tr>\n",
       "    <tr>\n",
       "      <th>1</th>\n",
       "      <td>8878132753</td>\n",
       "      <td>818408.0</td>\n",
       "      <td>818408807</td>\n",
       "      <td>DIBELS 8th Edition</td>\n",
       "      <td>Below Benchmark</td>\n",
       "      <td>291.0</td>\n",
       "    </tr>\n",
       "    <tr>\n",
       "      <th>2</th>\n",
       "      <td>8877357966</td>\n",
       "      <td>NaN</td>\n",
       "      <td>NaN</td>\n",
       "      <td>DIBELS 8th Edition</td>\n",
       "      <td>At Benchmark</td>\n",
       "      <td>314.0</td>\n",
       "    </tr>\n",
       "    <tr>\n",
       "      <th>3</th>\n",
       "      <td>8877359986</td>\n",
       "      <td>820405.0</td>\n",
       "      <td>820405805</td>\n",
       "      <td>DIBELS 8th Edition</td>\n",
       "      <td>At Benchmark</td>\n",
       "      <td>326.0</td>\n",
       "    </tr>\n",
       "    <tr>\n",
       "      <th>4</th>\n",
       "      <td>8877961413</td>\n",
       "      <td>820407.0</td>\n",
       "      <td>820407871</td>\n",
       "      <td>DIBELS 8th Edition</td>\n",
       "      <td>At Benchmark</td>\n",
       "      <td>308.0</td>\n",
       "    </tr>\n",
       "  </tbody>\n",
       "</table>\n",
       "</div>"
      ],
      "text/plain": [
       "   student_id  district_id  school_id  assessment_edition  composite_level  \\\n",
       "0  8878547139     806405.0  806405802  DIBELS 8th Edition     At Benchmark   \n",
       "1  8878132753     818408.0  818408807  DIBELS 8th Edition  Below Benchmark   \n",
       "2  8877357966          NaN        NaN  DIBELS 8th Edition     At Benchmark   \n",
       "3  8877359986     820405.0  820405805  DIBELS 8th Edition     At Benchmark   \n",
       "4  8877961413     820407.0  820407871  DIBELS 8th Edition     At Benchmark   \n",
       "\n",
       "   composite_score  \n",
       "0            306.0  \n",
       "1            291.0  \n",
       "2            314.0  \n",
       "3            326.0  \n",
       "4            308.0  "
      ]
     },
     "execution_count": 100,
     "metadata": {},
     "output_type": "execute_result"
    }
   ],
   "source": [
    "mclass = pd.read_csv('Data/MCLASS.csv')\n",
    "mclass.head()"
   ]
  },
  {
   "cell_type": "code",
   "execution_count": 101,
   "id": "9bd27f6c",
   "metadata": {},
   "outputs": [
    {
     "name": "stdout",
     "output_type": "stream",
     "text": [
      "<class 'pandas.core.frame.DataFrame'>\n",
      "RangeIndex: 63268 entries, 0 to 63267\n",
      "Data columns (total 6 columns):\n",
      " #   Column              Non-Null Count  Dtype  \n",
      "---  ------              --------------  -----  \n",
      " 0   student_id          63268 non-null  int64  \n",
      " 1   district_id         57028 non-null  float64\n",
      " 2   school_id           56676 non-null  object \n",
      " 3   assessment_edition  63268 non-null  object \n",
      " 4   composite_level     63268 non-null  object \n",
      " 5   composite_score     56124 non-null  float64\n",
      "dtypes: float64(2), int64(1), object(3)\n",
      "memory usage: 2.9+ MB\n"
     ]
    }
   ],
   "source": [
    "mclass.info()"
   ]
  },
  {
   "cell_type": "code",
   "execution_count": 102,
   "id": "5fb04699",
   "metadata": {},
   "outputs": [
    {
     "data": {
      "text/html": [
       "<div>\n",
       "<style scoped>\n",
       "    .dataframe tbody tr th:only-of-type {\n",
       "        vertical-align: middle;\n",
       "    }\n",
       "\n",
       "    .dataframe tbody tr th {\n",
       "        vertical-align: top;\n",
       "    }\n",
       "\n",
       "    .dataframe thead th {\n",
       "        text-align: right;\n",
       "    }\n",
       "</style>\n",
       "<table border=\"1\" class=\"dataframe\">\n",
       "  <thead>\n",
       "    <tr style=\"text-align: right;\">\n",
       "      <th></th>\n",
       "      <th>district_id</th>\n",
       "      <th>student_id</th>\n",
       "      <th>language</th>\n",
       "      <th>lit_screening_benchmark</th>\n",
       "      <th>lit_screening_score</th>\n",
       "      <th>date</th>\n",
       "    </tr>\n",
       "  </thead>\n",
       "  <tbody>\n",
       "    <tr>\n",
       "      <th>0</th>\n",
       "      <td>70408</td>\n",
       "      <td>8878861576</td>\n",
       "      <td>English</td>\n",
       "      <td>Monitor</td>\n",
       "      <td>15</td>\n",
       "      <td>9/15/2020</td>\n",
       "    </tr>\n",
       "    <tr>\n",
       "      <th>1</th>\n",
       "      <td>808486</td>\n",
       "      <td>8878825752</td>\n",
       "      <td>English</td>\n",
       "      <td>On-Track</td>\n",
       "      <td>29</td>\n",
       "      <td>11/30/2020</td>\n",
       "    </tr>\n",
       "    <tr>\n",
       "      <th>2</th>\n",
       "      <td>801404</td>\n",
       "      <td>8878799239</td>\n",
       "      <td>English</td>\n",
       "      <td>Support</td>\n",
       "      <td>14</td>\n",
       "      <td>10/12/2020</td>\n",
       "    </tr>\n",
       "    <tr>\n",
       "      <th>3</th>\n",
       "      <td>808488</td>\n",
       "      <td>8878794629</td>\n",
       "      <td>English</td>\n",
       "      <td>On-Track</td>\n",
       "      <td>35</td>\n",
       "      <td>11/6/2020</td>\n",
       "    </tr>\n",
       "    <tr>\n",
       "      <th>4</th>\n",
       "      <td>808486</td>\n",
       "      <td>8878745384</td>\n",
       "      <td>English</td>\n",
       "      <td>On-Track</td>\n",
       "      <td>23</td>\n",
       "      <td>10/16/2020</td>\n",
       "    </tr>\n",
       "  </tbody>\n",
       "</table>\n",
       "</div>"
      ],
      "text/plain": [
       "   district_id  student_id language lit_screening_benchmark  \\\n",
       "0        70408  8878861576  English                 Monitor   \n",
       "1       808486  8878825752  English                On-Track   \n",
       "2       801404  8878799239  English                 Support   \n",
       "3       808488  8878794629  English                On-Track   \n",
       "4       808486  8878745384  English                On-Track   \n",
       "\n",
       "   lit_screening_score        date  \n",
       "0                   15   9/15/2020  \n",
       "1                   29  11/30/2020  \n",
       "2                   14  10/12/2020  \n",
       "3                   35   11/6/2020  \n",
       "4                   23  10/16/2020  "
      ]
     },
     "execution_count": 102,
     "metadata": {},
     "output_type": "execute_result"
    }
   ],
   "source": [
    "txkea = pd.read_csv('Data/TXKEA.csv')\n",
    "txkea.head()"
   ]
  },
  {
   "cell_type": "code",
   "execution_count": 103,
   "id": "e1e9a538",
   "metadata": {},
   "outputs": [
    {
     "name": "stdout",
     "output_type": "stream",
     "text": [
      "<class 'pandas.core.frame.DataFrame'>\n",
      "RangeIndex: 112048 entries, 0 to 112047\n",
      "Data columns (total 6 columns):\n",
      " #   Column                   Non-Null Count   Dtype \n",
      "---  ------                   --------------   ----- \n",
      " 0   district_id              112048 non-null  int64 \n",
      " 1   student_id               112048 non-null  int64 \n",
      " 2   language                 112048 non-null  object\n",
      " 3   lit_screening_benchmark  112048 non-null  object\n",
      " 4   lit_screening_score      112048 non-null  int64 \n",
      " 5   date                     112048 non-null  object\n",
      "dtypes: int64(3), object(3)\n",
      "memory usage: 5.1+ MB\n"
     ]
    }
   ],
   "source": [
    "txkea.info()"
   ]
  },
  {
   "cell_type": "markdown",
   "id": "8d33ab70",
   "metadata": {},
   "source": [
    "After a cursory look at the data, the DEMO dataframe has the most rows so I will join the other two onto it."
   ]
  },
  {
   "cell_type": "code",
   "execution_count": 104,
   "id": "415c2167",
   "metadata": {},
   "outputs": [],
   "source": [
    "merged =demo.merge(txkea[['language', 'lit_screening_benchmark', 'student_id']], on='student_id', how='left')"
   ]
  },
  {
   "cell_type": "code",
   "execution_count": 105,
   "id": "d7e783aa",
   "metadata": {},
   "outputs": [],
   "source": [
    "df = merged.merge(mclass[['student_id', 'assessment_edition', 'composite_level']], on='student_id', how='left')"
   ]
  },
  {
   "cell_type": "code",
   "execution_count": 106,
   "id": "80e36c44",
   "metadata": {},
   "outputs": [
    {
     "data": {
      "text/html": [
       "<div>\n",
       "<style scoped>\n",
       "    .dataframe tbody tr th:only-of-type {\n",
       "        vertical-align: middle;\n",
       "    }\n",
       "\n",
       "    .dataframe tbody tr th {\n",
       "        vertical-align: top;\n",
       "    }\n",
       "\n",
       "    .dataframe thead th {\n",
       "        text-align: right;\n",
       "    }\n",
       "</style>\n",
       "<table border=\"1\" class=\"dataframe\">\n",
       "  <thead>\n",
       "    <tr style=\"text-align: right;\">\n",
       "      <th></th>\n",
       "      <th>student_id</th>\n",
       "      <th>district_id</th>\n",
       "      <th>ethnicity</th>\n",
       "      <th>eco</th>\n",
       "      <th>el</th>\n",
       "      <th>spec_ed</th>\n",
       "      <th>language</th>\n",
       "      <th>lit_screening_benchmark</th>\n",
       "      <th>assessment_edition</th>\n",
       "      <th>composite_level</th>\n",
       "    </tr>\n",
       "  </thead>\n",
       "  <tbody>\n",
       "    <tr>\n",
       "      <th>0</th>\n",
       "      <td>97840593</td>\n",
       "      <td>798403</td>\n",
       "      <td>Black or African American</td>\n",
       "      <td>YES</td>\n",
       "      <td>NO</td>\n",
       "      <td>NO</td>\n",
       "      <td>NaN</td>\n",
       "      <td>NaN</td>\n",
       "      <td>NaN</td>\n",
       "      <td>NaN</td>\n",
       "    </tr>\n",
       "    <tr>\n",
       "      <th>1</th>\n",
       "      <td>885938600</td>\n",
       "      <td>53405</td>\n",
       "      <td>White</td>\n",
       "      <td>YES</td>\n",
       "      <td>NO</td>\n",
       "      <td>NO</td>\n",
       "      <td>English</td>\n",
       "      <td>On-Track</td>\n",
       "      <td>NaN</td>\n",
       "      <td>NaN</td>\n",
       "    </tr>\n",
       "    <tr>\n",
       "      <th>2</th>\n",
       "      <td>871944576</td>\n",
       "      <td>798403</td>\n",
       "      <td>Black or African American</td>\n",
       "      <td>YES</td>\n",
       "      <td>NO</td>\n",
       "      <td>NO</td>\n",
       "      <td>English</td>\n",
       "      <td>On-Track</td>\n",
       "      <td>NaN</td>\n",
       "      <td>NaN</td>\n",
       "    </tr>\n",
       "    <tr>\n",
       "      <th>3</th>\n",
       "      <td>818725252</td>\n",
       "      <td>53405</td>\n",
       "      <td>White</td>\n",
       "      <td>NO</td>\n",
       "      <td>NO</td>\n",
       "      <td>NO</td>\n",
       "      <td>English</td>\n",
       "      <td>On-Track</td>\n",
       "      <td>NaN</td>\n",
       "      <td>NaN</td>\n",
       "    </tr>\n",
       "    <tr>\n",
       "      <th>4</th>\n",
       "      <td>702015143</td>\n",
       "      <td>800409</td>\n",
       "      <td>White</td>\n",
       "      <td>YES</td>\n",
       "      <td>NO</td>\n",
       "      <td>YES</td>\n",
       "      <td>English</td>\n",
       "      <td>On-Track</td>\n",
       "      <td>NaN</td>\n",
       "      <td>NaN</td>\n",
       "    </tr>\n",
       "    <tr>\n",
       "      <th>5</th>\n",
       "      <td>717968813</td>\n",
       "      <td>48403</td>\n",
       "      <td>Two or more races</td>\n",
       "      <td>YES</td>\n",
       "      <td>NO</td>\n",
       "      <td>NO</td>\n",
       "      <td>English</td>\n",
       "      <td>On-Track</td>\n",
       "      <td>NaN</td>\n",
       "      <td>NaN</td>\n",
       "    </tr>\n",
       "    <tr>\n",
       "      <th>6</th>\n",
       "      <td>712586284</td>\n",
       "      <td>795107</td>\n",
       "      <td>White</td>\n",
       "      <td>YES</td>\n",
       "      <td>NO</td>\n",
       "      <td>NO</td>\n",
       "      <td>English</td>\n",
       "      <td>On-Track</td>\n",
       "      <td>NaN</td>\n",
       "      <td>NaN</td>\n",
       "    </tr>\n",
       "    <tr>\n",
       "      <th>7</th>\n",
       "      <td>748531398</td>\n",
       "      <td>795107</td>\n",
       "      <td>White</td>\n",
       "      <td>NO</td>\n",
       "      <td>NO</td>\n",
       "      <td>NO</td>\n",
       "      <td>English</td>\n",
       "      <td>On-Track</td>\n",
       "      <td>NaN</td>\n",
       "      <td>NaN</td>\n",
       "    </tr>\n",
       "    <tr>\n",
       "      <th>8</th>\n",
       "      <td>307161742</td>\n",
       "      <td>795107</td>\n",
       "      <td>Hispanic/Latino</td>\n",
       "      <td>NO</td>\n",
       "      <td>NO</td>\n",
       "      <td>NO</td>\n",
       "      <td>English</td>\n",
       "      <td>Support</td>\n",
       "      <td>NaN</td>\n",
       "      <td>NaN</td>\n",
       "    </tr>\n",
       "    <tr>\n",
       "      <th>9</th>\n",
       "      <td>370225802</td>\n",
       "      <td>795107</td>\n",
       "      <td>Two or more races</td>\n",
       "      <td>YES</td>\n",
       "      <td>NO</td>\n",
       "      <td>NO</td>\n",
       "      <td>English</td>\n",
       "      <td>On-Track</td>\n",
       "      <td>NaN</td>\n",
       "      <td>NaN</td>\n",
       "    </tr>\n",
       "    <tr>\n",
       "      <th>10</th>\n",
       "      <td>373122722</td>\n",
       "      <td>798403</td>\n",
       "      <td>White</td>\n",
       "      <td>YES</td>\n",
       "      <td>NO</td>\n",
       "      <td>NO</td>\n",
       "      <td>English</td>\n",
       "      <td>On-Track</td>\n",
       "      <td>NaN</td>\n",
       "      <td>NaN</td>\n",
       "    </tr>\n",
       "    <tr>\n",
       "      <th>11</th>\n",
       "      <td>331644096</td>\n",
       "      <td>798403</td>\n",
       "      <td>Hispanic/Latino</td>\n",
       "      <td>YES</td>\n",
       "      <td>NO</td>\n",
       "      <td>NO</td>\n",
       "      <td>English</td>\n",
       "      <td>On-Track</td>\n",
       "      <td>NaN</td>\n",
       "      <td>NaN</td>\n",
       "    </tr>\n",
       "    <tr>\n",
       "      <th>12</th>\n",
       "      <td>391240173</td>\n",
       "      <td>795107</td>\n",
       "      <td>White</td>\n",
       "      <td>NO</td>\n",
       "      <td>NO</td>\n",
       "      <td>NO</td>\n",
       "      <td>English</td>\n",
       "      <td>On-Track</td>\n",
       "      <td>NaN</td>\n",
       "      <td>NaN</td>\n",
       "    </tr>\n",
       "    <tr>\n",
       "      <th>13</th>\n",
       "      <td>905445112</td>\n",
       "      <td>795107</td>\n",
       "      <td>Hispanic/Latino</td>\n",
       "      <td>NO</td>\n",
       "      <td>NO</td>\n",
       "      <td>NO</td>\n",
       "      <td>English</td>\n",
       "      <td>On-Track</td>\n",
       "      <td>NaN</td>\n",
       "      <td>NaN</td>\n",
       "    </tr>\n",
       "    <tr>\n",
       "      <th>14</th>\n",
       "      <td>590362321</td>\n",
       "      <td>795107</td>\n",
       "      <td>Hispanic/Latino</td>\n",
       "      <td>NO</td>\n",
       "      <td>NO</td>\n",
       "      <td>NO</td>\n",
       "      <td>English</td>\n",
       "      <td>On-Track</td>\n",
       "      <td>NaN</td>\n",
       "      <td>NaN</td>\n",
       "    </tr>\n",
       "    <tr>\n",
       "      <th>15</th>\n",
       "      <td>592945009</td>\n",
       "      <td>798403</td>\n",
       "      <td>Black or African American</td>\n",
       "      <td>YES</td>\n",
       "      <td>NO</td>\n",
       "      <td>NO</td>\n",
       "      <td>English</td>\n",
       "      <td>Support</td>\n",
       "      <td>NaN</td>\n",
       "      <td>NaN</td>\n",
       "    </tr>\n",
       "    <tr>\n",
       "      <th>16</th>\n",
       "      <td>543070159</td>\n",
       "      <td>795107</td>\n",
       "      <td>White</td>\n",
       "      <td>NO</td>\n",
       "      <td>NO</td>\n",
       "      <td>NO</td>\n",
       "      <td>English</td>\n",
       "      <td>On-Track</td>\n",
       "      <td>NaN</td>\n",
       "      <td>NaN</td>\n",
       "    </tr>\n",
       "    <tr>\n",
       "      <th>17</th>\n",
       "      <td>549525978</td>\n",
       "      <td>48403</td>\n",
       "      <td>White</td>\n",
       "      <td>NO</td>\n",
       "      <td>NO</td>\n",
       "      <td>NO</td>\n",
       "      <td>English</td>\n",
       "      <td>Monitor</td>\n",
       "      <td>NaN</td>\n",
       "      <td>NaN</td>\n",
       "    </tr>\n",
       "    <tr>\n",
       "      <th>18</th>\n",
       "      <td>262814479</td>\n",
       "      <td>795107</td>\n",
       "      <td>Two or more races</td>\n",
       "      <td>YES</td>\n",
       "      <td>NO</td>\n",
       "      <td>NO</td>\n",
       "      <td>English</td>\n",
       "      <td>Monitor</td>\n",
       "      <td>NaN</td>\n",
       "      <td>NaN</td>\n",
       "    </tr>\n",
       "    <tr>\n",
       "      <th>19</th>\n",
       "      <td>211016121</td>\n",
       "      <td>795107</td>\n",
       "      <td>White</td>\n",
       "      <td>YES</td>\n",
       "      <td>NO</td>\n",
       "      <td>NO</td>\n",
       "      <td>English</td>\n",
       "      <td>On-Track</td>\n",
       "      <td>NaN</td>\n",
       "      <td>NaN</td>\n",
       "    </tr>\n",
       "  </tbody>\n",
       "</table>\n",
       "</div>"
      ],
      "text/plain": [
       "   student_id  district_id                  ethnicity  eco  el spec_ed  \\\n",
       "0    97840593       798403  Black or African American  YES  NO      NO   \n",
       "1   885938600        53405                      White  YES  NO      NO   \n",
       "2   871944576       798403  Black or African American  YES  NO      NO   \n",
       "3   818725252        53405                      White   NO  NO      NO   \n",
       "4   702015143       800409                      White  YES  NO     YES   \n",
       "5   717968813        48403          Two or more races  YES  NO      NO   \n",
       "6   712586284       795107                      White  YES  NO      NO   \n",
       "7   748531398       795107                      White   NO  NO      NO   \n",
       "8   307161742       795107            Hispanic/Latino   NO  NO      NO   \n",
       "9   370225802       795107          Two or more races  YES  NO      NO   \n",
       "10  373122722       798403                      White  YES  NO      NO   \n",
       "11  331644096       798403            Hispanic/Latino  YES  NO      NO   \n",
       "12  391240173       795107                      White   NO  NO      NO   \n",
       "13  905445112       795107            Hispanic/Latino   NO  NO      NO   \n",
       "14  590362321       795107            Hispanic/Latino   NO  NO      NO   \n",
       "15  592945009       798403  Black or African American  YES  NO      NO   \n",
       "16  543070159       795107                      White   NO  NO      NO   \n",
       "17  549525978        48403                      White   NO  NO      NO   \n",
       "18  262814479       795107          Two or more races  YES  NO      NO   \n",
       "19  211016121       795107                      White  YES  NO      NO   \n",
       "\n",
       "   language lit_screening_benchmark assessment_edition composite_level  \n",
       "0       NaN                     NaN                NaN             NaN  \n",
       "1   English                On-Track                NaN             NaN  \n",
       "2   English                On-Track                NaN             NaN  \n",
       "3   English                On-Track                NaN             NaN  \n",
       "4   English                On-Track                NaN             NaN  \n",
       "5   English                On-Track                NaN             NaN  \n",
       "6   English                On-Track                NaN             NaN  \n",
       "7   English                On-Track                NaN             NaN  \n",
       "8   English                 Support                NaN             NaN  \n",
       "9   English                On-Track                NaN             NaN  \n",
       "10  English                On-Track                NaN             NaN  \n",
       "11  English                On-Track                NaN             NaN  \n",
       "12  English                On-Track                NaN             NaN  \n",
       "13  English                On-Track                NaN             NaN  \n",
       "14  English                On-Track                NaN             NaN  \n",
       "15  English                 Support                NaN             NaN  \n",
       "16  English                On-Track                NaN             NaN  \n",
       "17  English                 Monitor                NaN             NaN  \n",
       "18  English                 Monitor                NaN             NaN  \n",
       "19  English                On-Track                NaN             NaN  "
      ]
     },
     "execution_count": 106,
     "metadata": {},
     "output_type": "execute_result"
    }
   ],
   "source": [
    "df.head(20)"
   ]
  },
  {
   "cell_type": "code",
   "execution_count": 107,
   "id": "112c7016",
   "metadata": {},
   "outputs": [
    {
     "name": "stdout",
     "output_type": "stream",
     "text": [
      "<class 'pandas.core.frame.DataFrame'>\n",
      "Int64Index: 175683 entries, 0 to 175682\n",
      "Data columns (total 10 columns):\n",
      " #   Column                   Non-Null Count   Dtype \n",
      "---  ------                   --------------   ----- \n",
      " 0   student_id               175683 non-null  object\n",
      " 1   district_id              175683 non-null  int64 \n",
      " 2   ethnicity                175683 non-null  object\n",
      " 3   eco                      175683 non-null  object\n",
      " 4   el                       175683 non-null  object\n",
      " 5   spec_ed                  175683 non-null  object\n",
      " 6   language                 84237 non-null   object\n",
      " 7   lit_screening_benchmark  84237 non-null   object\n",
      " 8   assessment_edition       47600 non-null   object\n",
      " 9   composite_level          47600 non-null   object\n",
      "dtypes: int64(1), object(9)\n",
      "memory usage: 14.7+ MB\n"
     ]
    }
   ],
   "source": [
    "df.info()"
   ]
  },
  {
   "cell_type": "markdown",
   "id": "c42d5e72",
   "metadata": {},
   "source": [
    "# Number Of Missing Values By Column\n",
    "Count the number of missing values in each column and sort them."
   ]
  },
  {
   "cell_type": "code",
   "execution_count": 108,
   "id": "3680e7fd",
   "metadata": {},
   "outputs": [
    {
     "data": {
      "text/html": [
       "<div>\n",
       "<style scoped>\n",
       "    .dataframe tbody tr th:only-of-type {\n",
       "        vertical-align: middle;\n",
       "    }\n",
       "\n",
       "    .dataframe tbody tr th {\n",
       "        vertical-align: top;\n",
       "    }\n",
       "\n",
       "    .dataframe thead th {\n",
       "        text-align: right;\n",
       "    }\n",
       "</style>\n",
       "<table border=\"1\" class=\"dataframe\">\n",
       "  <thead>\n",
       "    <tr style=\"text-align: right;\">\n",
       "      <th></th>\n",
       "      <th>count</th>\n",
       "      <th>%</th>\n",
       "    </tr>\n",
       "  </thead>\n",
       "  <tbody>\n",
       "    <tr>\n",
       "      <th>student_id</th>\n",
       "      <td>0</td>\n",
       "      <td>0.000000</td>\n",
       "    </tr>\n",
       "    <tr>\n",
       "      <th>district_id</th>\n",
       "      <td>0</td>\n",
       "      <td>0.000000</td>\n",
       "    </tr>\n",
       "    <tr>\n",
       "      <th>ethnicity</th>\n",
       "      <td>0</td>\n",
       "      <td>0.000000</td>\n",
       "    </tr>\n",
       "    <tr>\n",
       "      <th>eco</th>\n",
       "      <td>0</td>\n",
       "      <td>0.000000</td>\n",
       "    </tr>\n",
       "    <tr>\n",
       "      <th>el</th>\n",
       "      <td>0</td>\n",
       "      <td>0.000000</td>\n",
       "    </tr>\n",
       "    <tr>\n",
       "      <th>spec_ed</th>\n",
       "      <td>0</td>\n",
       "      <td>0.000000</td>\n",
       "    </tr>\n",
       "    <tr>\n",
       "      <th>language</th>\n",
       "      <td>91446</td>\n",
       "      <td>52.051707</td>\n",
       "    </tr>\n",
       "    <tr>\n",
       "      <th>lit_screening_benchmark</th>\n",
       "      <td>91446</td>\n",
       "      <td>52.051707</td>\n",
       "    </tr>\n",
       "    <tr>\n",
       "      <th>assessment_edition</th>\n",
       "      <td>128083</td>\n",
       "      <td>72.905745</td>\n",
       "    </tr>\n",
       "    <tr>\n",
       "      <th>composite_level</th>\n",
       "      <td>128083</td>\n",
       "      <td>72.905745</td>\n",
       "    </tr>\n",
       "  </tbody>\n",
       "</table>\n",
       "</div>"
      ],
      "text/plain": [
       "                          count          %\n",
       "student_id                    0   0.000000\n",
       "district_id                   0   0.000000\n",
       "ethnicity                     0   0.000000\n",
       "eco                           0   0.000000\n",
       "el                            0   0.000000\n",
       "spec_ed                       0   0.000000\n",
       "language                  91446  52.051707\n",
       "lit_screening_benchmark   91446  52.051707\n",
       "assessment_edition       128083  72.905745\n",
       "composite_level          128083  72.905745"
      ]
     },
     "execution_count": 108,
     "metadata": {},
     "output_type": "execute_result"
    }
   ],
   "source": [
    "\n",
    "missing = pd.concat([df.isnull().sum(), 100 * df.isnull().mean()], axis=1)\n",
    "missing.columns=['count', '%']\n",
    "missing.sort_values(by='count')"
   ]
  },
  {
   "cell_type": "markdown",
   "id": "b36fedcd",
   "metadata": {},
   "source": [
    "There seems to be a lot of NaN values in lit_screening_benchmark and composite_level columns. We are trying to make sense of the data based on these scores so if there is no score in either it can be removed from the dataframe."
   ]
  },
  {
   "cell_type": "code",
   "execution_count": 109,
   "id": "7c50c8e4",
   "metadata": {},
   "outputs": [],
   "source": [
    "df = df.dropna(subset=['lit_screening_benchmark','composite_level'], how='all')"
   ]
  },
  {
   "cell_type": "markdown",
   "id": "e8377b4e",
   "metadata": {},
   "source": [
    "# Component 1 - Drop Spanish language versions of the test\n"
   ]
  },
  {
   "cell_type": "code",
   "execution_count": 110,
   "id": "75cd26d7",
   "metadata": {},
   "outputs": [
    {
     "data": {
      "text/plain": [
       "DIBELS 8th Edition        42182\n",
       "IDEL Standard 3 Period     5418\n",
       "Name: assessment_edition, dtype: int64"
      ]
     },
     "execution_count": 110,
     "metadata": {},
     "output_type": "execute_result"
    }
   ],
   "source": [
    "#checking values\n",
    "df.assessment_edition.value_counts()"
   ]
  },
  {
   "cell_type": "code",
   "execution_count": 111,
   "id": "40a67721",
   "metadata": {},
   "outputs": [
    {
     "data": {
      "text/plain": [
       "English    71032\n",
       "Spanish    13205\n",
       "Name: language, dtype: int64"
      ]
     },
     "execution_count": 111,
     "metadata": {},
     "output_type": "execute_result"
    }
   ],
   "source": [
    "df.language.value_counts()"
   ]
  },
  {
   "cell_type": "code",
   "execution_count": 112,
   "id": "abcb5b3d",
   "metadata": {},
   "outputs": [],
   "source": [
    "#droping Spanish versions\n",
    "df.drop(df.loc[df['assessment_edition']=='IDEL Standard 3 Period'].index,inplace=True)"
   ]
  },
  {
   "cell_type": "code",
   "execution_count": 113,
   "id": "529901b0",
   "metadata": {},
   "outputs": [
    {
     "data": {
      "text/plain": [
       "DIBELS 8th Edition    42182\n",
       "Name: assessment_edition, dtype: int64"
      ]
     },
     "execution_count": 113,
     "metadata": {},
     "output_type": "execute_result"
    }
   ],
   "source": [
    "df.assessment_edition.value_counts()"
   ]
  },
  {
   "cell_type": "code",
   "execution_count": 114,
   "id": "8831efee",
   "metadata": {},
   "outputs": [],
   "source": [
    "df.drop(df.loc[df['language']=='Spanish'].index,inplace=True)"
   ]
  },
  {
   "cell_type": "code",
   "execution_count": 115,
   "id": "581a5e79",
   "metadata": {},
   "outputs": [
    {
     "data": {
      "text/plain": [
       "English    71026\n",
       "Name: language, dtype: int64"
      ]
     },
     "execution_count": 115,
     "metadata": {},
     "output_type": "execute_result"
    }
   ],
   "source": [
    "df.language.value_counts()"
   ]
  },
  {
   "cell_type": "markdown",
   "id": "f3d6a224",
   "metadata": {},
   "source": [
    "# Ensure that no rows have values for both MCLASS and TXKEA assessments"
   ]
  },
  {
   "cell_type": "code",
   "execution_count": 116,
   "id": "b6813f2c",
   "metadata": {},
   "outputs": [
    {
     "data": {
      "text/html": [
       "<div>\n",
       "<style scoped>\n",
       "    .dataframe tbody tr th:only-of-type {\n",
       "        vertical-align: middle;\n",
       "    }\n",
       "\n",
       "    .dataframe tbody tr th {\n",
       "        vertical-align: top;\n",
       "    }\n",
       "\n",
       "    .dataframe thead th {\n",
       "        text-align: right;\n",
       "    }\n",
       "</style>\n",
       "<table border=\"1\" class=\"dataframe\">\n",
       "  <thead>\n",
       "    <tr style=\"text-align: right;\">\n",
       "      <th></th>\n",
       "      <th>count</th>\n",
       "      <th>%</th>\n",
       "    </tr>\n",
       "  </thead>\n",
       "  <tbody>\n",
       "    <tr>\n",
       "      <th>student_id</th>\n",
       "      <td>0</td>\n",
       "      <td>0.000000</td>\n",
       "    </tr>\n",
       "    <tr>\n",
       "      <th>district_id</th>\n",
       "      <td>0</td>\n",
       "      <td>0.000000</td>\n",
       "    </tr>\n",
       "    <tr>\n",
       "      <th>ethnicity</th>\n",
       "      <td>0</td>\n",
       "      <td>0.000000</td>\n",
       "    </tr>\n",
       "    <tr>\n",
       "      <th>eco</th>\n",
       "      <td>0</td>\n",
       "      <td>0.000000</td>\n",
       "    </tr>\n",
       "    <tr>\n",
       "      <th>el</th>\n",
       "      <td>0</td>\n",
       "      <td>0.000000</td>\n",
       "    </tr>\n",
       "    <tr>\n",
       "      <th>spec_ed</th>\n",
       "      <td>0</td>\n",
       "      <td>0.000000</td>\n",
       "    </tr>\n",
       "    <tr>\n",
       "      <th>language</th>\n",
       "      <td>41852</td>\n",
       "      <td>37.077198</td>\n",
       "    </tr>\n",
       "    <tr>\n",
       "      <th>lit_screening_benchmark</th>\n",
       "      <td>41852</td>\n",
       "      <td>37.077198</td>\n",
       "    </tr>\n",
       "    <tr>\n",
       "      <th>assessment_edition</th>\n",
       "      <td>70701</td>\n",
       "      <td>62.634880</td>\n",
       "    </tr>\n",
       "    <tr>\n",
       "      <th>composite_level</th>\n",
       "      <td>70701</td>\n",
       "      <td>62.634880</td>\n",
       "    </tr>\n",
       "  </tbody>\n",
       "</table>\n",
       "</div>"
      ],
      "text/plain": [
       "                         count          %\n",
       "student_id                   0   0.000000\n",
       "district_id                  0   0.000000\n",
       "ethnicity                    0   0.000000\n",
       "eco                          0   0.000000\n",
       "el                           0   0.000000\n",
       "spec_ed                      0   0.000000\n",
       "language                 41852  37.077198\n",
       "lit_screening_benchmark  41852  37.077198\n",
       "assessment_edition       70701  62.634880\n",
       "composite_level          70701  62.634880"
      ]
     },
     "execution_count": 116,
     "metadata": {},
     "output_type": "execute_result"
    }
   ],
   "source": [
    "missing = pd.concat([df.isnull().sum(), 100 * df.isnull().mean()], axis=1)\n",
    "missing.columns=['count', '%']\n",
    "missing.sort_values(by='count')"
   ]
  },
  {
   "cell_type": "code",
   "execution_count": 124,
   "id": "9824f562",
   "metadata": {},
   "outputs": [
    {
     "data": {
      "text/plain": [
       "(112878, 10)"
      ]
     },
     "execution_count": 124,
     "metadata": {},
     "output_type": "execute_result"
    }
   ],
   "source": [
    "df.shape"
   ]
  },
  {
   "cell_type": "markdown",
   "id": "a69496f3",
   "metadata": {},
   "source": [
    "41852 + 70701 does not equal 112878 so it looks like we have students who have taken both assessments. Let's make sure."
   ]
  },
  {
   "cell_type": "code",
   "execution_count": 125,
   "id": "970aca7d",
   "metadata": {},
   "outputs": [
    {
     "name": "stdout",
     "output_type": "stream",
     "text": [
      "student_id                 325\n",
      "district_id                325\n",
      "ethnicity                  325\n",
      "eco                        325\n",
      "el                         325\n",
      "spec_ed                    325\n",
      "language                   325\n",
      "lit_screening_benchmark    325\n",
      "assessment_edition         325\n",
      "composite_level            325\n",
      "dtype: int64\n"
     ]
    },
    {
     "data": {
      "text/html": [
       "<div>\n",
       "<style scoped>\n",
       "    .dataframe tbody tr th:only-of-type {\n",
       "        vertical-align: middle;\n",
       "    }\n",
       "\n",
       "    .dataframe tbody tr th {\n",
       "        vertical-align: top;\n",
       "    }\n",
       "\n",
       "    .dataframe thead th {\n",
       "        text-align: right;\n",
       "    }\n",
       "</style>\n",
       "<table border=\"1\" class=\"dataframe\">\n",
       "  <thead>\n",
       "    <tr style=\"text-align: right;\">\n",
       "      <th></th>\n",
       "      <th>student_id</th>\n",
       "      <th>district_id</th>\n",
       "      <th>ethnicity</th>\n",
       "      <th>eco</th>\n",
       "      <th>el</th>\n",
       "      <th>spec_ed</th>\n",
       "      <th>language</th>\n",
       "      <th>lit_screening_benchmark</th>\n",
       "      <th>assessment_edition</th>\n",
       "      <th>composite_level</th>\n",
       "    </tr>\n",
       "  </thead>\n",
       "  <tbody>\n",
       "    <tr>\n",
       "      <th>75</th>\n",
       "      <td>8877182676</td>\n",
       "      <td>883408</td>\n",
       "      <td>Black or African American</td>\n",
       "      <td>YES</td>\n",
       "      <td>NO</td>\n",
       "      <td>NO</td>\n",
       "      <td>English</td>\n",
       "      <td>Support</td>\n",
       "      <td>DIBELS 8th Edition</td>\n",
       "      <td>Below Benchmark</td>\n",
       "    </tr>\n",
       "    <tr>\n",
       "      <th>663</th>\n",
       "      <td>8895345178</td>\n",
       "      <td>874406</td>\n",
       "      <td>White</td>\n",
       "      <td>YES</td>\n",
       "      <td>NO</td>\n",
       "      <td>NO</td>\n",
       "      <td>English</td>\n",
       "      <td>On-Track</td>\n",
       "      <td>DIBELS 8th Edition</td>\n",
       "      <td>Below Benchmark</td>\n",
       "    </tr>\n",
       "    <tr>\n",
       "      <th>856</th>\n",
       "      <td>8869266971</td>\n",
       "      <td>883408</td>\n",
       "      <td>Hispanic/Latino</td>\n",
       "      <td>YES</td>\n",
       "      <td>NO</td>\n",
       "      <td>NO</td>\n",
       "      <td>English</td>\n",
       "      <td>On-Track</td>\n",
       "      <td>DIBELS 8th Edition</td>\n",
       "      <td>At Benchmark</td>\n",
       "    </tr>\n",
       "    <tr>\n",
       "      <th>898</th>\n",
       "      <td>8865759575</td>\n",
       "      <td>874406</td>\n",
       "      <td>White</td>\n",
       "      <td>YES</td>\n",
       "      <td>NO</td>\n",
       "      <td>NO</td>\n",
       "      <td>English</td>\n",
       "      <td>On-Track</td>\n",
       "      <td>DIBELS 8th Edition</td>\n",
       "      <td>Above Benchmark</td>\n",
       "    </tr>\n",
       "    <tr>\n",
       "      <th>1025</th>\n",
       "      <td>8858113755</td>\n",
       "      <td>874406</td>\n",
       "      <td>White</td>\n",
       "      <td>YES</td>\n",
       "      <td>NO</td>\n",
       "      <td>NO</td>\n",
       "      <td>English</td>\n",
       "      <td>On-Track</td>\n",
       "      <td>DIBELS 8th Edition</td>\n",
       "      <td>At Benchmark</td>\n",
       "    </tr>\n",
       "  </tbody>\n",
       "</table>\n",
       "</div>"
      ],
      "text/plain": [
       "      student_id  district_id                  ethnicity  eco  el spec_ed  \\\n",
       "75    8877182676       883408  Black or African American  YES  NO      NO   \n",
       "663   8895345178       874406                      White  YES  NO      NO   \n",
       "856   8869266971       883408            Hispanic/Latino  YES  NO      NO   \n",
       "898   8865759575       874406                      White  YES  NO      NO   \n",
       "1025  8858113755       874406                      White  YES  NO      NO   \n",
       "\n",
       "     language lit_screening_benchmark  assessment_edition  composite_level  \n",
       "75    English                 Support  DIBELS 8th Edition  Below Benchmark  \n",
       "663   English                On-Track  DIBELS 8th Edition  Below Benchmark  \n",
       "856   English                On-Track  DIBELS 8th Edition     At Benchmark  \n",
       "898   English                On-Track  DIBELS 8th Edition  Above Benchmark  \n",
       "1025  English                On-Track  DIBELS 8th Edition     At Benchmark  "
      ]
     },
     "execution_count": 125,
     "metadata": {},
     "output_type": "execute_result"
    }
   ],
   "source": [
    "both = df[df[['lit_screening_benchmark', 'composite_level']].notnull().all(1)]\n",
    "print(both.count())\n",
    "both.head()"
   ]
  },
  {
   "cell_type": "markdown",
   "id": "0c6a2c5e",
   "metadata": {},
   "source": [
    "So 325 students have taken both versions of the test. We can also see conflicting results. This is a small sample but could be useful later when comparing the two assessments."
   ]
  },
  {
   "cell_type": "markdown",
   "id": "1c1a072f",
   "metadata": {},
   "source": [
    "# Assessment Scoring\n",
    "\n",
    "Let's take a quick look at each assessments outcome."
   ]
  },
  {
   "cell_type": "code",
   "execution_count": 138,
   "id": "9a5c8dd4",
   "metadata": {},
   "outputs": [
    {
     "data": {
      "text/plain": [
       "<AxesSubplot:>"
      ]
     },
     "execution_count": 138,
     "metadata": {},
     "output_type": "execute_result"
    },
    {
     "data": {
      "image/png": "[encoded data removed]",
      "text/plain": [
       "<Figure size 432x288 with 1 Axes>"
      ]
     },
     "metadata": {
      "needs_background": "light"
     },
     "output_type": "display_data"
    }
   ],
   "source": [
    "df.lit_screening_benchmark.hist()"
   ]
  },
  {
   "cell_type": "code",
   "execution_count": 137,
   "id": "f79c64de",
   "metadata": {},
   "outputs": [
    {
     "data": {
      "text/plain": [
       "<AxesSubplot:>"
      ]
     },
     "execution_count": 137,
     "metadata": {},
     "output_type": "execute_result"
    },
    {
     "data": {
      "image/png": "[encoded data removed]",
      "text/plain": [
       "<Figure size 432x288 with 1 Axes>"
      ]
     },
     "metadata": {
      "needs_background": "light"
     },
     "output_type": "display_data"
    }
   ],
   "source": [
    "df.composite_level.hist()"
   ]
  },
  {
   "cell_type": "markdown",
   "id": "ad8bad5b",
   "metadata": {},
   "source": [
    "There is a very big difference in the outcomes of either test."
   ]
  },
  {
   "cell_type": "markdown",
   "id": "754d4c7e",
   "metadata": {},
   "source": [
    "# Turning binary columns numeric"
   ]
  },
  {
   "cell_type": "code",
   "execution_count": 142,
   "id": "f3b7401f",
   "metadata": {},
   "outputs": [
    {
     "data": {
      "text/plain": [
       "array([nan, 'Below Benchmark', 'Well Below Benchmark', 'At Benchmark',\n",
       "       'Above Benchmark'], dtype=object)"
      ]
     },
     "execution_count": 142,
     "metadata": {},
     "output_type": "execute_result"
    }
   ],
   "source": [
    "df.composite_level.unique()"
   ]
  },
  {
   "cell_type": "markdown",
   "id": "ac657528",
   "metadata": {},
   "source": [
    "Let's look at the demographics or each outcome of the MCLASS assessment"
   ]
  },
  {
   "cell_type": "code",
   "execution_count": 158,
   "id": "a0c1fd10",
   "metadata": {},
   "outputs": [],
   "source": [
    "mclass_wbb = df[df['composite_level'] == 'Well Below Benchmark']\n",
    "mclass_bb = df[df['composite_level'] == 'Below Benchmark']\n",
    "mclass_atb = df[df['composite_level'] == 'At Benchmark']\n",
    "mclass_abb = df[df['composite_level'] == 'Above Benchmark']"
   ]
  },
  {
   "cell_type": "code",
   "execution_count": 159,
   "id": "5cf00280",
   "metadata": {},
   "outputs": [
    {
     "data": {
      "text/plain": [
       "array(['On-Track', 'Support', 'Monitor', nan], dtype=object)"
      ]
     },
     "execution_count": 159,
     "metadata": {},
     "output_type": "execute_result"
    }
   ],
   "source": [
    "df.lit_screening_benchmark.unique()"
   ]
  },
  {
   "cell_type": "code",
   "execution_count": 161,
   "id": "ff12adeb",
   "metadata": {},
   "outputs": [],
   "source": [
    "txkea_ot = df[df['lit_screening_benchmark'] == 'On-Track']\n",
    "txkea_spt = df[df['lit_screening_benchmark'] == 'Support']\n",
    "txkea_mntr = df[df['lit_screening_benchmark'] == 'Monitor']"
   ]
  },
  {
   "cell_type": "code",
   "execution_count": null,
   "id": "99ccfd7f",
   "metadata": {},
   "outputs": [],
   "source": []
  },
  {
   "cell_type": "code",
   "execution_count": null,
   "id": "a7b0107b",
   "metadata": {},
   "outputs": [],
   "source": []
  },
  {
   "cell_type": "code",
   "execution_count": null,
   "id": "beb140e5",
   "metadata": {},
   "outputs": [],
   "source": []
  },
  {
   "cell_type": "code",
   "execution_count": null,
   "id": "cec4a69a",
   "metadata": {},
   "outputs": [],
   "source": []
  },
  {
   "cell_type": "code",
   "execution_count": null,
   "id": "26347e5c",
   "metadata": {},
   "outputs": [],
   "source": []
  },
  {
   "cell_type": "markdown",
   "id": "dd7636f1",
   "metadata": {},
   "source": [
    "Perhaps it would be more useful to examine these two outcomes based on the information found in the DEMO file."
   ]
  },
  {
   "cell_type": "code",
   "execution_count": 128,
   "id": "627af60f",
   "metadata": {},
   "outputs": [],
   "source": [
    "mclass_ethnicity = df.groupby('ethnicity').composite_level.value_counts(normalize=True)\n",
    "txkea_ethnicity = df.groupby('ethnicity').lit_screening_benchmark.value_counts(normalize=True)"
   ]
  },
  {
   "cell_type": "code",
   "execution_count": 129,
   "id": "7853c0c6",
   "metadata": {},
   "outputs": [],
   "source": [
    "mclass_eco = df.groupby('eco').composite_level.value_counts(normalize=True)\n",
    "txkea_eco = df.groupby('eco').lit_screening_benchmark.value_counts(normalize=True)"
   ]
  },
  {
   "cell_type": "code",
   "execution_count": 130,
   "id": "ca746397",
   "metadata": {},
   "outputs": [],
   "source": [
    "mclass_spec_ed = df.groupby('spec_ed').composite_level.value_counts(normalize=True)\n",
    "txkea_spec_ed = df.groupby('spec_ed').lit_screening_benchmark.value_counts(normalize=True)"
   ]
  },
  {
   "cell_type": "code",
   "execution_count": 134,
   "id": "f1486a9a",
   "metadata": {},
   "outputs": [],
   "source": [
    "mclass_el = df.groupby('el').composite_level.value_counts(normalize=True)\n",
    "txkea_el = df.groupby('el').lit_screening_benchmark.value_counts(normalize=True)"
   ]
  },
  {
   "cell_type": "code",
   "execution_count": null,
   "id": "a9c12402",
   "metadata": {},
   "outputs": [],
   "source": []
  },
  {
   "cell_type": "code",
   "execution_count": null,
   "id": "7ae017c3",
   "metadata": {},
   "outputs": [],
   "source": []
  },
  {
   "cell_type": "code",
   "execution_count": null,
   "id": "da8af904",
   "metadata": {},
   "outputs": [],
   "source": []
  },
  {
   "cell_type": "code",
   "execution_count": null,
   "id": "a57e9a3a",
   "metadata": {},
   "outputs": [],
   "source": []
  },
  {
   "cell_type": "code",
   "execution_count": null,
   "id": "f040c5a3",
   "metadata": {},
   "outputs": [],
   "source": []
  },
  {
   "cell_type": "code",
   "execution_count": null,
   "id": "4e11fecb",
   "metadata": {},
   "outputs": [],
   "source": []
  },
  {
   "cell_type": "code",
   "execution_count": null,
   "id": "e79ea5fa",
   "metadata": {},
   "outputs": [],
   "source": []
  },
  {
   "cell_type": "code",
   "execution_count": null,
   "id": "97662382",
   "metadata": {},
   "outputs": [],
   "source": []
  },
  {
   "cell_type": "code",
   "execution_count": null,
   "id": "d3d14773",
   "metadata": {},
   "outputs": [],
   "source": []
  },
  {
   "cell_type": "code",
   "execution_count": null,
   "id": "469c648c",
   "metadata": {},
   "outputs": [],
   "source": []
  },
  {
   "cell_type": "code",
   "execution_count": null,
   "id": "f2ad971e",
   "metadata": {},
   "outputs": [],
   "source": []
  },
  {
   "cell_type": "markdown",
   "id": "92757459",
   "metadata": {},
   "source": [
    "mysql = lambda q: sqldf(q, globals())\n",
    "query = '''\n",
    "SELECT d.student_id, d.eco, d.spec_ed, d.el\n",
    "FROM DEMO AS d\n",
    "LEFT JOIN TXKEA AS t ON t.student_id\n",
    "MCLASS AS m\n",
    "ON d.student_id = b.student_id;\n",
    "'''\n",
    "\n",
    "mysql(query)\n",
    "\n",
    "\n"
   ]
  },
  {
   "cell_type": "code",
   "execution_count": null,
   "id": "92f48a85",
   "metadata": {},
   "outputs": [],
   "source": []
  }
 ],
 "metadata": {
  "kernelspec": {
   "display_name": "Python 3 (ipykernel)",
   "language": "python",
   "name": "python3"
  },
  "language_info": {
   "codemirror_mode": {
    "name": "ipython",
    "version": 3
   },
   "file_extension": ".py",
   "mimetype": "text/x-python",
   "name": "python",
   "nbconvert_exporter": "python",
   "pygments_lexer": "ipython3",
   "version": "3.9.7"
  }
 },
 "nbformat": 4,
 "nbformat_minor": 5
}
