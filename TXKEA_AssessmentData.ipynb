{
 "cells": [
  {
   "cell_type": "markdown",
   "id": "22d318e8",
   "metadata": {},
   "source": [
    "# SCENARIO \n",
    "\n",
    "In SY 20-21, TEA required all Texas LEAs (Local Education Agencies such as a school district) to administer either the TX-KEA or mCLASS assessment to students in order to measure grade level readiness. The Tx-KEA and mCLASS diagnostics employ different scales for scoring and evaluate different sets of skills. Initial analysis of Fall 2020 data indicates a 38 percentage point gap in grade level readiness between the two tests; 76% of students who took Tx-KEA were found to be grade level ready compared to just 38% of students who took mCLASS. \n",
    "\n",
    "The task is to extract, analyze, and present data that will help the Educators understand to what extent the difference in readiness as measured by the tests is due to differences in the underlying populations of students taking each (as opposed to differences in test design and scoring). \n",
    "\n",
    "Analysis will be limited to students taking the English version of each diagnostic to avoid complications that arise from differences in the English and Spanish versions of mCLASS.\n",
    "\n",
    "\n",
    "Database Tables:\n",
    "\n",
    "1)MCLASS – student level performance on mCLASS diagnostic assessment.\n",
    "•Field ‘assessment_edition’ indicates whether the student took the English version of thetest (DIBELS) or the Spanish version (IDEL).\n",
    "•For field ‘composite_level’ values of ‘At Benchmark’ or ‘Above Benchmark’ indicates grade level readiness.\n",
    "\n",
    "2)TXKEA – student level performance on Tx-KEA diagnostic assessment.\n",
    "•Field ‘language’ indicates whether the student took the English or Spanish version\n",
    "•For field ‘lit_screening_benchmark’ value of ‘On-Track’ indicates grade level readiness.\n",
    "\n",
    "3)DEMO – student level demographic data.\n",
    "•Field ‘eco’ indicates whether the student is identified as ‘economically disadvantaged’\n",
    "•Field ‘spec_ed’ indicates whether the student receives special education services\n",
    "•Field ‘el’ indicates whether the student is identified as an English learner\n",
    "\n"
   ]
  },
  {
   "cell_type": "code",
   "execution_count": 71,
   "id": "30e1a705",
   "metadata": {},
   "outputs": [],
   "source": [
    "import pandas as pd\n",
    "import numpy as np\n",
    "import seaborn as sns\n",
    "import matplotlib.pyplot as plt\n"
   ]
  },
  {
   "cell_type": "markdown",
   "id": "a166b5b5",
   "metadata": {},
   "source": [
    "The first thing I want to do is take a look at the shape of the data files so I can better decide how I should choose which join to perform."
   ]
  },
  {
   "cell_type": "code",
   "execution_count": 72,
   "id": "c692a05f",
   "metadata": {},
   "outputs": [
    {
     "name": "stderr",
     "output_type": "stream",
     "text": [
      "/var/folders/d2/b8_107b155z0478lwpx5ssrr0000gp/T/ipykernel_67394/2043099007.py:1: DtypeWarning: Columns (0) have mixed types. Specify dtype option on import or set low_memory=False.\n",
      "  demo = pd.read_csv('Data/DEMO.csv')\n"
     ]
    },
    {
     "data": {
      "text/html": [
       "<div>\n",
       "<style scoped>\n",
       "    .dataframe tbody tr th:only-of-type {\n",
       "        vertical-align: middle;\n",
       "    }\n",
       "\n",
       "    .dataframe tbody tr th {\n",
       "        vertical-align: top;\n",
       "    }\n",
       "\n",
       "    .dataframe thead th {\n",
       "        text-align: right;\n",
       "    }\n",
       "</style>\n",
       "<table border=\"1\" class=\"dataframe\">\n",
       "  <thead>\n",
       "    <tr style=\"text-align: right;\">\n",
       "      <th></th>\n",
       "      <th>student_id</th>\n",
       "      <th>district_id</th>\n",
       "      <th>ethnicity</th>\n",
       "      <th>eco</th>\n",
       "      <th>el</th>\n",
       "      <th>spec_ed</th>\n",
       "    </tr>\n",
       "  </thead>\n",
       "  <tbody>\n",
       "    <tr>\n",
       "      <th>0</th>\n",
       "      <td>97840593</td>\n",
       "      <td>798403</td>\n",
       "      <td>Black or African American</td>\n",
       "      <td>YES</td>\n",
       "      <td>NO</td>\n",
       "      <td>NO</td>\n",
       "    </tr>\n",
       "    <tr>\n",
       "      <th>1</th>\n",
       "      <td>885938600</td>\n",
       "      <td>53405</td>\n",
       "      <td>White</td>\n",
       "      <td>YES</td>\n",
       "      <td>NO</td>\n",
       "      <td>NO</td>\n",
       "    </tr>\n",
       "    <tr>\n",
       "      <th>2</th>\n",
       "      <td>871944576</td>\n",
       "      <td>798403</td>\n",
       "      <td>Black or African American</td>\n",
       "      <td>YES</td>\n",
       "      <td>NO</td>\n",
       "      <td>NO</td>\n",
       "    </tr>\n",
       "    <tr>\n",
       "      <th>3</th>\n",
       "      <td>818725252</td>\n",
       "      <td>53405</td>\n",
       "      <td>White</td>\n",
       "      <td>NO</td>\n",
       "      <td>NO</td>\n",
       "      <td>NO</td>\n",
       "    </tr>\n",
       "    <tr>\n",
       "      <th>4</th>\n",
       "      <td>702015143</td>\n",
       "      <td>800409</td>\n",
       "      <td>White</td>\n",
       "      <td>YES</td>\n",
       "      <td>NO</td>\n",
       "      <td>YES</td>\n",
       "    </tr>\n",
       "  </tbody>\n",
       "</table>\n",
       "</div>"
      ],
      "text/plain": [
       "  student_id  district_id                  ethnicity  eco  el spec_ed\n",
       "0   97840593       798403  Black or African American  YES  NO      NO\n",
       "1  885938600        53405                      White  YES  NO      NO\n",
       "2  871944576       798403  Black or African American  YES  NO      NO\n",
       "3  818725252        53405                      White   NO  NO      NO\n",
       "4  702015143       800409                      White  YES  NO     YES"
      ]
     },
     "execution_count": 72,
     "metadata": {},
     "output_type": "execute_result"
    }
   ],
   "source": [
    "demo = pd.read_csv('Data/DEMO.csv')\n",
    "demo.head()"
   ]
  },
  {
   "cell_type": "code",
   "execution_count": 73,
   "id": "1189ef95",
   "metadata": {},
   "outputs": [
    {
     "name": "stdout",
     "output_type": "stream",
     "text": [
      "<class 'pandas.core.frame.DataFrame'>\n",
      "RangeIndex: 174348 entries, 0 to 174347\n",
      "Data columns (total 6 columns):\n",
      " #   Column       Non-Null Count   Dtype \n",
      "---  ------       --------------   ----- \n",
      " 0   student_id   174348 non-null  object\n",
      " 1   district_id  174348 non-null  int64 \n",
      " 2   ethnicity    174348 non-null  object\n",
      " 3   eco          174348 non-null  object\n",
      " 4   el           174348 non-null  object\n",
      " 5   spec_ed      174348 non-null  object\n",
      "dtypes: int64(1), object(5)\n",
      "memory usage: 8.0+ MB\n"
     ]
    }
   ],
   "source": [
    "demo.info()"
   ]
  },
  {
   "cell_type": "code",
   "execution_count": 74,
   "id": "942530ea",
   "metadata": {},
   "outputs": [
    {
     "data": {
      "text/html": [
       "<div>\n",
       "<style scoped>\n",
       "    .dataframe tbody tr th:only-of-type {\n",
       "        vertical-align: middle;\n",
       "    }\n",
       "\n",
       "    .dataframe tbody tr th {\n",
       "        vertical-align: top;\n",
       "    }\n",
       "\n",
       "    .dataframe thead th {\n",
       "        text-align: right;\n",
       "    }\n",
       "</style>\n",
       "<table border=\"1\" class=\"dataframe\">\n",
       "  <thead>\n",
       "    <tr style=\"text-align: right;\">\n",
       "      <th></th>\n",
       "      <th>district_id</th>\n",
       "      <th>student_id</th>\n",
       "      <th>language</th>\n",
       "      <th>lit_screening_benchmark</th>\n",
       "      <th>lit_screening_score</th>\n",
       "      <th>date</th>\n",
       "    </tr>\n",
       "  </thead>\n",
       "  <tbody>\n",
       "    <tr>\n",
       "      <th>0</th>\n",
       "      <td>70408</td>\n",
       "      <td>8878861576</td>\n",
       "      <td>English</td>\n",
       "      <td>Monitor</td>\n",
       "      <td>15</td>\n",
       "      <td>9/15/2020</td>\n",
       "    </tr>\n",
       "    <tr>\n",
       "      <th>1</th>\n",
       "      <td>808486</td>\n",
       "      <td>8878825752</td>\n",
       "      <td>English</td>\n",
       "      <td>On-Track</td>\n",
       "      <td>29</td>\n",
       "      <td>11/30/2020</td>\n",
       "    </tr>\n",
       "    <tr>\n",
       "      <th>2</th>\n",
       "      <td>801404</td>\n",
       "      <td>8878799239</td>\n",
       "      <td>English</td>\n",
       "      <td>Support</td>\n",
       "      <td>14</td>\n",
       "      <td>10/12/2020</td>\n",
       "    </tr>\n",
       "    <tr>\n",
       "      <th>3</th>\n",
       "      <td>808488</td>\n",
       "      <td>8878794629</td>\n",
       "      <td>English</td>\n",
       "      <td>On-Track</td>\n",
       "      <td>35</td>\n",
       "      <td>11/6/2020</td>\n",
       "    </tr>\n",
       "    <tr>\n",
       "      <th>4</th>\n",
       "      <td>808486</td>\n",
       "      <td>8878745384</td>\n",
       "      <td>English</td>\n",
       "      <td>On-Track</td>\n",
       "      <td>23</td>\n",
       "      <td>10/16/2020</td>\n",
       "    </tr>\n",
       "  </tbody>\n",
       "</table>\n",
       "</div>"
      ],
      "text/plain": [
       "   district_id  student_id language lit_screening_benchmark  \\\n",
       "0        70408  8878861576  English                 Monitor   \n",
       "1       808486  8878825752  English                On-Track   \n",
       "2       801404  8878799239  English                 Support   \n",
       "3       808488  8878794629  English                On-Track   \n",
       "4       808486  8878745384  English                On-Track   \n",
       "\n",
       "   lit_screening_score        date  \n",
       "0                   15   9/15/2020  \n",
       "1                   29  11/30/2020  \n",
       "2                   14  10/12/2020  \n",
       "3                   35   11/6/2020  \n",
       "4                   23  10/16/2020  "
      ]
     },
     "execution_count": 74,
     "metadata": {},
     "output_type": "execute_result"
    }
   ],
   "source": [
    "txkea = pd.read_csv('Data/TXKEA.csv')\n",
    "txkea.head()"
   ]
  },
  {
   "cell_type": "code",
   "execution_count": 75,
   "id": "b2648715",
   "metadata": {},
   "outputs": [
    {
     "name": "stdout",
     "output_type": "stream",
     "text": [
      "<class 'pandas.core.frame.DataFrame'>\n",
      "RangeIndex: 112048 entries, 0 to 112047\n",
      "Data columns (total 6 columns):\n",
      " #   Column                   Non-Null Count   Dtype \n",
      "---  ------                   --------------   ----- \n",
      " 0   district_id              112048 non-null  int64 \n",
      " 1   student_id               112048 non-null  int64 \n",
      " 2   language                 112048 non-null  object\n",
      " 3   lit_screening_benchmark  112048 non-null  object\n",
      " 4   lit_screening_score      112048 non-null  int64 \n",
      " 5   date                     112048 non-null  object\n",
      "dtypes: int64(3), object(3)\n",
      "memory usage: 5.1+ MB\n"
     ]
    }
   ],
   "source": [
    "txkea.info()"
   ]
  },
  {
   "cell_type": "markdown",
   "id": "5ee79357",
   "metadata": {},
   "source": [
    "After a cursory look at the data, the DEMO dataframe has the most rows and no null values so I will join the other two onto it merging the student_id columns."
   ]
  },
  {
   "cell_type": "code",
   "execution_count": 76,
   "id": "b6ba8443",
   "metadata": {},
   "outputs": [],
   "source": [
    "txkea =txkea.merge(demo, on='student_id', how='left')"
   ]
  },
  {
   "cell_type": "code",
   "execution_count": 77,
   "id": "93c34fbf",
   "metadata": {},
   "outputs": [
    {
     "data": {
      "text/html": [
       "<div>\n",
       "<style scoped>\n",
       "    .dataframe tbody tr th:only-of-type {\n",
       "        vertical-align: middle;\n",
       "    }\n",
       "\n",
       "    .dataframe tbody tr th {\n",
       "        vertical-align: top;\n",
       "    }\n",
       "\n",
       "    .dataframe thead th {\n",
       "        text-align: right;\n",
       "    }\n",
       "</style>\n",
       "<table border=\"1\" class=\"dataframe\">\n",
       "  <thead>\n",
       "    <tr style=\"text-align: right;\">\n",
       "      <th></th>\n",
       "      <th>district_id_x</th>\n",
       "      <th>student_id</th>\n",
       "      <th>language</th>\n",
       "      <th>lit_screening_benchmark</th>\n",
       "      <th>lit_screening_score</th>\n",
       "      <th>date</th>\n",
       "      <th>district_id_y</th>\n",
       "      <th>ethnicity</th>\n",
       "      <th>eco</th>\n",
       "      <th>el</th>\n",
       "      <th>spec_ed</th>\n",
       "    </tr>\n",
       "  </thead>\n",
       "  <tbody>\n",
       "    <tr>\n",
       "      <th>0</th>\n",
       "      <td>70408</td>\n",
       "      <td>8878861576</td>\n",
       "      <td>English</td>\n",
       "      <td>Monitor</td>\n",
       "      <td>15</td>\n",
       "      <td>9/15/2020</td>\n",
       "      <td>70408.0</td>\n",
       "      <td>Hispanic/Latino</td>\n",
       "      <td>NO</td>\n",
       "      <td>NO</td>\n",
       "      <td>NO</td>\n",
       "    </tr>\n",
       "    <tr>\n",
       "      <th>1</th>\n",
       "      <td>808486</td>\n",
       "      <td>8878825752</td>\n",
       "      <td>English</td>\n",
       "      <td>On-Track</td>\n",
       "      <td>29</td>\n",
       "      <td>11/30/2020</td>\n",
       "      <td>808486.0</td>\n",
       "      <td>White</td>\n",
       "      <td>NO</td>\n",
       "      <td>NO</td>\n",
       "      <td>NO</td>\n",
       "    </tr>\n",
       "    <tr>\n",
       "      <th>2</th>\n",
       "      <td>801404</td>\n",
       "      <td>8878799239</td>\n",
       "      <td>English</td>\n",
       "      <td>Support</td>\n",
       "      <td>14</td>\n",
       "      <td>10/12/2020</td>\n",
       "      <td>801404.0</td>\n",
       "      <td>Hispanic/Latino</td>\n",
       "      <td>NO</td>\n",
       "      <td>NO</td>\n",
       "      <td>NO</td>\n",
       "    </tr>\n",
       "    <tr>\n",
       "      <th>3</th>\n",
       "      <td>808488</td>\n",
       "      <td>8878794629</td>\n",
       "      <td>English</td>\n",
       "      <td>On-Track</td>\n",
       "      <td>35</td>\n",
       "      <td>11/6/2020</td>\n",
       "      <td>808488.0</td>\n",
       "      <td>Hispanic/Latino</td>\n",
       "      <td>YES</td>\n",
       "      <td>NO</td>\n",
       "      <td>NO</td>\n",
       "    </tr>\n",
       "    <tr>\n",
       "      <th>4</th>\n",
       "      <td>808486</td>\n",
       "      <td>8878745384</td>\n",
       "      <td>English</td>\n",
       "      <td>On-Track</td>\n",
       "      <td>23</td>\n",
       "      <td>10/16/2020</td>\n",
       "      <td>808486.0</td>\n",
       "      <td>Hispanic/Latino</td>\n",
       "      <td>YES</td>\n",
       "      <td>NO</td>\n",
       "      <td>NO</td>\n",
       "    </tr>\n",
       "  </tbody>\n",
       "</table>\n",
       "</div>"
      ],
      "text/plain": [
       "   district_id_x  student_id language lit_screening_benchmark  \\\n",
       "0          70408  8878861576  English                 Monitor   \n",
       "1         808486  8878825752  English                On-Track   \n",
       "2         801404  8878799239  English                 Support   \n",
       "3         808488  8878794629  English                On-Track   \n",
       "4         808486  8878745384  English                On-Track   \n",
       "\n",
       "   lit_screening_score        date  district_id_y        ethnicity  eco  el  \\\n",
       "0                   15   9/15/2020        70408.0  Hispanic/Latino   NO  NO   \n",
       "1                   29  11/30/2020       808486.0            White   NO  NO   \n",
       "2                   14  10/12/2020       801404.0  Hispanic/Latino   NO  NO   \n",
       "3                   35   11/6/2020       808488.0  Hispanic/Latino  YES  NO   \n",
       "4                   23  10/16/2020       808486.0  Hispanic/Latino  YES  NO   \n",
       "\n",
       "  spec_ed  \n",
       "0      NO  \n",
       "1      NO  \n",
       "2      NO  \n",
       "3      NO  \n",
       "4      NO  "
      ]
     },
     "execution_count": 77,
     "metadata": {},
     "output_type": "execute_result"
    }
   ],
   "source": [
    "txkea.head()"
   ]
  },
  {
   "cell_type": "code",
   "execution_count": 78,
   "id": "95716856",
   "metadata": {},
   "outputs": [
    {
     "data": {
      "text/html": [
       "<div>\n",
       "<style scoped>\n",
       "    .dataframe tbody tr th:only-of-type {\n",
       "        vertical-align: middle;\n",
       "    }\n",
       "\n",
       "    .dataframe tbody tr th {\n",
       "        vertical-align: top;\n",
       "    }\n",
       "\n",
       "    .dataframe thead th {\n",
       "        text-align: right;\n",
       "    }\n",
       "</style>\n",
       "<table border=\"1\" class=\"dataframe\">\n",
       "  <thead>\n",
       "    <tr style=\"text-align: right;\">\n",
       "      <th></th>\n",
       "      <th>district_id_x</th>\n",
       "      <th>student_id</th>\n",
       "      <th>language</th>\n",
       "      <th>lit_screening_benchmark</th>\n",
       "      <th>lit_screening_score</th>\n",
       "      <th>date</th>\n",
       "      <th>ethnicity</th>\n",
       "      <th>eco</th>\n",
       "      <th>el</th>\n",
       "      <th>spec_ed</th>\n",
       "    </tr>\n",
       "  </thead>\n",
       "  <tbody>\n",
       "    <tr>\n",
       "      <th>0</th>\n",
       "      <td>70408</td>\n",
       "      <td>8878861576</td>\n",
       "      <td>English</td>\n",
       "      <td>Monitor</td>\n",
       "      <td>15</td>\n",
       "      <td>9/15/2020</td>\n",
       "      <td>Hispanic/Latino</td>\n",
       "      <td>NO</td>\n",
       "      <td>NO</td>\n",
       "      <td>NO</td>\n",
       "    </tr>\n",
       "    <tr>\n",
       "      <th>1</th>\n",
       "      <td>808486</td>\n",
       "      <td>8878825752</td>\n",
       "      <td>English</td>\n",
       "      <td>On-Track</td>\n",
       "      <td>29</td>\n",
       "      <td>11/30/2020</td>\n",
       "      <td>White</td>\n",
       "      <td>NO</td>\n",
       "      <td>NO</td>\n",
       "      <td>NO</td>\n",
       "    </tr>\n",
       "    <tr>\n",
       "      <th>2</th>\n",
       "      <td>801404</td>\n",
       "      <td>8878799239</td>\n",
       "      <td>English</td>\n",
       "      <td>Support</td>\n",
       "      <td>14</td>\n",
       "      <td>10/12/2020</td>\n",
       "      <td>Hispanic/Latino</td>\n",
       "      <td>NO</td>\n",
       "      <td>NO</td>\n",
       "      <td>NO</td>\n",
       "    </tr>\n",
       "    <tr>\n",
       "      <th>3</th>\n",
       "      <td>808488</td>\n",
       "      <td>8878794629</td>\n",
       "      <td>English</td>\n",
       "      <td>On-Track</td>\n",
       "      <td>35</td>\n",
       "      <td>11/6/2020</td>\n",
       "      <td>Hispanic/Latino</td>\n",
       "      <td>YES</td>\n",
       "      <td>NO</td>\n",
       "      <td>NO</td>\n",
       "    </tr>\n",
       "    <tr>\n",
       "      <th>4</th>\n",
       "      <td>808486</td>\n",
       "      <td>8878745384</td>\n",
       "      <td>English</td>\n",
       "      <td>On-Track</td>\n",
       "      <td>23</td>\n",
       "      <td>10/16/2020</td>\n",
       "      <td>Hispanic/Latino</td>\n",
       "      <td>YES</td>\n",
       "      <td>NO</td>\n",
       "      <td>NO</td>\n",
       "    </tr>\n",
       "  </tbody>\n",
       "</table>\n",
       "</div>"
      ],
      "text/plain": [
       "   district_id_x  student_id language lit_screening_benchmark  \\\n",
       "0          70408  8878861576  English                 Monitor   \n",
       "1         808486  8878825752  English                On-Track   \n",
       "2         801404  8878799239  English                 Support   \n",
       "3         808488  8878794629  English                On-Track   \n",
       "4         808486  8878745384  English                On-Track   \n",
       "\n",
       "   lit_screening_score        date        ethnicity  eco  el spec_ed  \n",
       "0                   15   9/15/2020  Hispanic/Latino   NO  NO      NO  \n",
       "1                   29  11/30/2020            White   NO  NO      NO  \n",
       "2                   14  10/12/2020  Hispanic/Latino   NO  NO      NO  \n",
       "3                   35   11/6/2020  Hispanic/Latino  YES  NO      NO  \n",
       "4                   23  10/16/2020  Hispanic/Latino  YES  NO      NO  "
      ]
     },
     "execution_count": 78,
     "metadata": {},
     "output_type": "execute_result"
    }
   ],
   "source": [
    "txkea.drop('district_id_y',axis=1,inplace=True)\n",
    "txkea.head()"
   ]
  },
  {
   "cell_type": "markdown",
   "id": "99a9e9c9",
   "metadata": {},
   "source": [
    "# Component 1 - Drop Spanish language versions of the test\n",
    "\n",
    "We must limit the analysis to students taking the English version of each diagnostic to avoid complications that arise from differences in the English and Spanish versions of mCLASS."
   ]
  },
  {
   "cell_type": "code",
   "execution_count": 79,
   "id": "42821bb2",
   "metadata": {},
   "outputs": [
    {
     "data": {
      "text/plain": [
       "English    94558\n",
       "Spanish    17515\n",
       "Name: language, dtype: int64"
      ]
     },
     "execution_count": 79,
     "metadata": {},
     "output_type": "execute_result"
    }
   ],
   "source": [
    "#checking values\n",
    "txkea.language.value_counts()"
   ]
  },
  {
   "cell_type": "code",
   "execution_count": 80,
   "id": "4b818693",
   "metadata": {},
   "outputs": [],
   "source": [
    "txkea = txkea[txkea['language'] == 'English']"
   ]
  },
  {
   "cell_type": "code",
   "execution_count": 81,
   "id": "9ad0fd83",
   "metadata": {},
   "outputs": [
    {
     "data": {
      "text/plain": [
       "English    94558\n",
       "Name: language, dtype: int64"
      ]
     },
     "execution_count": 81,
     "metadata": {},
     "output_type": "execute_result"
    }
   ],
   "source": [
    "txkea.language.value_counts()"
   ]
  },
  {
   "cell_type": "code",
   "execution_count": 82,
   "id": "84e943e2",
   "metadata": {},
   "outputs": [],
   "source": [
    "txkea.drop('language',axis=1,inplace=True)\n"
   ]
  },
  {
   "cell_type": "code",
   "execution_count": 83,
   "id": "09d729a3",
   "metadata": {},
   "outputs": [
    {
     "name": "stdout",
     "output_type": "stream",
     "text": [
      "<class 'pandas.core.frame.DataFrame'>\n",
      "Int64Index: 94558 entries, 0 to 112072\n",
      "Data columns (total 9 columns):\n",
      " #   Column                   Non-Null Count  Dtype \n",
      "---  ------                   --------------  ----- \n",
      " 0   district_id_x            94558 non-null  int64 \n",
      " 1   student_id               94558 non-null  object\n",
      " 2   lit_screening_benchmark  94558 non-null  object\n",
      " 3   lit_screening_score      94558 non-null  int64 \n",
      " 4   date                     94558 non-null  object\n",
      " 5   ethnicity                71030 non-null  object\n",
      " 6   eco                      71030 non-null  object\n",
      " 7   el                       71030 non-null  object\n",
      " 8   spec_ed                  71030 non-null  object\n",
      "dtypes: int64(2), object(7)\n",
      "memory usage: 7.2+ MB\n"
     ]
    }
   ],
   "source": [
    "txkea.info()"
   ]
  },
  {
   "cell_type": "code",
   "execution_count": 84,
   "id": "0611098c",
   "metadata": {},
   "outputs": [
    {
     "data": {
      "text/html": [
       "<div>\n",
       "<style scoped>\n",
       "    .dataframe tbody tr th:only-of-type {\n",
       "        vertical-align: middle;\n",
       "    }\n",
       "\n",
       "    .dataframe tbody tr th {\n",
       "        vertical-align: top;\n",
       "    }\n",
       "\n",
       "    .dataframe thead th {\n",
       "        text-align: right;\n",
       "    }\n",
       "</style>\n",
       "<table border=\"1\" class=\"dataframe\">\n",
       "  <thead>\n",
       "    <tr style=\"text-align: right;\">\n",
       "      <th></th>\n",
       "      <th>district_id_x</th>\n",
       "      <th>student_id</th>\n",
       "      <th>lit_screening_benchmark</th>\n",
       "      <th>lit_screening_score</th>\n",
       "      <th>date</th>\n",
       "      <th>ethnicity</th>\n",
       "      <th>eco</th>\n",
       "      <th>el</th>\n",
       "      <th>spec_ed</th>\n",
       "    </tr>\n",
       "  </thead>\n",
       "  <tbody>\n",
       "    <tr>\n",
       "      <th>0</th>\n",
       "      <td>70408</td>\n",
       "      <td>8878861576</td>\n",
       "      <td>Monitor</td>\n",
       "      <td>15</td>\n",
       "      <td>9/15/2020</td>\n",
       "      <td>Hispanic/Latino</td>\n",
       "      <td>NO</td>\n",
       "      <td>NO</td>\n",
       "      <td>NO</td>\n",
       "    </tr>\n",
       "    <tr>\n",
       "      <th>1</th>\n",
       "      <td>808486</td>\n",
       "      <td>8878825752</td>\n",
       "      <td>On-Track</td>\n",
       "      <td>29</td>\n",
       "      <td>11/30/2020</td>\n",
       "      <td>White</td>\n",
       "      <td>NO</td>\n",
       "      <td>NO</td>\n",
       "      <td>NO</td>\n",
       "    </tr>\n",
       "    <tr>\n",
       "      <th>2</th>\n",
       "      <td>801404</td>\n",
       "      <td>8878799239</td>\n",
       "      <td>Support</td>\n",
       "      <td>14</td>\n",
       "      <td>10/12/2020</td>\n",
       "      <td>Hispanic/Latino</td>\n",
       "      <td>NO</td>\n",
       "      <td>NO</td>\n",
       "      <td>NO</td>\n",
       "    </tr>\n",
       "    <tr>\n",
       "      <th>3</th>\n",
       "      <td>808488</td>\n",
       "      <td>8878794629</td>\n",
       "      <td>On-Track</td>\n",
       "      <td>35</td>\n",
       "      <td>11/6/2020</td>\n",
       "      <td>Hispanic/Latino</td>\n",
       "      <td>YES</td>\n",
       "      <td>NO</td>\n",
       "      <td>NO</td>\n",
       "    </tr>\n",
       "    <tr>\n",
       "      <th>4</th>\n",
       "      <td>808486</td>\n",
       "      <td>8878745384</td>\n",
       "      <td>On-Track</td>\n",
       "      <td>23</td>\n",
       "      <td>10/16/2020</td>\n",
       "      <td>Hispanic/Latino</td>\n",
       "      <td>YES</td>\n",
       "      <td>NO</td>\n",
       "      <td>NO</td>\n",
       "    </tr>\n",
       "  </tbody>\n",
       "</table>\n",
       "</div>"
      ],
      "text/plain": [
       "   district_id_x  student_id lit_screening_benchmark  lit_screening_score  \\\n",
       "0          70408  8878861576                 Monitor                   15   \n",
       "1         808486  8878825752                On-Track                   29   \n",
       "2         801404  8878799239                 Support                   14   \n",
       "3         808488  8878794629                On-Track                   35   \n",
       "4         808486  8878745384                On-Track                   23   \n",
       "\n",
       "         date        ethnicity  eco  el spec_ed  \n",
       "0   9/15/2020  Hispanic/Latino   NO  NO      NO  \n",
       "1  11/30/2020            White   NO  NO      NO  \n",
       "2  10/12/2020  Hispanic/Latino   NO  NO      NO  \n",
       "3   11/6/2020  Hispanic/Latino  YES  NO      NO  \n",
       "4  10/16/2020  Hispanic/Latino  YES  NO      NO  "
      ]
     },
     "execution_count": 84,
     "metadata": {},
     "output_type": "execute_result"
    }
   ],
   "source": [
    "txkea.head()"
   ]
  },
  {
   "cell_type": "markdown",
   "id": "8cf757af",
   "metadata": {},
   "source": [
    "# Ensure that no rows have values for both MCLASS and TXKEA assessments"
   ]
  },
  {
   "cell_type": "markdown",
   "id": "235925c3",
   "metadata": {},
   "source": [
    "# Assessment Scoring\n",
    "\n",
    "Let's take a quick look at each assessments outcome."
   ]
  },
  {
   "cell_type": "code",
   "execution_count": 85,
   "id": "07a69a4e",
   "metadata": {},
   "outputs": [
    {
     "data": {
      "text/plain": [
       "On-Track    71152\n",
       "Support     14468\n",
       "Monitor      8938\n",
       "Name: lit_screening_benchmark, dtype: int64"
      ]
     },
     "execution_count": 85,
     "metadata": {},
     "output_type": "execute_result"
    }
   ],
   "source": [
    "txkea.lit_screening_benchmark.value_counts()"
   ]
  },
  {
   "cell_type": "markdown",
   "id": "31f5bcd4",
   "metadata": {},
   "source": [
    "# Number Of Missing Values By Column\n",
    "\n",
    "There are many NaN values. Let's count the number of missing values in each column and sort them."
   ]
  },
  {
   "cell_type": "code",
   "execution_count": 86,
   "id": "3831a1a4",
   "metadata": {},
   "outputs": [
    {
     "data": {
      "text/html": [
       "<div>\n",
       "<style scoped>\n",
       "    .dataframe tbody tr th:only-of-type {\n",
       "        vertical-align: middle;\n",
       "    }\n",
       "\n",
       "    .dataframe tbody tr th {\n",
       "        vertical-align: top;\n",
       "    }\n",
       "\n",
       "    .dataframe thead th {\n",
       "        text-align: right;\n",
       "    }\n",
       "</style>\n",
       "<table border=\"1\" class=\"dataframe\">\n",
       "  <thead>\n",
       "    <tr style=\"text-align: right;\">\n",
       "      <th></th>\n",
       "      <th>count</th>\n",
       "      <th>%</th>\n",
       "    </tr>\n",
       "  </thead>\n",
       "  <tbody>\n",
       "    <tr>\n",
       "      <th>district_id_x</th>\n",
       "      <td>0</td>\n",
       "      <td>0.000000</td>\n",
       "    </tr>\n",
       "    <tr>\n",
       "      <th>student_id</th>\n",
       "      <td>0</td>\n",
       "      <td>0.000000</td>\n",
       "    </tr>\n",
       "    <tr>\n",
       "      <th>lit_screening_benchmark</th>\n",
       "      <td>0</td>\n",
       "      <td>0.000000</td>\n",
       "    </tr>\n",
       "    <tr>\n",
       "      <th>lit_screening_score</th>\n",
       "      <td>0</td>\n",
       "      <td>0.000000</td>\n",
       "    </tr>\n",
       "    <tr>\n",
       "      <th>date</th>\n",
       "      <td>0</td>\n",
       "      <td>0.000000</td>\n",
       "    </tr>\n",
       "    <tr>\n",
       "      <th>ethnicity</th>\n",
       "      <td>23528</td>\n",
       "      <td>24.882083</td>\n",
       "    </tr>\n",
       "    <tr>\n",
       "      <th>eco</th>\n",
       "      <td>23528</td>\n",
       "      <td>24.882083</td>\n",
       "    </tr>\n",
       "    <tr>\n",
       "      <th>el</th>\n",
       "      <td>23528</td>\n",
       "      <td>24.882083</td>\n",
       "    </tr>\n",
       "    <tr>\n",
       "      <th>spec_ed</th>\n",
       "      <td>23528</td>\n",
       "      <td>24.882083</td>\n",
       "    </tr>\n",
       "  </tbody>\n",
       "</table>\n",
       "</div>"
      ],
      "text/plain": [
       "                         count          %\n",
       "district_id_x                0   0.000000\n",
       "student_id                   0   0.000000\n",
       "lit_screening_benchmark      0   0.000000\n",
       "lit_screening_score          0   0.000000\n",
       "date                         0   0.000000\n",
       "ethnicity                23528  24.882083\n",
       "eco                      23528  24.882083\n",
       "el                       23528  24.882083\n",
       "spec_ed                  23528  24.882083"
      ]
     },
     "execution_count": 86,
     "metadata": {},
     "output_type": "execute_result"
    }
   ],
   "source": [
    "\n",
    "missing = pd.concat([txkea.isnull().sum(), 100 * txkea.isnull().mean()], axis=1)\n",
    "missing.columns=['count', '%']\n",
    "missing.sort_values(by='count')"
   ]
  },
  {
   "cell_type": "code",
   "execution_count": 87,
   "id": "f4f8021e",
   "metadata": {},
   "outputs": [],
   "source": [
    "txkea.dropna(subset=['ethnicity'],inplace=True)"
   ]
  },
  {
   "cell_type": "code",
   "execution_count": 88,
   "id": "7a58233a",
   "metadata": {},
   "outputs": [
    {
     "data": {
      "text/html": [
       "<div>\n",
       "<style scoped>\n",
       "    .dataframe tbody tr th:only-of-type {\n",
       "        vertical-align: middle;\n",
       "    }\n",
       "\n",
       "    .dataframe tbody tr th {\n",
       "        vertical-align: top;\n",
       "    }\n",
       "\n",
       "    .dataframe thead th {\n",
       "        text-align: right;\n",
       "    }\n",
       "</style>\n",
       "<table border=\"1\" class=\"dataframe\">\n",
       "  <thead>\n",
       "    <tr style=\"text-align: right;\">\n",
       "      <th></th>\n",
       "      <th>count</th>\n",
       "      <th>%</th>\n",
       "    </tr>\n",
       "  </thead>\n",
       "  <tbody>\n",
       "    <tr>\n",
       "      <th>district_id_x</th>\n",
       "      <td>0</td>\n",
       "      <td>0.0</td>\n",
       "    </tr>\n",
       "    <tr>\n",
       "      <th>student_id</th>\n",
       "      <td>0</td>\n",
       "      <td>0.0</td>\n",
       "    </tr>\n",
       "    <tr>\n",
       "      <th>lit_screening_benchmark</th>\n",
       "      <td>0</td>\n",
       "      <td>0.0</td>\n",
       "    </tr>\n",
       "    <tr>\n",
       "      <th>lit_screening_score</th>\n",
       "      <td>0</td>\n",
       "      <td>0.0</td>\n",
       "    </tr>\n",
       "    <tr>\n",
       "      <th>date</th>\n",
       "      <td>0</td>\n",
       "      <td>0.0</td>\n",
       "    </tr>\n",
       "    <tr>\n",
       "      <th>ethnicity</th>\n",
       "      <td>0</td>\n",
       "      <td>0.0</td>\n",
       "    </tr>\n",
       "    <tr>\n",
       "      <th>eco</th>\n",
       "      <td>0</td>\n",
       "      <td>0.0</td>\n",
       "    </tr>\n",
       "    <tr>\n",
       "      <th>el</th>\n",
       "      <td>0</td>\n",
       "      <td>0.0</td>\n",
       "    </tr>\n",
       "    <tr>\n",
       "      <th>spec_ed</th>\n",
       "      <td>0</td>\n",
       "      <td>0.0</td>\n",
       "    </tr>\n",
       "  </tbody>\n",
       "</table>\n",
       "</div>"
      ],
      "text/plain": [
       "                         count    %\n",
       "district_id_x                0  0.0\n",
       "student_id                   0  0.0\n",
       "lit_screening_benchmark      0  0.0\n",
       "lit_screening_score          0  0.0\n",
       "date                         0  0.0\n",
       "ethnicity                    0  0.0\n",
       "eco                          0  0.0\n",
       "el                           0  0.0\n",
       "spec_ed                      0  0.0"
      ]
     },
     "execution_count": 88,
     "metadata": {},
     "output_type": "execute_result"
    }
   ],
   "source": [
    "missing = pd.concat([txkea.isnull().sum(), 100 * txkea.isnull().mean()], axis=1)\n",
    "missing.columns=['count', '%']\n",
    "missing.sort_values(by='count')"
   ]
  },
  {
   "cell_type": "code",
   "execution_count": 89,
   "id": "3514d5c8",
   "metadata": {},
   "outputs": [
    {
     "name": "stdout",
     "output_type": "stream",
     "text": [
      "<class 'pandas.core.frame.DataFrame'>\n",
      "Int64Index: 71030 entries, 0 to 98027\n",
      "Data columns (total 9 columns):\n",
      " #   Column                   Non-Null Count  Dtype \n",
      "---  ------                   --------------  ----- \n",
      " 0   district_id_x            71030 non-null  int64 \n",
      " 1   student_id               71030 non-null  object\n",
      " 2   lit_screening_benchmark  71030 non-null  object\n",
      " 3   lit_screening_score      71030 non-null  int64 \n",
      " 4   date                     71030 non-null  object\n",
      " 5   ethnicity                71030 non-null  object\n",
      " 6   eco                      71030 non-null  object\n",
      " 7   el                       71030 non-null  object\n",
      " 8   spec_ed                  71030 non-null  object\n",
      "dtypes: int64(2), object(7)\n",
      "memory usage: 5.4+ MB\n"
     ]
    }
   ],
   "source": [
    "txkea.info()"
   ]
  },
  {
   "cell_type": "code",
   "execution_count": 90,
   "id": "3118c060",
   "metadata": {},
   "outputs": [],
   "source": [
    "txkea.to_csv('txkea_clean.csv')"
   ]
  },
  {
   "cell_type": "code",
   "execution_count": null,
   "id": "6be98aff",
   "metadata": {},
   "outputs": [],
   "source": []
  }
 ],
 "metadata": {
  "kernelspec": {
   "display_name": "Python 3 (ipykernel)",
   "language": "python",
   "name": "python3"
  },
  "language_info": {
   "codemirror_mode": {
    "name": "ipython",
    "version": 3
   },
   "file_extension": ".py",
   "mimetype": "text/x-python",
   "name": "python",
   "nbconvert_exporter": "python",
   "pygments_lexer": "ipython3",
   "version": "3.8.13"
  }
 },
 "nbformat": 4,
 "nbformat_minor": 5
}
