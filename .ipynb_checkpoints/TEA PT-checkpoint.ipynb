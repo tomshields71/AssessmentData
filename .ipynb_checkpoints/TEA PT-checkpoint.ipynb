{
 "cells": [
  {
   "cell_type": "code",
   "execution_count": null,
   "id": "3a61256d",
   "metadata": {},
   "outputs": [],
   "source": []
  },
  {
   "cell_type": "markdown",
   "id": "10c3978e",
   "metadata": {},
   "source": [
    "# SCENARIO \n",
    "\n",
    "In SY 20-21, TEA required all Texas LEAs (Local Education Agencies such as a school district) to administer either the TX-KEA or mCLASS assessment to Kindergarten students in order to measure Kindergarten readiness. The Tx-KEA and mCLASS diagnostics employ different scales for scoring and evaluate different sets of skills. Initial analysis of Fall 2020 data indicates a 38 percentage point gap in Kindergarten readiness between the two tests; 76% of students who took Tx-KEA were found to be Kindergarten ready compared to just 38% of students who took mCLASS. \n",
    "\n",
    "Your task is to extract, analyze, and present data that will help the Early Childhood Education team understand to what extent the difference in readiness as measured by the tests is due to differences in the underlying populations of students taking each (as opposed to differences in test design and scoring). As mentioned above, your response should include the following three components:\n",
    "\n",
    "1)A SQL query you have written to aggregate and extract necessary data from the database,\n",
    "2)A data cleaning/analysis script,\n",
    "3)A brief narrative which describes key findings and includes data visualizations\n",
    "\n",
    "Please limit the analysis to students taking the English version of each diagnostic to avoid complications that arise from differences in the English and Spanish versions of mCLASS.\n",
    "\n",
    "Component 1:\n",
    "\n",
    "Below is a description of the database and an entity relationship diagram to help you prepare a SQL query that leverages the database to both extract and aggregate relevant data to prepare for analysis. Your analysis script should take as inputs the attached three data files (currently in csv format) which mimic the tables in the described database. Database Tables:\n",
    "\n",
    "1)MCLASS – student level performance on mCLASS diagnostic assessment.\n",
    "•Field ‘assessment_edition’ indicates whether the student took the English version of thetest (DIBELS) or the Spanish version (IDEL).\n",
    "•For field ‘composite_level’ values of ‘At Benchmark’ or ‘Above Benchmark’ indicatesKindergarten readiness.\n",
    "\n",
    "2)TXKEA – student level performance on Tx-KEA diagnostic assessment.\n",
    "•Field ‘language’ indicates whether the student took the English or Spanish version\n",
    "•For field ‘lit_screening_benchmark’ value of ‘On-Track’ indicates Kindergarten readiness.\n",
    "\n",
    "3)DEMO – student level demographic data.\n",
    "•Field ‘eco’ indicates whether the student is identified as ‘economically disadvantaged’\n",
    "•Field ‘spec_ed’ indicates whether the student receives special education services\n",
    "•Field ‘el’ indicates whether the student is identified as an English learner\n",
    "\n",
    "Component 2:\n",
    "Demonstrate how you prepared and analyzed the data in response to the scenario. For the data analysis script, Python is the preferred language but not a requirement. The script can be written in the programming language of your choice. Depending on your SQL query (because the database in component 1 is hypothetical), the first part of your data cleaning/analysis script may need to replicate some portion of the initial manipulation your SQL query accomplishes. \n",
    "\n",
    "Component 3: Please combine the narrative analysis and visualization in one file. Though Power BI is the preferred visualization software, the data presentation can be done using any software you choose (e.g. Tableau, Looker, Jupyter notebook, etc.)."
   ]
  },
  {
   "cell_type": "code",
   "execution_count": 473,
   "id": "b6ecc8f1",
   "metadata": {},
   "outputs": [],
   "source": [
    "import pandas as pd\n",
    "import seaborn as sns\n",
    "import matplotlib.pyplot as plt\n",
    "from sklearn import preprocessing\n",
    "from statsmodels.graphics.mosaicplot import mosaic"
   ]
  },
  {
   "cell_type": "markdown",
   "id": "c2539243",
   "metadata": {},
   "source": [
    "The first thing I want to do is take a look at the shape of the data files so I can better decide how I should choose which join to perform."
   ]
  },
  {
   "cell_type": "code",
   "execution_count": 474,
   "id": "3dd17ebe",
   "metadata": {},
   "outputs": [
    {
     "name": "stderr",
     "output_type": "stream",
     "text": [
      "C:\\Users\\tomsh\\anaconda3\\envs\\my_env\\lib\\site-packages\\IPython\\core\\interactiveshell.py:3444: DtypeWarning: Columns (0) have mixed types.Specify dtype option on import or set low_memory=False.\n",
      "  exec(code_obj, self.user_global_ns, self.user_ns)\n"
     ]
    },
    {
     "data": {
      "text/html": [
       "<div>\n",
       "<style scoped>\n",
       "    .dataframe tbody tr th:only-of-type {\n",
       "        vertical-align: middle;\n",
       "    }\n",
       "\n",
       "    .dataframe tbody tr th {\n",
       "        vertical-align: top;\n",
       "    }\n",
       "\n",
       "    .dataframe thead th {\n",
       "        text-align: right;\n",
       "    }\n",
       "</style>\n",
       "<table border=\"1\" class=\"dataframe\">\n",
       "  <thead>\n",
       "    <tr style=\"text-align: right;\">\n",
       "      <th></th>\n",
       "      <th>student_id</th>\n",
       "      <th>district_id</th>\n",
       "      <th>ethnicity</th>\n",
       "      <th>eco</th>\n",
       "      <th>el</th>\n",
       "      <th>spec_ed</th>\n",
       "    </tr>\n",
       "  </thead>\n",
       "  <tbody>\n",
       "    <tr>\n",
       "      <th>0</th>\n",
       "      <td>97840593</td>\n",
       "      <td>798403</td>\n",
       "      <td>Black or African American</td>\n",
       "      <td>YES</td>\n",
       "      <td>NO</td>\n",
       "      <td>NO</td>\n",
       "    </tr>\n",
       "    <tr>\n",
       "      <th>1</th>\n",
       "      <td>885938600</td>\n",
       "      <td>53405</td>\n",
       "      <td>White</td>\n",
       "      <td>YES</td>\n",
       "      <td>NO</td>\n",
       "      <td>NO</td>\n",
       "    </tr>\n",
       "    <tr>\n",
       "      <th>2</th>\n",
       "      <td>871944576</td>\n",
       "      <td>798403</td>\n",
       "      <td>Black or African American</td>\n",
       "      <td>YES</td>\n",
       "      <td>NO</td>\n",
       "      <td>NO</td>\n",
       "    </tr>\n",
       "    <tr>\n",
       "      <th>3</th>\n",
       "      <td>818725252</td>\n",
       "      <td>53405</td>\n",
       "      <td>White</td>\n",
       "      <td>NO</td>\n",
       "      <td>NO</td>\n",
       "      <td>NO</td>\n",
       "    </tr>\n",
       "    <tr>\n",
       "      <th>4</th>\n",
       "      <td>702015143</td>\n",
       "      <td>800409</td>\n",
       "      <td>White</td>\n",
       "      <td>YES</td>\n",
       "      <td>NO</td>\n",
       "      <td>YES</td>\n",
       "    </tr>\n",
       "  </tbody>\n",
       "</table>\n",
       "</div>"
      ],
      "text/plain": [
       "  student_id  district_id                  ethnicity  eco  el spec_ed\n",
       "0   97840593       798403  Black or African American  YES  NO      NO\n",
       "1  885938600        53405                      White  YES  NO      NO\n",
       "2  871944576       798403  Black or African American  YES  NO      NO\n",
       "3  818725252        53405                      White   NO  NO      NO\n",
       "4  702015143       800409                      White  YES  NO     YES"
      ]
     },
     "execution_count": 474,
     "metadata": {},
     "output_type": "execute_result"
    }
   ],
   "source": [
    "demo = pd.read_csv('Data/DEMO.csv')\n",
    "demo.head()"
   ]
  },
  {
   "cell_type": "code",
   "execution_count": 475,
   "id": "22fc58e1",
   "metadata": {},
   "outputs": [
    {
     "name": "stdout",
     "output_type": "stream",
     "text": [
      "<class 'pandas.core.frame.DataFrame'>\n",
      "RangeIndex: 174348 entries, 0 to 174347\n",
      "Data columns (total 6 columns):\n",
      " #   Column       Non-Null Count   Dtype \n",
      "---  ------       --------------   ----- \n",
      " 0   student_id   174348 non-null  object\n",
      " 1   district_id  174348 non-null  int64 \n",
      " 2   ethnicity    174348 non-null  object\n",
      " 3   eco          174348 non-null  object\n",
      " 4   el           174348 non-null  object\n",
      " 5   spec_ed      174348 non-null  object\n",
      "dtypes: int64(1), object(5)\n",
      "memory usage: 8.0+ MB\n"
     ]
    }
   ],
   "source": [
    "demo.info()"
   ]
  },
  {
   "cell_type": "code",
   "execution_count": 476,
   "id": "4180e8e9",
   "metadata": {},
   "outputs": [
    {
     "data": {
      "text/html": [
       "<div>\n",
       "<style scoped>\n",
       "    .dataframe tbody tr th:only-of-type {\n",
       "        vertical-align: middle;\n",
       "    }\n",
       "\n",
       "    .dataframe tbody tr th {\n",
       "        vertical-align: top;\n",
       "    }\n",
       "\n",
       "    .dataframe thead th {\n",
       "        text-align: right;\n",
       "    }\n",
       "</style>\n",
       "<table border=\"1\" class=\"dataframe\">\n",
       "  <thead>\n",
       "    <tr style=\"text-align: right;\">\n",
       "      <th></th>\n",
       "      <th>student_id</th>\n",
       "      <th>district_id</th>\n",
       "      <th>school_id</th>\n",
       "      <th>assessment_edition</th>\n",
       "      <th>composite_level</th>\n",
       "      <th>composite_score</th>\n",
       "    </tr>\n",
       "  </thead>\n",
       "  <tbody>\n",
       "    <tr>\n",
       "      <th>0</th>\n",
       "      <td>8878547139</td>\n",
       "      <td>806405.0</td>\n",
       "      <td>806405802</td>\n",
       "      <td>DIBELS 8th Edition</td>\n",
       "      <td>At Benchmark</td>\n",
       "      <td>306.0</td>\n",
       "    </tr>\n",
       "    <tr>\n",
       "      <th>1</th>\n",
       "      <td>8878132753</td>\n",
       "      <td>818408.0</td>\n",
       "      <td>818408807</td>\n",
       "      <td>DIBELS 8th Edition</td>\n",
       "      <td>Below Benchmark</td>\n",
       "      <td>291.0</td>\n",
       "    </tr>\n",
       "    <tr>\n",
       "      <th>2</th>\n",
       "      <td>8877357966</td>\n",
       "      <td>NaN</td>\n",
       "      <td>NaN</td>\n",
       "      <td>DIBELS 8th Edition</td>\n",
       "      <td>At Benchmark</td>\n",
       "      <td>314.0</td>\n",
       "    </tr>\n",
       "    <tr>\n",
       "      <th>3</th>\n",
       "      <td>8877359986</td>\n",
       "      <td>820405.0</td>\n",
       "      <td>820405805</td>\n",
       "      <td>DIBELS 8th Edition</td>\n",
       "      <td>At Benchmark</td>\n",
       "      <td>326.0</td>\n",
       "    </tr>\n",
       "    <tr>\n",
       "      <th>4</th>\n",
       "      <td>8877961413</td>\n",
       "      <td>820407.0</td>\n",
       "      <td>820407871</td>\n",
       "      <td>DIBELS 8th Edition</td>\n",
       "      <td>At Benchmark</td>\n",
       "      <td>308.0</td>\n",
       "    </tr>\n",
       "  </tbody>\n",
       "</table>\n",
       "</div>"
      ],
      "text/plain": [
       "   student_id  district_id  school_id  assessment_edition  composite_level  \\\n",
       "0  8878547139     806405.0  806405802  DIBELS 8th Edition     At Benchmark   \n",
       "1  8878132753     818408.0  818408807  DIBELS 8th Edition  Below Benchmark   \n",
       "2  8877357966          NaN        NaN  DIBELS 8th Edition     At Benchmark   \n",
       "3  8877359986     820405.0  820405805  DIBELS 8th Edition     At Benchmark   \n",
       "4  8877961413     820407.0  820407871  DIBELS 8th Edition     At Benchmark   \n",
       "\n",
       "   composite_score  \n",
       "0            306.0  \n",
       "1            291.0  \n",
       "2            314.0  \n",
       "3            326.0  \n",
       "4            308.0  "
      ]
     },
     "execution_count": 476,
     "metadata": {},
     "output_type": "execute_result"
    }
   ],
   "source": [
    "mclass = pd.read_csv('Data/MCLASS.csv')\n",
    "mclass.head()"
   ]
  },
  {
   "cell_type": "code",
   "execution_count": 477,
   "id": "617d5438",
   "metadata": {},
   "outputs": [
    {
     "name": "stdout",
     "output_type": "stream",
     "text": [
      "<class 'pandas.core.frame.DataFrame'>\n",
      "RangeIndex: 63268 entries, 0 to 63267\n",
      "Data columns (total 6 columns):\n",
      " #   Column              Non-Null Count  Dtype  \n",
      "---  ------              --------------  -----  \n",
      " 0   student_id          63268 non-null  int64  \n",
      " 1   district_id         57028 non-null  float64\n",
      " 2   school_id           56676 non-null  object \n",
      " 3   assessment_edition  63268 non-null  object \n",
      " 4   composite_level     63268 non-null  object \n",
      " 5   composite_score     56124 non-null  float64\n",
      "dtypes: float64(2), int64(1), object(3)\n",
      "memory usage: 2.9+ MB\n"
     ]
    }
   ],
   "source": [
    "mclass.info()"
   ]
  },
  {
   "cell_type": "code",
   "execution_count": 478,
   "id": "21d56921",
   "metadata": {},
   "outputs": [
    {
     "data": {
      "text/html": [
       "<div>\n",
       "<style scoped>\n",
       "    .dataframe tbody tr th:only-of-type {\n",
       "        vertical-align: middle;\n",
       "    }\n",
       "\n",
       "    .dataframe tbody tr th {\n",
       "        vertical-align: top;\n",
       "    }\n",
       "\n",
       "    .dataframe thead th {\n",
       "        text-align: right;\n",
       "    }\n",
       "</style>\n",
       "<table border=\"1\" class=\"dataframe\">\n",
       "  <thead>\n",
       "    <tr style=\"text-align: right;\">\n",
       "      <th></th>\n",
       "      <th>district_id</th>\n",
       "      <th>student_id</th>\n",
       "      <th>language</th>\n",
       "      <th>lit_screening_benchmark</th>\n",
       "      <th>lit_screening_score</th>\n",
       "      <th>date</th>\n",
       "    </tr>\n",
       "  </thead>\n",
       "  <tbody>\n",
       "    <tr>\n",
       "      <th>0</th>\n",
       "      <td>70408</td>\n",
       "      <td>8878861576</td>\n",
       "      <td>English</td>\n",
       "      <td>Monitor</td>\n",
       "      <td>15</td>\n",
       "      <td>9/15/2020</td>\n",
       "    </tr>\n",
       "    <tr>\n",
       "      <th>1</th>\n",
       "      <td>808486</td>\n",
       "      <td>8878825752</td>\n",
       "      <td>English</td>\n",
       "      <td>On-Track</td>\n",
       "      <td>29</td>\n",
       "      <td>11/30/2020</td>\n",
       "    </tr>\n",
       "    <tr>\n",
       "      <th>2</th>\n",
       "      <td>801404</td>\n",
       "      <td>8878799239</td>\n",
       "      <td>English</td>\n",
       "      <td>Support</td>\n",
       "      <td>14</td>\n",
       "      <td>10/12/2020</td>\n",
       "    </tr>\n",
       "    <tr>\n",
       "      <th>3</th>\n",
       "      <td>808488</td>\n",
       "      <td>8878794629</td>\n",
       "      <td>English</td>\n",
       "      <td>On-Track</td>\n",
       "      <td>35</td>\n",
       "      <td>11/6/2020</td>\n",
       "    </tr>\n",
       "    <tr>\n",
       "      <th>4</th>\n",
       "      <td>808486</td>\n",
       "      <td>8878745384</td>\n",
       "      <td>English</td>\n",
       "      <td>On-Track</td>\n",
       "      <td>23</td>\n",
       "      <td>10/16/2020</td>\n",
       "    </tr>\n",
       "  </tbody>\n",
       "</table>\n",
       "</div>"
      ],
      "text/plain": [
       "   district_id  student_id language lit_screening_benchmark  \\\n",
       "0        70408  8878861576  English                 Monitor   \n",
       "1       808486  8878825752  English                On-Track   \n",
       "2       801404  8878799239  English                 Support   \n",
       "3       808488  8878794629  English                On-Track   \n",
       "4       808486  8878745384  English                On-Track   \n",
       "\n",
       "   lit_screening_score        date  \n",
       "0                   15   9/15/2020  \n",
       "1                   29  11/30/2020  \n",
       "2                   14  10/12/2020  \n",
       "3                   35   11/6/2020  \n",
       "4                   23  10/16/2020  "
      ]
     },
     "execution_count": 478,
     "metadata": {},
     "output_type": "execute_result"
    }
   ],
   "source": [
    "txkea = pd.read_csv('Data/TXKEA.csv')\n",
    "txkea.head()"
   ]
  },
  {
   "cell_type": "code",
   "execution_count": 479,
   "id": "7e30cc6a",
   "metadata": {},
   "outputs": [
    {
     "name": "stdout",
     "output_type": "stream",
     "text": [
      "<class 'pandas.core.frame.DataFrame'>\n",
      "RangeIndex: 112048 entries, 0 to 112047\n",
      "Data columns (total 6 columns):\n",
      " #   Column                   Non-Null Count   Dtype \n",
      "---  ------                   --------------   ----- \n",
      " 0   district_id              112048 non-null  int64 \n",
      " 1   student_id               112048 non-null  int64 \n",
      " 2   language                 112048 non-null  object\n",
      " 3   lit_screening_benchmark  112048 non-null  object\n",
      " 4   lit_screening_score      112048 non-null  int64 \n",
      " 5   date                     112048 non-null  object\n",
      "dtypes: int64(3), object(3)\n",
      "memory usage: 5.1+ MB\n"
     ]
    }
   ],
   "source": [
    "txkea.info()"
   ]
  },
  {
   "cell_type": "markdown",
   "id": "4471fc05",
   "metadata": {},
   "source": [
    "After a cursory look at the data, the DEMO dataframe has the most rows and no null values so I will join the other two onto it merging the student_id columns."
   ]
  },
  {
   "cell_type": "code",
   "execution_count": 430,
   "id": "7132102a",
   "metadata": {},
   "outputs": [],
   "source": [
    "merged =demo.merge(txkea[['language', 'lit_screening_benchmark', 'student_id']], on='student_id', how='left')"
   ]
  },
  {
   "cell_type": "code",
   "execution_count": 431,
   "id": "3224ad61",
   "metadata": {},
   "outputs": [],
   "source": [
    "df = merged.merge(mclass[['student_id', 'assessment_edition', 'composite_level']], on='student_id', how='left')"
   ]
  },
  {
   "cell_type": "code",
   "execution_count": 432,
   "id": "e1008a9b",
   "metadata": {},
   "outputs": [
    {
     "data": {
      "text/html": [
       "<div>\n",
       "<style scoped>\n",
       "    .dataframe tbody tr th:only-of-type {\n",
       "        vertical-align: middle;\n",
       "    }\n",
       "\n",
       "    .dataframe tbody tr th {\n",
       "        vertical-align: top;\n",
       "    }\n",
       "\n",
       "    .dataframe thead th {\n",
       "        text-align: right;\n",
       "    }\n",
       "</style>\n",
       "<table border=\"1\" class=\"dataframe\">\n",
       "  <thead>\n",
       "    <tr style=\"text-align: right;\">\n",
       "      <th></th>\n",
       "      <th>student_id</th>\n",
       "      <th>district_id</th>\n",
       "      <th>ethnicity</th>\n",
       "      <th>eco</th>\n",
       "      <th>el</th>\n",
       "      <th>spec_ed</th>\n",
       "      <th>language</th>\n",
       "      <th>lit_screening_benchmark</th>\n",
       "      <th>assessment_edition</th>\n",
       "      <th>composite_level</th>\n",
       "    </tr>\n",
       "  </thead>\n",
       "  <tbody>\n",
       "    <tr>\n",
       "      <th>0</th>\n",
       "      <td>97840593</td>\n",
       "      <td>798403</td>\n",
       "      <td>Black or African American</td>\n",
       "      <td>YES</td>\n",
       "      <td>NO</td>\n",
       "      <td>NO</td>\n",
       "      <td>NaN</td>\n",
       "      <td>NaN</td>\n",
       "      <td>NaN</td>\n",
       "      <td>NaN</td>\n",
       "    </tr>\n",
       "    <tr>\n",
       "      <th>1</th>\n",
       "      <td>885938600</td>\n",
       "      <td>53405</td>\n",
       "      <td>White</td>\n",
       "      <td>YES</td>\n",
       "      <td>NO</td>\n",
       "      <td>NO</td>\n",
       "      <td>English</td>\n",
       "      <td>On-Track</td>\n",
       "      <td>NaN</td>\n",
       "      <td>NaN</td>\n",
       "    </tr>\n",
       "    <tr>\n",
       "      <th>2</th>\n",
       "      <td>871944576</td>\n",
       "      <td>798403</td>\n",
       "      <td>Black or African American</td>\n",
       "      <td>YES</td>\n",
       "      <td>NO</td>\n",
       "      <td>NO</td>\n",
       "      <td>English</td>\n",
       "      <td>On-Track</td>\n",
       "      <td>NaN</td>\n",
       "      <td>NaN</td>\n",
       "    </tr>\n",
       "    <tr>\n",
       "      <th>3</th>\n",
       "      <td>818725252</td>\n",
       "      <td>53405</td>\n",
       "      <td>White</td>\n",
       "      <td>NO</td>\n",
       "      <td>NO</td>\n",
       "      <td>NO</td>\n",
       "      <td>English</td>\n",
       "      <td>On-Track</td>\n",
       "      <td>NaN</td>\n",
       "      <td>NaN</td>\n",
       "    </tr>\n",
       "    <tr>\n",
       "      <th>4</th>\n",
       "      <td>702015143</td>\n",
       "      <td>800409</td>\n",
       "      <td>White</td>\n",
       "      <td>YES</td>\n",
       "      <td>NO</td>\n",
       "      <td>YES</td>\n",
       "      <td>English</td>\n",
       "      <td>On-Track</td>\n",
       "      <td>NaN</td>\n",
       "      <td>NaN</td>\n",
       "    </tr>\n",
       "  </tbody>\n",
       "</table>\n",
       "</div>"
      ],
      "text/plain": [
       "  student_id  district_id                  ethnicity  eco  el spec_ed  \\\n",
       "0   97840593       798403  Black or African American  YES  NO      NO   \n",
       "1  885938600        53405                      White  YES  NO      NO   \n",
       "2  871944576       798403  Black or African American  YES  NO      NO   \n",
       "3  818725252        53405                      White   NO  NO      NO   \n",
       "4  702015143       800409                      White  YES  NO     YES   \n",
       "\n",
       "  language lit_screening_benchmark assessment_edition composite_level  \n",
       "0      NaN                     NaN                NaN             NaN  \n",
       "1  English                On-Track                NaN             NaN  \n",
       "2  English                On-Track                NaN             NaN  \n",
       "3  English                On-Track                NaN             NaN  \n",
       "4  English                On-Track                NaN             NaN  "
      ]
     },
     "execution_count": 432,
     "metadata": {},
     "output_type": "execute_result"
    }
   ],
   "source": [
    "df.head()"
   ]
  },
  {
   "cell_type": "code",
   "execution_count": 433,
   "id": "8eb2525d",
   "metadata": {},
   "outputs": [
    {
     "name": "stdout",
     "output_type": "stream",
     "text": [
      "<class 'pandas.core.frame.DataFrame'>\n",
      "Int64Index: 175683 entries, 0 to 175682\n",
      "Data columns (total 10 columns):\n",
      " #   Column                   Non-Null Count   Dtype \n",
      "---  ------                   --------------   ----- \n",
      " 0   student_id               175683 non-null  object\n",
      " 1   district_id              175683 non-null  int64 \n",
      " 2   ethnicity                175683 non-null  object\n",
      " 3   eco                      175683 non-null  object\n",
      " 4   el                       175683 non-null  object\n",
      " 5   spec_ed                  175683 non-null  object\n",
      " 6   language                 84237 non-null   object\n",
      " 7   lit_screening_benchmark  84237 non-null   object\n",
      " 8   assessment_edition       47600 non-null   object\n",
      " 9   composite_level          47600 non-null   object\n",
      "dtypes: int64(1), object(9)\n",
      "memory usage: 14.7+ MB\n"
     ]
    }
   ],
   "source": [
    "df.info()"
   ]
  },
  {
   "cell_type": "markdown",
   "id": "8d0d8786",
   "metadata": {},
   "source": [
    "# Number Of Missing Values By Column\n",
    "\n",
    "There are many NaN values. Let's count the number of missing values in each column and sort them."
   ]
  },
  {
   "cell_type": "code",
   "execution_count": 434,
   "id": "84a86e2c",
   "metadata": {},
   "outputs": [
    {
     "data": {
      "text/html": [
       "<div>\n",
       "<style scoped>\n",
       "    .dataframe tbody tr th:only-of-type {\n",
       "        vertical-align: middle;\n",
       "    }\n",
       "\n",
       "    .dataframe tbody tr th {\n",
       "        vertical-align: top;\n",
       "    }\n",
       "\n",
       "    .dataframe thead th {\n",
       "        text-align: right;\n",
       "    }\n",
       "</style>\n",
       "<table border=\"1\" class=\"dataframe\">\n",
       "  <thead>\n",
       "    <tr style=\"text-align: right;\">\n",
       "      <th></th>\n",
       "      <th>count</th>\n",
       "      <th>%</th>\n",
       "    </tr>\n",
       "  </thead>\n",
       "  <tbody>\n",
       "    <tr>\n",
       "      <th>student_id</th>\n",
       "      <td>0</td>\n",
       "      <td>0.000000</td>\n",
       "    </tr>\n",
       "    <tr>\n",
       "      <th>district_id</th>\n",
       "      <td>0</td>\n",
       "      <td>0.000000</td>\n",
       "    </tr>\n",
       "    <tr>\n",
       "      <th>ethnicity</th>\n",
       "      <td>0</td>\n",
       "      <td>0.000000</td>\n",
       "    </tr>\n",
       "    <tr>\n",
       "      <th>eco</th>\n",
       "      <td>0</td>\n",
       "      <td>0.000000</td>\n",
       "    </tr>\n",
       "    <tr>\n",
       "      <th>el</th>\n",
       "      <td>0</td>\n",
       "      <td>0.000000</td>\n",
       "    </tr>\n",
       "    <tr>\n",
       "      <th>spec_ed</th>\n",
       "      <td>0</td>\n",
       "      <td>0.000000</td>\n",
       "    </tr>\n",
       "    <tr>\n",
       "      <th>language</th>\n",
       "      <td>91446</td>\n",
       "      <td>52.051707</td>\n",
       "    </tr>\n",
       "    <tr>\n",
       "      <th>lit_screening_benchmark</th>\n",
       "      <td>91446</td>\n",
       "      <td>52.051707</td>\n",
       "    </tr>\n",
       "    <tr>\n",
       "      <th>assessment_edition</th>\n",
       "      <td>128083</td>\n",
       "      <td>72.905745</td>\n",
       "    </tr>\n",
       "    <tr>\n",
       "      <th>composite_level</th>\n",
       "      <td>128083</td>\n",
       "      <td>72.905745</td>\n",
       "    </tr>\n",
       "  </tbody>\n",
       "</table>\n",
       "</div>"
      ],
      "text/plain": [
       "                          count          %\n",
       "student_id                    0   0.000000\n",
       "district_id                   0   0.000000\n",
       "ethnicity                     0   0.000000\n",
       "eco                           0   0.000000\n",
       "el                            0   0.000000\n",
       "spec_ed                       0   0.000000\n",
       "language                  91446  52.051707\n",
       "lit_screening_benchmark   91446  52.051707\n",
       "assessment_edition       128083  72.905745\n",
       "composite_level          128083  72.905745"
      ]
     },
     "execution_count": 434,
     "metadata": {},
     "output_type": "execute_result"
    }
   ],
   "source": [
    "\n",
    "missing = pd.concat([df.isnull().sum(), 100 * df.isnull().mean()], axis=1)\n",
    "missing.columns=['count', '%']\n",
    "missing.sort_values(by='count')"
   ]
  },
  {
   "cell_type": "markdown",
   "id": "09a2fefc",
   "metadata": {},
   "source": [
    "As i suspected there are a lot of NaN values in lit_screening_benchmark and composite_level columns. We are trying to make sense of the data based on these scores so if there is no score in either it can be removed from the dataframe."
   ]
  },
  {
   "cell_type": "code",
   "execution_count": 435,
   "id": "b984d92e",
   "metadata": {},
   "outputs": [],
   "source": [
    "df = df.dropna(subset=['lit_screening_benchmark','composite_level'], how='all')"
   ]
  },
  {
   "cell_type": "markdown",
   "id": "79037dc5",
   "metadata": {},
   "source": [
    "# Component 1 - Drop Spanish language versions of the test\n",
    "\n",
    "We must limit the analysis to students taking the English version of each diagnostic to avoid complications that arise from differences in the English and Spanish versions of mCLASS."
   ]
  },
  {
   "cell_type": "code",
   "execution_count": 436,
   "id": "3f76fdd5",
   "metadata": {},
   "outputs": [
    {
     "data": {
      "text/plain": [
       "DIBELS 8th Edition        42182\n",
       "IDEL Standard 3 Period     5418\n",
       "Name: assessment_edition, dtype: int64"
      ]
     },
     "execution_count": 436,
     "metadata": {},
     "output_type": "execute_result"
    }
   ],
   "source": [
    "#checking values\n",
    "df.assessment_edition.value_counts()"
   ]
  },
  {
   "cell_type": "code",
   "execution_count": 437,
   "id": "c3bdc945",
   "metadata": {},
   "outputs": [
    {
     "data": {
      "text/plain": [
       "English    71032\n",
       "Spanish    13205\n",
       "Name: language, dtype: int64"
      ]
     },
     "execution_count": 437,
     "metadata": {},
     "output_type": "execute_result"
    }
   ],
   "source": [
    "df.language.value_counts()"
   ]
  },
  {
   "cell_type": "code",
   "execution_count": 438,
   "id": "e189d802",
   "metadata": {},
   "outputs": [],
   "source": [
    "#droping Spanish versions\n",
    "df.drop(df.loc[df['assessment_edition']=='IDEL Standard 3 Period'].index,inplace=True)"
   ]
  },
  {
   "cell_type": "code",
   "execution_count": 439,
   "id": "fda14241",
   "metadata": {},
   "outputs": [
    {
     "data": {
      "text/plain": [
       "DIBELS 8th Edition    42182\n",
       "Name: assessment_edition, dtype: int64"
      ]
     },
     "execution_count": 439,
     "metadata": {},
     "output_type": "execute_result"
    }
   ],
   "source": [
    "df.assessment_edition.value_counts()"
   ]
  },
  {
   "cell_type": "code",
   "execution_count": 440,
   "id": "5d344ea7",
   "metadata": {},
   "outputs": [],
   "source": [
    "df.drop(df.loc[df['language']=='Spanish'].index,inplace=True)"
   ]
  },
  {
   "cell_type": "code",
   "execution_count": 441,
   "id": "59399441",
   "metadata": {},
   "outputs": [
    {
     "data": {
      "text/plain": [
       "English    71026\n",
       "Name: language, dtype: int64"
      ]
     },
     "execution_count": 441,
     "metadata": {},
     "output_type": "execute_result"
    }
   ],
   "source": [
    "df.language.value_counts()"
   ]
  },
  {
   "cell_type": "code",
   "execution_count": 442,
   "id": "270ece15",
   "metadata": {},
   "outputs": [],
   "source": [
    "df.drop(['language', 'assessment_edition'],axis=1,inplace=True)\n"
   ]
  },
  {
   "cell_type": "code",
   "execution_count": 443,
   "id": "2d3cb892",
   "metadata": {},
   "outputs": [
    {
     "data": {
      "text/html": [
       "<div>\n",
       "<style scoped>\n",
       "    .dataframe tbody tr th:only-of-type {\n",
       "        vertical-align: middle;\n",
       "    }\n",
       "\n",
       "    .dataframe tbody tr th {\n",
       "        vertical-align: top;\n",
       "    }\n",
       "\n",
       "    .dataframe thead th {\n",
       "        text-align: right;\n",
       "    }\n",
       "</style>\n",
       "<table border=\"1\" class=\"dataframe\">\n",
       "  <thead>\n",
       "    <tr style=\"text-align: right;\">\n",
       "      <th></th>\n",
       "      <th>student_id</th>\n",
       "      <th>district_id</th>\n",
       "      <th>ethnicity</th>\n",
       "      <th>eco</th>\n",
       "      <th>el</th>\n",
       "      <th>spec_ed</th>\n",
       "      <th>lit_screening_benchmark</th>\n",
       "      <th>composite_level</th>\n",
       "    </tr>\n",
       "  </thead>\n",
       "  <tbody>\n",
       "    <tr>\n",
       "      <th>1</th>\n",
       "      <td>885938600</td>\n",
       "      <td>53405</td>\n",
       "      <td>White</td>\n",
       "      <td>YES</td>\n",
       "      <td>NO</td>\n",
       "      <td>NO</td>\n",
       "      <td>On-Track</td>\n",
       "      <td>NaN</td>\n",
       "    </tr>\n",
       "    <tr>\n",
       "      <th>2</th>\n",
       "      <td>871944576</td>\n",
       "      <td>798403</td>\n",
       "      <td>Black or African American</td>\n",
       "      <td>YES</td>\n",
       "      <td>NO</td>\n",
       "      <td>NO</td>\n",
       "      <td>On-Track</td>\n",
       "      <td>NaN</td>\n",
       "    </tr>\n",
       "    <tr>\n",
       "      <th>3</th>\n",
       "      <td>818725252</td>\n",
       "      <td>53405</td>\n",
       "      <td>White</td>\n",
       "      <td>NO</td>\n",
       "      <td>NO</td>\n",
       "      <td>NO</td>\n",
       "      <td>On-Track</td>\n",
       "      <td>NaN</td>\n",
       "    </tr>\n",
       "    <tr>\n",
       "      <th>4</th>\n",
       "      <td>702015143</td>\n",
       "      <td>800409</td>\n",
       "      <td>White</td>\n",
       "      <td>YES</td>\n",
       "      <td>NO</td>\n",
       "      <td>YES</td>\n",
       "      <td>On-Track</td>\n",
       "      <td>NaN</td>\n",
       "    </tr>\n",
       "    <tr>\n",
       "      <th>5</th>\n",
       "      <td>717968813</td>\n",
       "      <td>48403</td>\n",
       "      <td>Two or more races</td>\n",
       "      <td>YES</td>\n",
       "      <td>NO</td>\n",
       "      <td>NO</td>\n",
       "      <td>On-Track</td>\n",
       "      <td>NaN</td>\n",
       "    </tr>\n",
       "  </tbody>\n",
       "</table>\n",
       "</div>"
      ],
      "text/plain": [
       "  student_id  district_id                  ethnicity  eco  el spec_ed  \\\n",
       "1  885938600        53405                      White  YES  NO      NO   \n",
       "2  871944576       798403  Black or African American  YES  NO      NO   \n",
       "3  818725252        53405                      White   NO  NO      NO   \n",
       "4  702015143       800409                      White  YES  NO     YES   \n",
       "5  717968813        48403          Two or more races  YES  NO      NO   \n",
       "\n",
       "  lit_screening_benchmark composite_level  \n",
       "1                On-Track             NaN  \n",
       "2                On-Track             NaN  \n",
       "3                On-Track             NaN  \n",
       "4                On-Track             NaN  \n",
       "5                On-Track             NaN  "
      ]
     },
     "execution_count": 443,
     "metadata": {},
     "output_type": "execute_result"
    }
   ],
   "source": [
    "df.head()"
   ]
  },
  {
   "cell_type": "markdown",
   "id": "fcc7b5c6",
   "metadata": {},
   "source": [
    "# Ensure that no rows have values for both MCLASS and TXKEA assessments"
   ]
  },
  {
   "cell_type": "code",
   "execution_count": 444,
   "id": "845cd328",
   "metadata": {},
   "outputs": [
    {
     "data": {
      "text/html": [
       "<div>\n",
       "<style scoped>\n",
       "    .dataframe tbody tr th:only-of-type {\n",
       "        vertical-align: middle;\n",
       "    }\n",
       "\n",
       "    .dataframe tbody tr th {\n",
       "        vertical-align: top;\n",
       "    }\n",
       "\n",
       "    .dataframe thead th {\n",
       "        text-align: right;\n",
       "    }\n",
       "</style>\n",
       "<table border=\"1\" class=\"dataframe\">\n",
       "  <thead>\n",
       "    <tr style=\"text-align: right;\">\n",
       "      <th></th>\n",
       "      <th>count</th>\n",
       "      <th>%</th>\n",
       "    </tr>\n",
       "  </thead>\n",
       "  <tbody>\n",
       "    <tr>\n",
       "      <th>student_id</th>\n",
       "      <td>0</td>\n",
       "      <td>0.000000</td>\n",
       "    </tr>\n",
       "    <tr>\n",
       "      <th>district_id</th>\n",
       "      <td>0</td>\n",
       "      <td>0.000000</td>\n",
       "    </tr>\n",
       "    <tr>\n",
       "      <th>ethnicity</th>\n",
       "      <td>0</td>\n",
       "      <td>0.000000</td>\n",
       "    </tr>\n",
       "    <tr>\n",
       "      <th>eco</th>\n",
       "      <td>0</td>\n",
       "      <td>0.000000</td>\n",
       "    </tr>\n",
       "    <tr>\n",
       "      <th>el</th>\n",
       "      <td>0</td>\n",
       "      <td>0.000000</td>\n",
       "    </tr>\n",
       "    <tr>\n",
       "      <th>spec_ed</th>\n",
       "      <td>0</td>\n",
       "      <td>0.000000</td>\n",
       "    </tr>\n",
       "    <tr>\n",
       "      <th>lit_screening_benchmark</th>\n",
       "      <td>41852</td>\n",
       "      <td>37.077198</td>\n",
       "    </tr>\n",
       "    <tr>\n",
       "      <th>composite_level</th>\n",
       "      <td>70701</td>\n",
       "      <td>62.634880</td>\n",
       "    </tr>\n",
       "  </tbody>\n",
       "</table>\n",
       "</div>"
      ],
      "text/plain": [
       "                         count          %\n",
       "student_id                   0   0.000000\n",
       "district_id                  0   0.000000\n",
       "ethnicity                    0   0.000000\n",
       "eco                          0   0.000000\n",
       "el                           0   0.000000\n",
       "spec_ed                      0   0.000000\n",
       "lit_screening_benchmark  41852  37.077198\n",
       "composite_level          70701  62.634880"
      ]
     },
     "execution_count": 444,
     "metadata": {},
     "output_type": "execute_result"
    }
   ],
   "source": [
    "missing = pd.concat([df.isnull().sum(), 100 * df.isnull().mean()], axis=1)\n",
    "missing.columns=['count', '%']\n",
    "missing.sort_values(by='count')"
   ]
  },
  {
   "cell_type": "code",
   "execution_count": 445,
   "id": "8aae2e20",
   "metadata": {},
   "outputs": [
    {
     "data": {
      "text/plain": [
       "(112878, 8)"
      ]
     },
     "execution_count": 445,
     "metadata": {},
     "output_type": "execute_result"
    }
   ],
   "source": [
    "df.shape"
   ]
  },
  {
   "cell_type": "markdown",
   "id": "2663db6a",
   "metadata": {},
   "source": [
    "41852 + 70701 does not equal 112878 so it looks like we have students who have taken both assessments. Let's make sure."
   ]
  },
  {
   "cell_type": "code",
   "execution_count": 483,
   "id": "63d41491",
   "metadata": {},
   "outputs": [
    {
     "data": {
      "text/plain": [
       "student_id                      325\n",
       "district_id                     325\n",
       "ethnicity                       325\n",
       "eco                             325\n",
       "el                              325\n",
       "spec_ed                         325\n",
       "lit_screening_benchmark         325\n",
       "composite_level                 325\n",
       "composite_level_code            325\n",
       "lit_screening_benchmark_code    325\n",
       "dtype: int64"
      ]
     },
     "execution_count": 483,
     "metadata": {},
     "output_type": "execute_result"
    }
   ],
   "source": [
    "both = df[df[['lit_screening_benchmark', 'composite_level']].notnull().all(1)]\n",
    "both.count()"
   ]
  },
  {
   "cell_type": "markdown",
   "id": "bf033475",
   "metadata": {},
   "source": [
    "So 325 students have taken both versions of the test. We can also see conflicting results. This is a small sample but could be useful later when comparing the two assessments."
   ]
  },
  {
   "cell_type": "code",
   "execution_count": 484,
   "id": "a6345717",
   "metadata": {},
   "outputs": [
    {
     "data": {
      "image/png": "[encoded data removed]",
      "text/plain": [
       "<Figure size 432x288 with 3 Axes>"
      ]
     },
     "metadata": {
      "needs_background": "light"
     },
     "output_type": "display_data"
    }
   ],
   "source": [
    "mosaic(data=both, index=['lit_screening_benchmark', 'composite_level'])\n",
    "plt.rc('font', size=5)\n",
    "plt.show()"
   ]
  },
  {
   "cell_type": "markdown",
   "id": "3615e070",
   "metadata": {},
   "source": [
    "# Assessment Scoring\n",
    "\n",
    "Let's take a quick look at each assessments outcome."
   ]
  },
  {
   "cell_type": "code",
   "execution_count": 448,
   "id": "86e058d0",
   "metadata": {},
   "outputs": [
    {
     "data": {
      "text/plain": [
       "<AxesSubplot:>"
      ]
     },
     "execution_count": 448,
     "metadata": {},
     "output_type": "execute_result"
    },
    {
     "data": {
      "image/png": "[encoded data removed]",
      "text/plain": [
       "<Figure size 432x288 with 1 Axes>"
      ]
     },
     "metadata": {
      "needs_background": "light"
     },
     "output_type": "display_data"
    }
   ],
   "source": [
    "df.lit_screening_benchmark.hist()"
   ]
  },
  {
   "cell_type": "code",
   "execution_count": 449,
   "id": "c78de7f6",
   "metadata": {},
   "outputs": [
    {
     "data": {
      "text/plain": [
       "<AxesSubplot:>"
      ]
     },
     "execution_count": 449,
     "metadata": {},
     "output_type": "execute_result"
    },
    {
     "data": {
      "image/png": "[encoded data removed]",
      "text/plain": [
       "<Figure size 432x288 with 1 Axes>"
      ]
     },
     "metadata": {
      "needs_background": "light"
     },
     "output_type": "display_data"
    }
   ],
   "source": [
    "df.composite_level.hist()"
   ]
  },
  {
   "cell_type": "markdown",
   "id": "c80539ca",
   "metadata": {},
   "source": [
    "There is a very big difference in the outcomes of either test as is indicated in the instructions."
   ]
  },
  {
   "cell_type": "markdown",
   "id": "2bbf42a5",
   "metadata": {},
   "source": [
    "# Split the dataframes into their own copies \n",
    "\n",
    "It will be easier to examine relationships by redividing dataframes as well as encoding the assessment outcomes."
   ]
  },
  {
   "cell_type": "markdown",
   "id": "143e6c4f",
   "metadata": {},
   "source": [
    "### MCLASS Aseessment"
   ]
  },
  {
   "cell_type": "code",
   "execution_count": 450,
   "id": "4f2b878c",
   "metadata": {},
   "outputs": [],
   "source": [
    "le = preprocessing.LabelEncoder()"
   ]
  },
  {
   "cell_type": "code",
   "execution_count": 451,
   "id": "4e607bd9",
   "metadata": {},
   "outputs": [],
   "source": [
    "df['composite_level_code']= le.fit_transform(df['composite_level'])"
   ]
  },
  {
   "cell_type": "code",
   "execution_count": 452,
   "id": "5887f494",
   "metadata": {},
   "outputs": [],
   "source": [
    "test=df[['composite_level', 'composite_level_code']]\n"
   ]
  },
  {
   "cell_type": "markdown",
   "id": "40b3d60f",
   "metadata": {},
   "source": [
    "### Composite_level_code Legend:\n",
    "Above Benchmark = 0\n",
    "At Benchmark = 1\n",
    "Below Benchmark = 2\n",
    "Well Below Benchmark = 3\n",
    "\n",
    "\n",
    "This scale means that the lower the score, the better that population did on the assessment"
   ]
  },
  {
   "cell_type": "code",
   "execution_count": 453,
   "id": "4cc6aeee",
   "metadata": {},
   "outputs": [],
   "source": [
    "df_composite_level_test = df[df.composite_level_code != 4]"
   ]
  },
  {
   "cell_type": "code",
   "execution_count": 454,
   "id": "ec255729",
   "metadata": {},
   "outputs": [
    {
     "data": {
      "text/plain": [
       "<AxesSubplot:xlabel='ethnicity'>"
      ]
     },
     "execution_count": 454,
     "metadata": {},
     "output_type": "execute_result"
    },
    {
     "data": {
      "image/png": "[encoded data removed]",
      "text/plain": [
       "<Figure size 432x288 with 1 Axes>"
      ]
     },
     "metadata": {
      "needs_background": "light"
     },
     "output_type": "display_data"
    }
   ],
   "source": [
    "(df_composite_level_test.pivot_table(index='ethnicity', columns='eco', values='composite_level_code',\n",
    "                aggfunc='sum')\n",
    "   .plot.bar(stacked=True)\n",
    ")"
   ]
  },
  {
   "cell_type": "code",
   "execution_count": 455,
   "id": "02b1786c",
   "metadata": {},
   "outputs": [
    {
     "data": {
      "text/plain": [
       "<AxesSubplot:xlabel='ethnicity'>"
      ]
     },
     "execution_count": 455,
     "metadata": {},
     "output_type": "execute_result"
    },
    {
     "data": {
      "image/png": "[encoded data removed]",
      "text/plain": [
       "<Figure size 432x288 with 1 Axes>"
      ]
     },
     "metadata": {
      "needs_background": "light"
     },
     "output_type": "display_data"
    }
   ],
   "source": [
    "(df_composite_level_test.pivot_table(index='ethnicity', columns='el', values='composite_level_code',\n",
    "                aggfunc='sum')\n",
    "   .plot.bar(stacked=True)\n",
    ")"
   ]
  },
  {
   "cell_type": "code",
   "execution_count": 456,
   "id": "608e36aa",
   "metadata": {},
   "outputs": [
    {
     "data": {
      "text/plain": [
       "<AxesSubplot:xlabel='ethnicity'>"
      ]
     },
     "execution_count": 456,
     "metadata": {},
     "output_type": "execute_result"
    },
    {
     "data": {
      "image/png": "[encoded data removed]",
      "text/plain": [
       "<Figure size 432x288 with 1 Axes>"
      ]
     },
     "metadata": {
      "needs_background": "light"
     },
     "output_type": "display_data"
    }
   ],
   "source": [
    "(df_composite_level_test.pivot_table(index='ethnicity', columns='spec_ed', values='composite_level_code',\n",
    "                aggfunc='sum')\n",
    "   .plot.bar(stacked=True)\n",
    ")"
   ]
  },
  {
   "cell_type": "markdown",
   "id": "b53ff8c3",
   "metadata": {},
   "source": [
    "### TXKEA Assessment"
   ]
  },
  {
   "cell_type": "code",
   "execution_count": 486,
   "id": "672ec73c",
   "metadata": {},
   "outputs": [],
   "source": [
    "#encoder = OrdinalEncoder()"
   ]
  },
  {
   "cell_type": "code",
   "execution_count": 492,
   "id": "253af45e",
   "metadata": {},
   "outputs": [],
   "source": [
    "#df['lit_screening_benchmark_code']= oe.fit_transform(df['lit_screening_benchmark'])"
   ]
  },
  {
   "cell_type": "code",
   "execution_count": 493,
   "id": "aa85cc97",
   "metadata": {},
   "outputs": [],
   "source": [
    "test2=df[['lit_screening_benchmark', 'lit_screening_benchmark_code']]\n"
   ]
  },
  {
   "cell_type": "code",
   "execution_count": 494,
   "id": "c8f26430",
   "metadata": {},
   "outputs": [],
   "source": [
    "#df_lit_screening_benchmark_test = df[df.lit_screening_benchmark_code != 3]\n",
    "#df_lit_screening_benchmark_test"
   ]
  },
  {
   "cell_type": "markdown",
   "id": "c0874d30",
   "metadata": {},
   "source": [
    "### lit_screening_benchmark_code Legend:\n",
    "Monitor = 0\n",
    "On-Track = 1\n",
    "Support = 2\n",
    "\n",
    "\n",
    "\n",
    "This scale means that the lower the score, the better that population did on the assessment"
   ]
  },
  {
   "cell_type": "code",
   "execution_count": null,
   "id": "9dee107f",
   "metadata": {},
   "outputs": [],
   "source": []
  },
  {
   "cell_type": "code",
   "execution_count": null,
   "id": "fe8ae6c5",
   "metadata": {},
   "outputs": [],
   "source": []
  },
  {
   "cell_type": "code",
   "execution_count": null,
   "id": "b1c6e6c1",
   "metadata": {},
   "outputs": [],
   "source": []
  },
  {
   "cell_type": "markdown",
   "id": "6bdf57d1",
   "metadata": {},
   "source": [
    "# Classifying columns"
   ]
  },
  {
   "cell_type": "code",
   "execution_count": 142,
   "id": "57930f2a",
   "metadata": {},
   "outputs": [
    {
     "data": {
      "text/plain": [
       "array([nan, 'Below Benchmark', 'Well Below Benchmark', 'At Benchmark',\n",
       "       'Above Benchmark'], dtype=object)"
      ]
     },
     "execution_count": 142,
     "metadata": {},
     "output_type": "execute_result"
    }
   ],
   "source": [
    "df.composite_level.unique()"
   ]
  },
  {
   "cell_type": "markdown",
   "id": "e89b46ce",
   "metadata": {},
   "source": [
    "Let's look at the demographics or each outcome of the MCLASS assessment"
   ]
  },
  {
   "cell_type": "markdown",
   "id": "2599cdad",
   "metadata": {},
   "source": [
    "mclass_wbb = df[df['composite_level'] == 'Well Below Benchmark']\n",
    "mclass_bb = df[df['composite_level'] == 'Below Benchmark']\n",
    "mclass_atb = df[df['composite_level'] == 'At Benchmark']\n",
    "mclass_abb = df[df['composite_level'] == 'Above Benchmark']"
   ]
  },
  {
   "cell_type": "code",
   "execution_count": 159,
   "id": "961e574f",
   "metadata": {},
   "outputs": [
    {
     "data": {
      "text/plain": [
       "array(['On-Track', 'Support', 'Monitor', nan], dtype=object)"
      ]
     },
     "execution_count": 159,
     "metadata": {},
     "output_type": "execute_result"
    }
   ],
   "source": [
    "df.lit_screening_benchmark.unique()"
   ]
  },
  {
   "cell_type": "markdown",
   "id": "1a028245",
   "metadata": {},
   "source": [
    "txkea_ot = df[df['lit_screening_benchmark'] == 'On-Track']\n",
    "txkea_spt = df[df['lit_screening_benchmark'] == 'Support']\n",
    "txkea_mntr = df[df['lit_screening_benchmark'] == 'Monitor']"
   ]
  },
  {
   "cell_type": "code",
   "execution_count": 191,
   "id": "667107d5",
   "metadata": {},
   "outputs": [
    {
     "data": {
      "text/plain": [
       "composite_level\n",
       "Above Benchmark          8620\n",
       "At Benchmark             6549\n",
       "Below Benchmark          8098\n",
       "Well Below Benchmark    18910\n",
       "dtype: int64"
      ]
     },
     "execution_count": 191,
     "metadata": {},
     "output_type": "execute_result"
    }
   ],
   "source": [
    "df.groupby('composite_level').size()"
   ]
  },
  {
   "cell_type": "code",
   "execution_count": 192,
   "id": "69b64010",
   "metadata": {},
   "outputs": [],
   "source": [
    "\n"
   ]
  },
  {
   "cell_type": "code",
   "execution_count": null,
   "id": "20351218",
   "metadata": {},
   "outputs": [],
   "source": []
  },
  {
   "cell_type": "code",
   "execution_count": null,
   "id": "2141b704",
   "metadata": {},
   "outputs": [],
   "source": []
  },
  {
   "cell_type": "code",
   "execution_count": null,
   "id": "6bde47cc",
   "metadata": {},
   "outputs": [],
   "source": []
  },
  {
   "cell_type": "code",
   "execution_count": null,
   "id": "aa237450",
   "metadata": {},
   "outputs": [],
   "source": []
  },
  {
   "cell_type": "markdown",
   "id": "e1f22f9d",
   "metadata": {},
   "source": [
    "Perhaps it would be more useful to examine these two outcomes based on the information found in the DEMO file."
   ]
  },
  {
   "cell_type": "code",
   "execution_count": 128,
   "id": "16dc6aff",
   "metadata": {},
   "outputs": [],
   "source": [
    "mclass_ethnicity = df.groupby('ethnicity').composite_level.value_counts(normalize=True)\n",
    "txkea_ethnicity = df.groupby('ethnicity').lit_screening_benchmark.value_counts(normalize=True)"
   ]
  },
  {
   "cell_type": "code",
   "execution_count": 129,
   "id": "a9dcc9de",
   "metadata": {},
   "outputs": [],
   "source": [
    "mclass_eco = df.groupby('eco').composite_level.value_counts(normalize=True)\n",
    "txkea_eco = df.groupby('eco').lit_screening_benchmark.value_counts(normalize=True)"
   ]
  },
  {
   "cell_type": "code",
   "execution_count": 130,
   "id": "a07877ef",
   "metadata": {},
   "outputs": [],
   "source": [
    "mclass_spec_ed = df.groupby('spec_ed').composite_level.value_counts(normalize=True)\n",
    "txkea_spec_ed = df.groupby('spec_ed').lit_screening_benchmark.value_counts(normalize=True)"
   ]
  },
  {
   "cell_type": "code",
   "execution_count": 134,
   "id": "28a9d85a",
   "metadata": {},
   "outputs": [],
   "source": [
    "mclass_el = df.groupby('el').composite_level.value_counts(normalize=True)\n",
    "txkea_el = df.groupby('el').lit_screening_benchmark.value_counts(normalize=True)"
   ]
  },
  {
   "cell_type": "code",
   "execution_count": 499,
   "id": "4655573a",
   "metadata": {},
   "outputs": [
    {
     "name": "stdout",
     "output_type": "stream",
     "text": [
      "eco  composite_level     \n",
      "NO   Above Benchmark         0.323933\n",
      "     Well Below Benchmark    0.292462\n",
      "     At Benchmark            0.192970\n",
      "     Below Benchmark         0.190635\n",
      "YES  Well Below Benchmark    0.554930\n",
      "     Below Benchmark         0.192934\n",
      "     At Benchmark            0.129501\n",
      "     Above Benchmark         0.122635\n",
      "Name: composite_level, dtype: float64\n",
      "\n",
      "eco  lit_screening_benchmark\n",
      "NO   On-Track                   0.862117\n",
      "     Support                    0.073856\n",
      "     Monitor                    0.064027\n",
      "YES  On-Track                   0.679602\n",
      "     Support                    0.205877\n",
      "     Monitor                    0.114521\n",
      "Name: lit_screening_benchmark, dtype: float64\n"
     ]
    }
   ],
   "source": [
    "print(mclass_eco)\n",
    "print(\"\")\n",
    "print(txkea_eco)"
   ]
  },
  {
   "cell_type": "code",
   "execution_count": null,
   "id": "7e94f067",
   "metadata": {},
   "outputs": [],
   "source": []
  },
  {
   "cell_type": "code",
   "execution_count": null,
   "id": "7868d6fa",
   "metadata": {},
   "outputs": [],
   "source": []
  },
  {
   "cell_type": "code",
   "execution_count": null,
   "id": "5302f8b1",
   "metadata": {},
   "outputs": [],
   "source": []
  },
  {
   "cell_type": "code",
   "execution_count": null,
   "id": "554f8493",
   "metadata": {},
   "outputs": [],
   "source": []
  },
  {
   "cell_type": "code",
   "execution_count": null,
   "id": "9e4cb177",
   "metadata": {},
   "outputs": [],
   "source": []
  },
  {
   "cell_type": "code",
   "execution_count": null,
   "id": "ef741a68",
   "metadata": {},
   "outputs": [],
   "source": []
  },
  {
   "cell_type": "code",
   "execution_count": null,
   "id": "67d4f11a",
   "metadata": {},
   "outputs": [],
   "source": []
  },
  {
   "cell_type": "code",
   "execution_count": null,
   "id": "b85b0f46",
   "metadata": {},
   "outputs": [],
   "source": []
  },
  {
   "cell_type": "code",
   "execution_count": null,
   "id": "04a58455",
   "metadata": {},
   "outputs": [],
   "source": []
  },
  {
   "cell_type": "code",
   "execution_count": null,
   "id": "11df0502",
   "metadata": {},
   "outputs": [],
   "source": []
  },
  {
   "cell_type": "markdown",
   "id": "35a8c041",
   "metadata": {},
   "source": []
  },
  {
   "cell_type": "code",
   "execution_count": null,
   "id": "25b25c51",
   "metadata": {},
   "outputs": [],
   "source": []
  },
  {
   "cell_type": "code",
   "execution_count": 266,
   "id": "78497771",
   "metadata": {},
   "outputs": [],
   "source": []
  }
 ],
 "metadata": {
  "kernelspec": {
   "display_name": "Python 3 (ipykernel)",
   "language": "python",
   "name": "python3"
  },
  "language_info": {
   "codemirror_mode": {
    "name": "ipython",
    "version": 3
   },
   "file_extension": ".py",
   "mimetype": "text/x-python",
   "name": "python",
   "nbconvert_exporter": "python",
   "pygments_lexer": "ipython3",
   "version": "3.9.7"
  }
 },
 "nbformat": 4,
 "nbformat_minor": 5
}
